{
 "cells": [
  {
   "cell_type": "markdown",
   "metadata": {},
   "source": [
    "# Financial Planning with APIs and Simulations\n",
    "\n",
    "In this Challenge, you’ll create two financial analysis tools by using a single Jupyter notebook:\n",
    "\n",
    "Part 1: A financial planner for emergencies. The members will be able to use this tool to visualize their current savings. The members can then determine if they have enough reserves for an emergency fund.\n",
    "\n",
    "Part 2: A financial planner for retirement. This tool will forecast the performance of their retirement portfolio in 30 years. To do this, the tool will make an Alpaca API call via the Alpaca SDK to get historical price data for use in Monte Carlo simulations.\n",
    "\n",
    "You’ll use the information from the Monte Carlo simulation to answer questions about the portfolio in your Jupyter notebook.\n",
    "\n"
   ]
  },
  {
   "cell_type": "code",
   "execution_count": 1,
   "metadata": {},
   "outputs": [],
   "source": [
    "# Import the required libraries and dependencies\n",
    "import os\n",
    "import requests\n",
    "import json\n",
    "import pandas as pd\n",
    "from dotenv import load_dotenv\n",
    "import alpaca_trade_api as tradeapi\n",
    "from MCForecastTools import MCSimulation\n",
    "import datetime as dt\n",
    "import numpy as np\n",
    "%matplotlib inline"
   ]
  },
  {
   "cell_type": "code",
   "execution_count": 2,
   "metadata": {},
   "outputs": [
    {
     "data": {
      "text/plain": [
       "True"
      ]
     },
     "execution_count": 2,
     "metadata": {},
     "output_type": "execute_result"
    }
   ],
   "source": [
    "# Load the environment variables from the .env file\n",
    "#by calling the load_dotenv function\n",
    "load_dotenv(\"api.env\")"
   ]
  },
  {
   "cell_type": "markdown",
   "metadata": {},
   "source": [
    "## Part 1: Create a Financial Planner for Emergencies"
   ]
  },
  {
   "cell_type": "markdown",
   "metadata": {},
   "source": [
    "### Evaluate the Cryptocurrency Wallet by Using the Requests Library\n",
    "\n",
    "In this section, you’ll determine the current value of a member’s cryptocurrency wallet. You’ll collect the current prices for the Bitcoin and Ethereum cryptocurrencies by using the Python Requests library. For the prototype, you’ll assume that the member holds the 1.2 Bitcoins (BTC) and 5.3 Ethereum coins (ETH). To do all this, complete the following steps:\n",
    "\n",
    "1. Create a variable named `monthly_income`, and set its value to `12000`.\n",
    "\n",
    "2. Use the Requests library to get the current price (in US dollars) of Bitcoin (BTC) and Ethereum (ETH) by using the API endpoints that the starter code supplies.\n",
    "\n",
    "3. Navigate the JSON response object to access the current price of each coin, and store each in a variable.\n",
    "\n",
    "    > **Hint** Note the specific identifier for each cryptocurrency in the API JSON response. The Bitcoin identifier is `1`, and the Ethereum identifier is `1027`.\n",
    "\n",
    "4. Calculate the value, in US dollars, of the current amount of each cryptocurrency and of the entire cryptocurrency wallet.\n",
    "\n"
   ]
  },
  {
   "cell_type": "code",
   "execution_count": 3,
   "metadata": {},
   "outputs": [],
   "source": [
    "# The current number of coins for each cryptocurrency asset held in the portfolio.\n",
    "btc_coins = 1.2\n",
    "eth_coins = 5.3"
   ]
  },
  {
   "cell_type": "markdown",
   "metadata": {},
   "source": [
    "#### Step 1: Create a variable named `monthly_income`, and set its value to `12000`."
   ]
  },
  {
   "cell_type": "code",
   "execution_count": 4,
   "metadata": {},
   "outputs": [],
   "source": [
    "# The monthly amount for the member's household income\n",
    "monthly_income=12000"
   ]
  },
  {
   "cell_type": "markdown",
   "metadata": {},
   "source": [
    "#### Review the endpoint URLs for the API calls to Free Crypto API in order to get the current pricing information for both BTC and ETH."
   ]
  },
  {
   "cell_type": "code",
   "execution_count": 5,
   "metadata": {},
   "outputs": [],
   "source": [
    "# The Free Crypto API Call endpoint URLs for the held cryptocurrency assets\n",
    "btc_url = \"https://api.alternative.me/v2/ticker/Bitcoin/?convert=USD\"\n",
    "eth_url = \"https://api.alternative.me/v2/ticker/Ethereum/?convert=USD\""
   ]
  },
  {
   "cell_type": "markdown",
   "metadata": {},
   "source": [
    "#### Step 2. Use the Requests library to get the current price (in US dollars) of Bitcoin (BTC) and Ethereum (ETH) by using the API endpoints that the starter code supplied."
   ]
  },
  {
   "cell_type": "code",
   "execution_count": 6,
   "metadata": {},
   "outputs": [
    {
     "name": "stdout",
     "output_type": "stream",
     "text": [
      "{\n",
      "   \"data\": {\n",
      "      \"1\": {\n",
      "         \"id\": 1,\n",
      "         \"name\": \"Bitcoin\",\n",
      "         \"symbol\": \"BTC\",\n",
      "         \"website_slug\": \"bitcoin\",\n",
      "         \"rank\": 1,\n",
      "         \"circulating_supply\": 18845787,\n",
      "         \"total_supply\": 18845787,\n",
      "         \"max_supply\": 21000000,\n",
      "         \"quotes\": {\n",
      "            \"USD\": {\n",
      "               \"price\": 61443.0,\n",
      "               \"volume_24h\": 34490936329,\n",
      "               \"market_cap\": 1156723286033,\n",
      "               \"percentage_change_1h\": 0.508663297547498,\n",
      "               \"percentage_change_24h\": -0.621337455262454,\n",
      "               \"percentage_change_7d\": 11.4607584837284,\n",
      "               \"percent_change_1h\": 0.508663297547498,\n",
      "               \"percent_change_24h\": -0.621337455262454,\n",
      "               \"percent_change_7d\": 11.4607584837284\n",
      "            }\n",
      "         },\n",
      "         \"last_updated\": 1634440143\n",
      "      }\n",
      "   },\n",
      "   \"metadata\": {\n",
      "      \"timestamp\": 1634440143,\n",
      "      \"num_cryptocurrencies\": 3105,\n",
      "      \"error\": null\n",
      "   }\n",
      "}\n"
     ]
    }
   ],
   "source": [
    "# Using the Python requests library, make an API call to access the current price of BTC\n",
    "btc_response = requests.get(btc_url).json()\n",
    "\n",
    "# Use the json.dumps function to review the response data from the API call\n",
    "# Use the indent and sort_keys parameters to make the response object readable\n",
    "print(json.dumps(btc_response, indent=3))\n"
   ]
  },
  {
   "cell_type": "code",
   "execution_count": 7,
   "metadata": {},
   "outputs": [
    {
     "name": "stdout",
     "output_type": "stream",
     "text": [
      "{\n",
      "   \"data\": {\n",
      "      \"1027\": {\n",
      "         \"id\": 1027,\n",
      "         \"name\": \"Ethereum\",\n",
      "         \"symbol\": \"ETH\",\n",
      "         \"website_slug\": \"ethereum\",\n",
      "         \"rank\": 2,\n",
      "         \"circulating_supply\": 117958022,\n",
      "         \"total_supply\": 117958022,\n",
      "         \"max_supply\": 0,\n",
      "         \"quotes\": {\n",
      "            \"USD\": {\n",
      "               \"price\": 3872.29,\n",
      "               \"volume_24h\": 17884897971,\n",
      "               \"market_cap\": 456830787511,\n",
      "               \"percentage_change_1h\": 0.514651623552736,\n",
      "               \"percentage_change_24h\": 0.155765954383769,\n",
      "               \"percentage_change_7d\": 7.92098754004624,\n",
      "               \"percent_change_1h\": 0.514651623552736,\n",
      "               \"percent_change_24h\": 0.155765954383769,\n",
      "               \"percent_change_7d\": 7.92098754004624\n",
      "            }\n",
      "         },\n",
      "         \"last_updated\": 1634440156\n",
      "      }\n",
      "   },\n",
      "   \"metadata\": {\n",
      "      \"timestamp\": 1634440156,\n",
      "      \"num_cryptocurrencies\": 3105,\n",
      "      \"error\": null\n",
      "   }\n",
      "}\n"
     ]
    }
   ],
   "source": [
    "# Using the Python requests library, make an API call to access the current price ETH\n",
    "eth_response = requests.get(eth_url).json()\n",
    "\n",
    "# Use the json.dumps function to review the response data from the API call\n",
    "# Use the indent and sort_keys parameters to make the response object readable\n",
    "print(json.dumps(eth_response, indent=3))\n"
   ]
  },
  {
   "cell_type": "markdown",
   "metadata": {},
   "source": [
    "#### Step 3: Navigate the JSON response object to access the current price of each coin, and store each in a variable."
   ]
  },
  {
   "cell_type": "code",
   "execution_count": 8,
   "metadata": {},
   "outputs": [
    {
     "name": "stdout",
     "output_type": "stream",
     "text": [
      "BTC price=61,443.00\n"
     ]
    }
   ],
   "source": [
    "# Navigate the BTC response object to access the current price of BTC\n",
    "btc_price = btc_response['data'][\"1\"]['quotes']['USD']['price']\n",
    "\n",
    "# Print the current price of BTC\n",
    "print (f\"BTC price={btc_price:,.2f}\")\n"
   ]
  },
  {
   "cell_type": "code",
   "execution_count": 9,
   "metadata": {},
   "outputs": [
    {
     "name": "stdout",
     "output_type": "stream",
     "text": [
      "ETH price=3,872.29\n"
     ]
    }
   ],
   "source": [
    "# Navigate the BTC response object to access the current price of ETH\n",
    "eth_price = eth_response['data'][\"1027\"]['quotes']['USD']['price']\n",
    "\n",
    "# Print the current price of ETH\n",
    "print (f\"ETH price={eth_price:,.2f}\")\n"
   ]
  },
  {
   "cell_type": "markdown",
   "metadata": {},
   "source": [
    "### Step 4: Calculate the value, in US dollars, of the current amount of each cryptocurrency and of the entire cryptocurrency wallet."
   ]
  },
  {
   "cell_type": "code",
   "execution_count": 10,
   "metadata": {},
   "outputs": [
    {
     "name": "stdout",
     "output_type": "stream",
     "text": [
      "BTC value = 73,731.60\n"
     ]
    }
   ],
   "source": [
    "# Compute the current value of the BTC holding \n",
    "btc_value = btc_coins*btc_price\n",
    "\n",
    "# Print current value of your holding in BTC\n",
    "print(f\"BTC value = {btc_value:,.2f}\")\n"
   ]
  },
  {
   "cell_type": "code",
   "execution_count": 11,
   "metadata": {},
   "outputs": [
    {
     "name": "stdout",
     "output_type": "stream",
     "text": [
      "ETH value = 20,523.14\n"
     ]
    }
   ],
   "source": [
    "# Compute the current value of the ETH holding \n",
    "eth_value = eth_coins*eth_price\n",
    "\n",
    "# Print current value of your holding in ETH\n",
    "print(f\"ETH value = {eth_value:,.2f}\")\n"
   ]
  },
  {
   "cell_type": "code",
   "execution_count": 12,
   "metadata": {},
   "outputs": [
    {
     "name": "stdout",
     "output_type": "stream",
     "text": [
      "Crypto Wallet value = 94,254.74\n"
     ]
    }
   ],
   "source": [
    "# Compute the total value of the cryptocurrency wallet\n",
    "# Add the value of the BTC holding to the value of the ETH holding\n",
    "total_crypto_wallet = btc_value + eth_value\n",
    "\n",
    "# Print current cryptocurrency wallet balance\n",
    "print(f\"Crypto Wallet value = {total_crypto_wallet:,.2f}\")\n"
   ]
  },
  {
   "cell_type": "markdown",
   "metadata": {},
   "source": [
    "### Evaluate the Stock and Bond Holdings by Using the Alpaca SDK\n",
    "\n",
    "In this section, you’ll determine the current value of a member’s stock and bond holdings. You’ll make an API call to Alpaca via the Alpaca SDK to get the current closing prices of the SPDR S&P 500 ETF Trust (ticker: SPY) and of the iShares Core US Aggregate Bond ETF (ticker: AGG). For the prototype, assume that the member holds 110 shares of SPY, which represents the stock portion of their portfolio, and 200 shares of AGG, which represents the bond portion. To do all this, complete the following steps:\n",
    "\n",
    "1. In the `Starter_Code` folder, create an environment file (`.env`) to store the values of your Alpaca API key and Alpaca secret key.\n",
    "\n",
    "2. Set the variables for the Alpaca API and secret keys. Using the Alpaca SDK, create the Alpaca `tradeapi.REST` object. In this object, include the parameters for the Alpaca API key, the secret key, and the version number.\n",
    "\n",
    "3. Set the following parameters for the Alpaca API call:\n",
    "\n",
    "    - `tickers`: Use the tickers for the member’s stock and bond holdings.\n",
    "\n",
    "    - `timeframe`: Use a time frame of one day.\n",
    "\n",
    "    - `start_date` and `end_date`: Use the same date for these parameters, and format them with the date of the previous weekday (or `2020-08-07`). This is because you want the one closing price for the most-recent trading day.\n",
    "\n",
    "4. Get the current closing prices for `SPY` and `AGG` by using the Alpaca `get_barset` function. Format the response as a Pandas DataFrame by including the `df` property at the end of the `get_barset` function.\n",
    "\n",
    "5. Navigating the Alpaca response DataFrame, select the `SPY` and `AGG` closing prices, and store them as variables.\n",
    "\n",
    "6. Calculate the value, in US dollars, of the current amount of shares in each of the stock and bond portions of the portfolio, and print the results.\n"
   ]
  },
  {
   "cell_type": "markdown",
   "metadata": {},
   "source": [
    "#### Review the total number of shares held in both (SPY) and (AGG)."
   ]
  },
  {
   "cell_type": "code",
   "execution_count": 13,
   "metadata": {},
   "outputs": [],
   "source": [
    "# Current amount of shares held in both the stock (SPY) and bond (AGG) portion of the portfolio.\n",
    "spy_shares = 110\n",
    "agg_shares = 200\n"
   ]
  },
  {
   "cell_type": "markdown",
   "metadata": {},
   "source": [
    "#### Step 1: In the `Starter_Code` folder, create an environment file (`.env`) to store the values of your Alpaca API key and Alpaca secret key."
   ]
  },
  {
   "cell_type": "markdown",
   "metadata": {},
   "source": [
    "#### Step 2: Set the variables for the Alpaca API and secret keys. Using the Alpaca SDK, create the Alpaca `tradeapi.REST` object. In this object, include the parameters for the Alpaca API key, the secret key, and the version number."
   ]
  },
  {
   "cell_type": "code",
   "execution_count": 14,
   "metadata": {},
   "outputs": [],
   "source": [
    "# Set the variables for the Alpaca API and secret keys\n",
    "alpaca_api_key = os.getenv(\"ALPACA_API_KEY\")\n",
    "alpaca_secret_key = os.getenv(\"ALPACA_SECRET_KEY\")\n",
    "\n",
    "# Create the Alpaca tradeapi.REST object\n",
    "alpaca = tradeapi.REST(\n",
    "    alpaca_api_key,\n",
    "    alpaca_secret_key,\n",
    "    api_version=\"v2\"\n",
    ")\n"
   ]
  },
  {
   "cell_type": "markdown",
   "metadata": {},
   "source": [
    "#### Step 3: Set the following parameters for the Alpaca API call:\n",
    "\n",
    "- `tickers`: Use the tickers for the member’s stock and bond holdings.\n",
    "\n",
    "- `timeframe`: Use a time frame of one day.\n",
    "\n",
    "- `start_date` and `end_date`: Use the same date for these parameters, and format them with the date of the previous weekday (or `2020-08-07`). This is because you want the one closing price for the most-recent trading day.\n"
   ]
  },
  {
   "cell_type": "code",
   "execution_count": 15,
   "metadata": {},
   "outputs": [
    {
     "name": "stdout",
     "output_type": "stream",
     "text": [
      "Tickers = ['SPY', 'AGG'] timeframe=1D start_date=2021-10-15T00:00:00-04:00 endDate=2021-10-15T00:00:00-04:00\n"
     ]
    }
   ],
   "source": [
    "# Set the tickers for both the bond and stock portion of the portfolio\n",
    "tickers=[\"SPY\",\"AGG\"]\n",
    "\n",
    "# Set timeframe to 1D \n",
    "timeframe=\"1D\"\n",
    "\n",
    "# Format current date as ISO format\n",
    "# Set both the start and end date at the date of your prior weekday \n",
    "# This will give you the closing price of the previous trading day\n",
    "# Alternatively you can use a start and end date of 2020-08-07\n",
    "start_date = pd.Timestamp(\"2021-10-15\", tz=\"America/New_York\").isoformat()\n",
    "end_date = pd.Timestamp(\"2021-10-15\", tz=\"America/New_York\").isoformat()\n",
    "print (f\"Tickers = {tickers} timeframe={timeframe} start_date={start_date} endDate={end_date}\")"
   ]
  },
  {
   "cell_type": "markdown",
   "metadata": {},
   "source": [
    "#### Step 4: Get the current closing prices for `SPY` and `AGG` by using the Alpaca `get_barset` function. Format the response as a Pandas DataFrame by including the `df` property at the end of the `get_barset` function."
   ]
  },
  {
   "cell_type": "code",
   "execution_count": 16,
   "metadata": {},
   "outputs": [
    {
     "data": {
      "text/html": [
       "<div>\n",
       "<style scoped>\n",
       "    .dataframe tbody tr th:only-of-type {\n",
       "        vertical-align: middle;\n",
       "    }\n",
       "\n",
       "    .dataframe tbody tr th {\n",
       "        vertical-align: top;\n",
       "    }\n",
       "\n",
       "    .dataframe thead tr th {\n",
       "        text-align: left;\n",
       "    }\n",
       "\n",
       "    .dataframe thead tr:last-of-type th {\n",
       "        text-align: right;\n",
       "    }\n",
       "</style>\n",
       "<table border=\"1\" class=\"dataframe\">\n",
       "  <thead>\n",
       "    <tr>\n",
       "      <th></th>\n",
       "      <th colspan=\"5\" halign=\"left\">AGG</th>\n",
       "      <th colspan=\"5\" halign=\"left\">SPY</th>\n",
       "    </tr>\n",
       "    <tr>\n",
       "      <th></th>\n",
       "      <th>open</th>\n",
       "      <th>high</th>\n",
       "      <th>low</th>\n",
       "      <th>close</th>\n",
       "      <th>volume</th>\n",
       "      <th>open</th>\n",
       "      <th>high</th>\n",
       "      <th>low</th>\n",
       "      <th>close</th>\n",
       "      <th>volume</th>\n",
       "    </tr>\n",
       "    <tr>\n",
       "      <th>time</th>\n",
       "      <th></th>\n",
       "      <th></th>\n",
       "      <th></th>\n",
       "      <th></th>\n",
       "      <th></th>\n",
       "      <th></th>\n",
       "      <th></th>\n",
       "      <th></th>\n",
       "      <th></th>\n",
       "      <th></th>\n",
       "    </tr>\n",
       "  </thead>\n",
       "  <tbody>\n",
       "    <tr>\n",
       "      <th>2021-10-15 00:00:00-04:00</th>\n",
       "      <td>114.61</td>\n",
       "      <td>114.63</td>\n",
       "      <td>114.51</td>\n",
       "      <td>114.56</td>\n",
       "      <td>3829388</td>\n",
       "      <td>444.76</td>\n",
       "      <td>446.26</td>\n",
       "      <td>444.09</td>\n",
       "      <td>445.83</td>\n",
       "      <td>55980388</td>\n",
       "    </tr>\n",
       "  </tbody>\n",
       "</table>\n",
       "</div>"
      ],
      "text/plain": [
       "                              AGG                                      SPY  \\\n",
       "                             open    high     low   close   volume    open   \n",
       "time                                                                         \n",
       "2021-10-15 00:00:00-04:00  114.61  114.63  114.51  114.56  3829388  444.76   \n",
       "\n",
       "                                                             \n",
       "                             high     low   close    volume  \n",
       "time                                                         \n",
       "2021-10-15 00:00:00-04:00  446.26  444.09  445.83  55980388  "
      ]
     },
     "execution_count": 16,
     "metadata": {},
     "output_type": "execute_result"
    }
   ],
   "source": [
    "# Use the Alpaca get_barset function to get current closing prices the portfolio\n",
    "# Be sure to set the `df` property after the function to format the response object as a DataFrame\n",
    "limit_rows=1000\n",
    "ticker_data = alpaca.get_barset(\n",
    "    tickers,\n",
    "    timeframe,\n",
    "    start=start_date,\n",
    "    end=end_date,\n",
    "    limit=limit_rows\n",
    ").df\n",
    "\n",
    "# Review the first 5 rows of the Alpaca DataFrame\n",
    "ticker_data.head()\n"
   ]
  },
  {
   "cell_type": "markdown",
   "metadata": {},
   "source": [
    "#### Step 5: Navigating the Alpaca response DataFrame, select the `SPY` and `AGG` closing prices, and store them as variables."
   ]
  },
  {
   "cell_type": "code",
   "execution_count": 17,
   "metadata": {},
   "outputs": [
    {
     "name": "stdout",
     "output_type": "stream",
     "text": [
      "AGG close price=114.56\n"
     ]
    }
   ],
   "source": [
    "# Access the closing price for AGG from the Alpaca DataFrame\n",
    "# Converting the value to a floating point number\n",
    "agg_close_price = ticker_data['AGG']['close'][0].astype(np.float64)\n",
    "\n",
    "# Print the AGG closing price\n",
    "print(f\"AGG close price={agg_close_price:,.2f}\")\n"
   ]
  },
  {
   "cell_type": "code",
   "execution_count": 18,
   "metadata": {},
   "outputs": [
    {
     "name": "stdout",
     "output_type": "stream",
     "text": [
      "SPY close price=445.83\n"
     ]
    }
   ],
   "source": [
    "# Access the closing price for SPY from the Alpaca DataFrame\n",
    "# Converting the value to a floating point number\n",
    "spy_close_price = ticker_data['SPY']['close'][0].astype(np.float64)\n",
    "\n",
    "# Print the SPY closing price\n",
    "print (f\"SPY close price={spy_close_price:,.2f}\")\n"
   ]
  },
  {
   "cell_type": "markdown",
   "metadata": {},
   "source": [
    "#### Step 6: Calculate the value, in US dollars, of the current amount of shares in each of the stock and bond portions of the portfolio, and print the results."
   ]
  },
  {
   "cell_type": "code",
   "execution_count": 19,
   "metadata": {},
   "outputs": [
    {
     "name": "stdout",
     "output_type": "stream",
     "text": [
      "Current value of bond portfolio=$22,912.00\n"
     ]
    }
   ],
   "source": [
    "# Calculate the current value of the bond portion of the portfolio\n",
    "agg_value = agg_shares * agg_close_price\n",
    "\n",
    "# Print the current value of the bond portfolio\n",
    "print (f\"Current value of bond portfolio=${agg_value:,.2f}\")\n"
   ]
  },
  {
   "cell_type": "code",
   "execution_count": 20,
   "metadata": {},
   "outputs": [
    {
     "name": "stdout",
     "output_type": "stream",
     "text": [
      "Current value of stock portfolio=$49,041.30\n"
     ]
    }
   ],
   "source": [
    "# Calculate the current value of the stock portion of the portfolio\n",
    "spy_value = spy_shares * spy_close_price\n",
    "\n",
    "# Print the current value of the stock portfolio\n",
    "print (f\"Current value of stock portfolio=${spy_value:,.2f}\")\n"
   ]
  },
  {
   "cell_type": "code",
   "execution_count": 21,
   "metadata": {},
   "outputs": [
    {
     "name": "stdout",
     "output_type": "stream",
     "text": [
      "Current value of stock and bond portfolio=$71,953.30\n"
     ]
    }
   ],
   "source": [
    "# Calculate the total value of the stock and bond portion of the portfolio\n",
    "total_stocks_bonds = agg_value + spy_value\n",
    "\n",
    "# Print the current balance of the stock and bond portion of the portfolio\n",
    "print (f\"Current value of stock and bond portfolio=${total_stocks_bonds:,.2f}\")\n"
   ]
  },
  {
   "cell_type": "code",
   "execution_count": 22,
   "metadata": {},
   "outputs": [
    {
     "name": "stdout",
     "output_type": "stream",
     "text": [
      "Total portfolio value=$166,208.04\n"
     ]
    }
   ],
   "source": [
    "# Calculate the total value of the member's entire savings portfolio\n",
    "# Add the value of the cryptocurrency walled to the value of the total stocks and bonds\n",
    "total_portfolio = total_stocks_bonds + total_crypto_wallet\n",
    "\n",
    "# Print current cryptocurrency wallet balance\n",
    "print (f\"Total portfolio value=${total_portfolio:,.2f}\")\n"
   ]
  },
  {
   "cell_type": "markdown",
   "metadata": {},
   "source": [
    "### Evaluate the Emergency Fund\n",
    "\n",
    "In this section, you’ll use the valuations for the cryptocurrency wallet and for the stock and bond portions of the portfolio to determine if the credit union member has enough savings to build an emergency fund into their financial plan. To do this, complete the following steps:\n",
    "\n",
    "1. Create a Python list named `savings_data` that has two elements. The first element contains the total value of the cryptocurrency wallet. The second element contains the total value of the stock and bond portions of the portfolio.\n",
    "\n",
    "2. Use the `savings_data` list to create a Pandas DataFrame named `savings_df`, and then display this DataFrame. The function to create the DataFrame should take the following three parameters:\n",
    "\n",
    "    - `savings_data`: Use the list that you just created.\n",
    "\n",
    "    - `columns`: Set this parameter equal to a Python list with a single value called `amount`.\n",
    "\n",
    "    - `index`: Set this parameter equal to a Python list with the values of `crypto` and `stock/bond`.\n",
    "\n",
    "3. Use the `savings_df` DataFrame to plot a pie chart that visualizes the composition of the member’s portfolio. The y-axis of the pie chart uses `amount`. Be sure to add a title.\n",
    "\n",
    "4. Using Python, determine if the current portfolio has enough to create an emergency fund as part of the member’s financial plan. Ideally, an emergency fund should equal to three times the member’s monthly income. To do this, implement the following steps:\n",
    "\n",
    "    1. Create a variable named `emergency_fund_value`, and set it equal to three times the value of the member’s `monthly_income` of $12000. (You set this earlier in Part 1).\n",
    "\n",
    "    2. Create a series of three if statements to determine if the member’s total portfolio is large enough to fund the emergency portfolio:\n",
    "\n",
    "        1. If the total portfolio value is greater than the emergency fund value, display a message congratulating the member for having enough money in this fund.\n",
    "\n",
    "        2. Else if the total portfolio value is equal to the emergency fund value, display a message congratulating the member on reaching this important financial goal.\n",
    "\n",
    "        3. Else the total portfolio is less than the emergency fund value, so display a message showing how many dollars away the member is from reaching the goal. (Subtract the total portfolio value from the emergency fund value.)\n"
   ]
  },
  {
   "cell_type": "markdown",
   "metadata": {},
   "source": [
    "#### Step 1: Create a Python list named `savings_data` that has two elements. The first element contains the total value of the cryptocurrency wallet. The second element contains the total value of the stock and bond portions of the portfolio."
   ]
  },
  {
   "cell_type": "code",
   "execution_count": 23,
   "metadata": {},
   "outputs": [
    {
     "name": "stdout",
     "output_type": "stream",
     "text": [
      "Savings data=[94254.737, 71953.29999999999]\n"
     ]
    }
   ],
   "source": [
    "# Consolidate financial assets data into a Python list\n",
    "savings_data=[total_crypto_wallet,total_stocks_bonds]\n",
    "\n",
    "# Review the Python list savings_data\n",
    "print (f\"Savings data={savings_data}\")\n",
    "    "
   ]
  },
  {
   "cell_type": "markdown",
   "metadata": {},
   "source": [
    "#### Step 2: Use the `savings_data` list to create a Pandas DataFrame named `savings_df`, and then display this DataFrame. The function to create the DataFrame should take the following three parameters:\n",
    "\n",
    "- `savings_data`: Use the list that you just created.\n",
    "\n",
    "- `columns`: Set this parameter equal to a Python list with a single value called `amount`.\n",
    "\n",
    "- `index`: Set this parameter equal to a Python list with the values of `crypto` and `stock/bond`.\n"
   ]
  },
  {
   "cell_type": "code",
   "execution_count": 24,
   "metadata": {},
   "outputs": [
    {
     "data": {
      "text/html": [
       "<div>\n",
       "<style scoped>\n",
       "    .dataframe tbody tr th:only-of-type {\n",
       "        vertical-align: middle;\n",
       "    }\n",
       "\n",
       "    .dataframe tbody tr th {\n",
       "        vertical-align: top;\n",
       "    }\n",
       "\n",
       "    .dataframe thead th {\n",
       "        text-align: right;\n",
       "    }\n",
       "</style>\n",
       "<table border=\"1\" class=\"dataframe\">\n",
       "  <thead>\n",
       "    <tr style=\"text-align: right;\">\n",
       "      <th></th>\n",
       "      <th>amount</th>\n",
       "    </tr>\n",
       "  </thead>\n",
       "  <tbody>\n",
       "    <tr>\n",
       "      <th>crypto</th>\n",
       "      <td>94254.737</td>\n",
       "    </tr>\n",
       "    <tr>\n",
       "      <th>stock/bond</th>\n",
       "      <td>71953.300</td>\n",
       "    </tr>\n",
       "  </tbody>\n",
       "</table>\n",
       "</div>"
      ],
      "text/plain": [
       "               amount\n",
       "crypto      94254.737\n",
       "stock/bond  71953.300"
      ]
     },
     "execution_count": 24,
     "metadata": {},
     "output_type": "execute_result"
    }
   ],
   "source": [
    "# Create a Pandas DataFrame called savings_df \n",
    "savings_df = pd.DataFrame(savings_data,columns=['amount'], index=['crypto','stock/bond'])\n",
    "\n",
    "# Display the savings_df DataFrame\n",
    "savings_df.head()\n"
   ]
  },
  {
   "cell_type": "markdown",
   "metadata": {},
   "source": [
    "#### Step 3: Use the `savings_df` DataFrame to plot a pie chart that visualizes the composition of the member’s portfolio. The y-axis of the pie chart uses `amount`. Be sure to add a title."
   ]
  },
  {
   "cell_type": "code",
   "execution_count": 25,
   "metadata": {},
   "outputs": [
    {
     "data": {
      "text/plain": [
       "<AxesSubplot:title={'center':'Savings Summary'}, ylabel='amount'>"
      ]
     },
     "execution_count": 25,
     "metadata": {},
     "output_type": "execute_result"
    },
    {
     "data": {
      "image/png": "[encoded data removed]",
      "text/plain": [
       "<Figure size 360x360 with 1 Axes>"
      ]
     },
     "metadata": {},
     "output_type": "display_data"
    }
   ],
   "source": [
    "# Plot the total value of the member's portfolio (crypto and stock/bond) in a pie chart\n",
    "savings_df.plot.pie(y='amount',figsize=(5,5), title='Savings Summary')\n"
   ]
  },
  {
   "cell_type": "markdown",
   "metadata": {},
   "source": [
    "#### Step 4: Using Python, determine if the current portfolio has enough to create an emergency fund as part of the member’s financial plan. Ideally, an emergency fund should equal to three times the member’s monthly income. To do this, implement the following steps:\n",
    "\n",
    "Step 1. Create a variable named `emergency_fund_value`, and set it equal to three times the value of the member’s `monthly_income` of 12000. (You set this earlier in Part 1).\n",
    "\n",
    "Step 2. Create a series of three if statements to determine if the member’s total portfolio is large enough to fund the emergency portfolio:\n",
    "\n",
    "* If the total portfolio value is greater than the emergency fund value, display a message congratulating the member for having enough money in this fund.\n",
    "\n",
    "* Else if the total portfolio value is equal to the emergency fund value, display a message congratulating the member on reaching this important financial goal.\n",
    "\n",
    "* Else the total portfolio is less than the emergency fund value, so display a message showing how many dollars away the member is from reaching the goal. (Subtract the total portfolio value from the emergency fund value.)\n"
   ]
  },
  {
   "cell_type": "markdown",
   "metadata": {},
   "source": [
    "##### Step 4-1: Create a variable named `emergency_fund_value`, and set it equal to three times the value of the member’s `monthly_income` of 12000. (You set this earlier in Part 1)."
   ]
  },
  {
   "cell_type": "code",
   "execution_count": 26,
   "metadata": {},
   "outputs": [],
   "source": [
    "# Create a variable named emergency_fund_value\n",
    "emergency_fund_value=monthly_income*3\n"
   ]
  },
  {
   "cell_type": "markdown",
   "metadata": {},
   "source": [
    "##### Step 4-2: Create a series of three if statements to determine if the member’s total portfolio is large enough to fund the emergency portfolio:\n",
    "\n",
    "* If the total portfolio value is greater than the emergency fund value, display a message congratulating the member for having enough money in this fund.\n",
    "\n",
    "* Else if the total portfolio value is equal to the emergency fund value, display a message congratulating the member on reaching this important financial goal.\n",
    "\n",
    "* Else the total portfolio is less than the emergency fund value, so display a message showing how many dollars away the member is from reaching the goal. (Subtract the total portfolio value from the emergency fund value.)"
   ]
  },
  {
   "cell_type": "code",
   "execution_count": 27,
   "metadata": {},
   "outputs": [
    {
     "name": "stdout",
     "output_type": "stream",
     "text": [
      "There is enough money in the portfolio $166,208.04 to cover any emergency $36,000.00\n"
     ]
    }
   ],
   "source": [
    "# Evaluate the possibility of creating an emergency fund with 3 conditions:\n",
    "if (total_portfolio > emergency_fund_value):\n",
    "    print(f\"There is enough money in the portfolio ${total_portfolio:,.2f} to cover any emergency ${emergency_fund_value:,.2f}\")\n",
    "elif (total_portfolio == emergency_fund_value):\n",
    "    print(f\"Congratulations! Finacial goals met, monet in the portfolio ${total_portfolio:,.2f} to cover any emergency ${emergency_fund_value:,.2f}\")\n",
    "else:\n",
    "    printf(f\"Amount remaining to meet financial goals is ${emergency_fund_value - total_portfolio:,.2f }\")\n"
   ]
  },
  {
   "cell_type": "markdown",
   "metadata": {},
   "source": [
    "## Part 2: Create a Financial Planner for Retirement"
   ]
  },
  {
   "cell_type": "markdown",
   "metadata": {},
   "source": [
    "### Create the Monte Carlo Simulation\n",
    "\n",
    "In this section, you’ll use the MCForecastTools library to create a Monte Carlo simulation for the member’s savings portfolio. To do this, complete the following steps:\n",
    "\n",
    "1. Make an API call via the Alpaca SDK to get 3 years of historical closing prices for a traditional 60/40 portfolio split: 60% stocks (SPY) and 40% bonds (AGG).\n",
    "\n",
    "2. Run a Monte Carlo simulation of 500 samples and 30 years for the 60/40 portfolio, and then plot the results.The following image shows the overlay line plot resulting from a simulation with these characteristics. However, because a random number generator is used to run each live Monte Carlo simulation, your image will differ slightly from this exact image:\n",
    "\n",
    "![A screenshot depicts the resulting plot.](Images/5-4-monte-carlo-line-plot.png)\n",
    "\n",
    "3. Plot the probability distribution of the Monte Carlo simulation. Plot the probability distribution of the Monte Carlo simulation. The following image shows the histogram plot resulting from a simulation with these characteristics. However, because a random number generator is used to run each live Monte Carlo simulation, your image will differ slightly from this exact image:\n",
    "\n",
    "![A screenshot depicts the histogram plot.](Images/5-4-monte-carlo-histogram.png)\n",
    "\n",
    "4. Generate the summary statistics for the Monte Carlo simulation.\n",
    "\n"
   ]
  },
  {
   "cell_type": "markdown",
   "metadata": {},
   "source": [
    "#### Step 1: Make an API call via the Alpaca SDK to get 3 years of historical closing prices for a traditional 60/40 portfolio split: 60% stocks (SPY) and 40% bonds (AGG)."
   ]
  },
  {
   "cell_type": "code",
   "execution_count": 28,
   "metadata": {},
   "outputs": [
    {
     "name": "stdout",
     "output_type": "stream",
     "text": [
      "Tickers = ['SPY', 'AGG'] timeframe=1D start_date=2018-10-15T00:00:00-04:00 endDate=2021-10-15T00:00:00-04:00\n"
     ]
    }
   ],
   "source": [
    "# Set start and end dates of 3 years back from your current date\n",
    "# Alternatively, you can use an end date of 2020-08-07 and work 3 years back from that date \n",
    "start_date_3y = pd.Timestamp(\"2018-10-15\", tz=\"America/New_York\").isoformat()\n",
    "end_date_3y = pd.Timestamp(\"2021-10-15\", tz=\"America/New_York\").isoformat()\n",
    "print (f\"Tickers = {tickers} timeframe={timeframe} start_date={start_date_3y} endDate={end_date_3y}\")\n",
    "\n",
    "# Set number of rows to 1000 to retrieve the maximum amount of rows\n",
    "limit_rows=1000"
   ]
  },
  {
   "cell_type": "code",
   "execution_count": 29,
   "metadata": {},
   "outputs": [
    {
     "data": {
      "text/html": [
       "<div>\n",
       "<style scoped>\n",
       "    .dataframe tbody tr th:only-of-type {\n",
       "        vertical-align: middle;\n",
       "    }\n",
       "\n",
       "    .dataframe tbody tr th {\n",
       "        vertical-align: top;\n",
       "    }\n",
       "\n",
       "    .dataframe thead tr th {\n",
       "        text-align: left;\n",
       "    }\n",
       "\n",
       "    .dataframe thead tr:last-of-type th {\n",
       "        text-align: right;\n",
       "    }\n",
       "</style>\n",
       "<table border=\"1\" class=\"dataframe\">\n",
       "  <thead>\n",
       "    <tr>\n",
       "      <th></th>\n",
       "      <th colspan=\"5\" halign=\"left\">AGG</th>\n",
       "      <th colspan=\"5\" halign=\"left\">SPY</th>\n",
       "    </tr>\n",
       "    <tr>\n",
       "      <th></th>\n",
       "      <th>open</th>\n",
       "      <th>high</th>\n",
       "      <th>low</th>\n",
       "      <th>close</th>\n",
       "      <th>volume</th>\n",
       "      <th>open</th>\n",
       "      <th>high</th>\n",
       "      <th>low</th>\n",
       "      <th>close</th>\n",
       "      <th>volume</th>\n",
       "    </tr>\n",
       "    <tr>\n",
       "      <th>time</th>\n",
       "      <th></th>\n",
       "      <th></th>\n",
       "      <th></th>\n",
       "      <th></th>\n",
       "      <th></th>\n",
       "      <th></th>\n",
       "      <th></th>\n",
       "      <th></th>\n",
       "      <th></th>\n",
       "      <th></th>\n",
       "    </tr>\n",
       "  </thead>\n",
       "  <tbody>\n",
       "    <tr>\n",
       "      <th>2018-10-15 00:00:00-04:00</th>\n",
       "      <td>104.73</td>\n",
       "      <td>104.7835</td>\n",
       "      <td>104.6233</td>\n",
       "      <td>104.670</td>\n",
       "      <td>2502508.0</td>\n",
       "      <td>275.55</td>\n",
       "      <td>277.04</td>\n",
       "      <td>274.30</td>\n",
       "      <td>274.48</td>\n",
       "      <td>75385132</td>\n",
       "    </tr>\n",
       "    <tr>\n",
       "      <th>2018-10-16 00:00:00-04:00</th>\n",
       "      <td>104.69</td>\n",
       "      <td>104.7400</td>\n",
       "      <td>104.5800</td>\n",
       "      <td>104.740</td>\n",
       "      <td>5520646.0</td>\n",
       "      <td>276.57</td>\n",
       "      <td>280.82</td>\n",
       "      <td>276.07</td>\n",
       "      <td>280.30</td>\n",
       "      <td>75057478</td>\n",
       "    </tr>\n",
       "    <tr>\n",
       "      <th>2018-10-17 00:00:00-04:00</th>\n",
       "      <td>104.71</td>\n",
       "      <td>104.7700</td>\n",
       "      <td>104.5200</td>\n",
       "      <td>104.535</td>\n",
       "      <td>2608875.0</td>\n",
       "      <td>280.44</td>\n",
       "      <td>281.15</td>\n",
       "      <td>277.56</td>\n",
       "      <td>280.40</td>\n",
       "      <td>81740972</td>\n",
       "    </tr>\n",
       "    <tr>\n",
       "      <th>2018-10-18 00:00:00-04:00</th>\n",
       "      <td>104.39</td>\n",
       "      <td>104.6195</td>\n",
       "      <td>104.3750</td>\n",
       "      <td>104.460</td>\n",
       "      <td>2687836.0</td>\n",
       "      <td>279.40</td>\n",
       "      <td>280.07</td>\n",
       "      <td>274.97</td>\n",
       "      <td>276.47</td>\n",
       "      <td>106592503</td>\n",
       "    </tr>\n",
       "    <tr>\n",
       "      <th>2018-10-19 00:00:00-04:00</th>\n",
       "      <td>104.47</td>\n",
       "      <td>104.5500</td>\n",
       "      <td>104.3400</td>\n",
       "      <td>104.370</td>\n",
       "      <td>2912850.0</td>\n",
       "      <td>277.12</td>\n",
       "      <td>279.30</td>\n",
       "      <td>275.47</td>\n",
       "      <td>276.19</td>\n",
       "      <td>86816021</td>\n",
       "    </tr>\n",
       "  </tbody>\n",
       "</table>\n",
       "</div>"
      ],
      "text/plain": [
       "                              AGG                                          \\\n",
       "                             open      high       low    close     volume   \n",
       "time                                                                        \n",
       "2018-10-15 00:00:00-04:00  104.73  104.7835  104.6233  104.670  2502508.0   \n",
       "2018-10-16 00:00:00-04:00  104.69  104.7400  104.5800  104.740  5520646.0   \n",
       "2018-10-17 00:00:00-04:00  104.71  104.7700  104.5200  104.535  2608875.0   \n",
       "2018-10-18 00:00:00-04:00  104.39  104.6195  104.3750  104.460  2687836.0   \n",
       "2018-10-19 00:00:00-04:00  104.47  104.5500  104.3400  104.370  2912850.0   \n",
       "\n",
       "                              SPY                                     \n",
       "                             open    high     low   close     volume  \n",
       "time                                                                  \n",
       "2018-10-15 00:00:00-04:00  275.55  277.04  274.30  274.48   75385132  \n",
       "2018-10-16 00:00:00-04:00  276.57  280.82  276.07  280.30   75057478  \n",
       "2018-10-17 00:00:00-04:00  280.44  281.15  277.56  280.40   81740972  \n",
       "2018-10-18 00:00:00-04:00  279.40  280.07  274.97  276.47  106592503  \n",
       "2018-10-19 00:00:00-04:00  277.12  279.30  275.47  276.19   86816021  "
      ]
     },
     "metadata": {},
     "output_type": "display_data"
    },
    {
     "data": {
      "text/html": [
       "<div>\n",
       "<style scoped>\n",
       "    .dataframe tbody tr th:only-of-type {\n",
       "        vertical-align: middle;\n",
       "    }\n",
       "\n",
       "    .dataframe tbody tr th {\n",
       "        vertical-align: top;\n",
       "    }\n",
       "\n",
       "    .dataframe thead tr th {\n",
       "        text-align: left;\n",
       "    }\n",
       "\n",
       "    .dataframe thead tr:last-of-type th {\n",
       "        text-align: right;\n",
       "    }\n",
       "</style>\n",
       "<table border=\"1\" class=\"dataframe\">\n",
       "  <thead>\n",
       "    <tr>\n",
       "      <th></th>\n",
       "      <th colspan=\"5\" halign=\"left\">AGG</th>\n",
       "      <th colspan=\"5\" halign=\"left\">SPY</th>\n",
       "    </tr>\n",
       "    <tr>\n",
       "      <th></th>\n",
       "      <th>open</th>\n",
       "      <th>high</th>\n",
       "      <th>low</th>\n",
       "      <th>close</th>\n",
       "      <th>volume</th>\n",
       "      <th>open</th>\n",
       "      <th>high</th>\n",
       "      <th>low</th>\n",
       "      <th>close</th>\n",
       "      <th>volume</th>\n",
       "    </tr>\n",
       "    <tr>\n",
       "      <th>time</th>\n",
       "      <th></th>\n",
       "      <th></th>\n",
       "      <th></th>\n",
       "      <th></th>\n",
       "      <th></th>\n",
       "      <th></th>\n",
       "      <th></th>\n",
       "      <th></th>\n",
       "      <th></th>\n",
       "      <th></th>\n",
       "    </tr>\n",
       "  </thead>\n",
       "  <tbody>\n",
       "    <tr>\n",
       "      <th>2021-10-11 00:00:00-04:00</th>\n",
       "      <td>114.01</td>\n",
       "      <td>114.0650</td>\n",
       "      <td>113.940</td>\n",
       "      <td>113.940</td>\n",
       "      <td>1999518.0</td>\n",
       "      <td>437.16</td>\n",
       "      <td>440.26</td>\n",
       "      <td>434.62</td>\n",
       "      <td>434.67</td>\n",
       "      <td>54993389</td>\n",
       "    </tr>\n",
       "    <tr>\n",
       "      <th>2021-10-12 00:00:00-04:00</th>\n",
       "      <td>114.17</td>\n",
       "      <td>114.3800</td>\n",
       "      <td>114.110</td>\n",
       "      <td>114.355</td>\n",
       "      <td>3521504.0</td>\n",
       "      <td>435.67</td>\n",
       "      <td>436.10</td>\n",
       "      <td>432.78</td>\n",
       "      <td>433.63</td>\n",
       "      <td>61078594</td>\n",
       "    </tr>\n",
       "    <tr>\n",
       "      <th>2021-10-13 00:00:00-04:00</th>\n",
       "      <td>114.43</td>\n",
       "      <td>114.6400</td>\n",
       "      <td>114.415</td>\n",
       "      <td>114.610</td>\n",
       "      <td>5301180.0</td>\n",
       "      <td>434.71</td>\n",
       "      <td>436.05</td>\n",
       "      <td>431.54</td>\n",
       "      <td>435.13</td>\n",
       "      <td>63943229</td>\n",
       "    </tr>\n",
       "    <tr>\n",
       "      <th>2021-10-14 00:00:00-04:00</th>\n",
       "      <td>114.70</td>\n",
       "      <td>114.8496</td>\n",
       "      <td>114.630</td>\n",
       "      <td>114.840</td>\n",
       "      <td>3540673.0</td>\n",
       "      <td>439.08</td>\n",
       "      <td>442.66</td>\n",
       "      <td>438.58</td>\n",
       "      <td>442.47</td>\n",
       "      <td>59812568</td>\n",
       "    </tr>\n",
       "    <tr>\n",
       "      <th>2021-10-15 00:00:00-04:00</th>\n",
       "      <td>114.61</td>\n",
       "      <td>114.6300</td>\n",
       "      <td>114.510</td>\n",
       "      <td>114.560</td>\n",
       "      <td>3829388.0</td>\n",
       "      <td>444.76</td>\n",
       "      <td>446.26</td>\n",
       "      <td>444.09</td>\n",
       "      <td>445.83</td>\n",
       "      <td>55980388</td>\n",
       "    </tr>\n",
       "  </tbody>\n",
       "</table>\n",
       "</div>"
      ],
      "text/plain": [
       "                              AGG                                         \\\n",
       "                             open      high      low    close     volume   \n",
       "time                                                                       \n",
       "2021-10-11 00:00:00-04:00  114.01  114.0650  113.940  113.940  1999518.0   \n",
       "2021-10-12 00:00:00-04:00  114.17  114.3800  114.110  114.355  3521504.0   \n",
       "2021-10-13 00:00:00-04:00  114.43  114.6400  114.415  114.610  5301180.0   \n",
       "2021-10-14 00:00:00-04:00  114.70  114.8496  114.630  114.840  3540673.0   \n",
       "2021-10-15 00:00:00-04:00  114.61  114.6300  114.510  114.560  3829388.0   \n",
       "\n",
       "                              SPY                                    \n",
       "                             open    high     low   close    volume  \n",
       "time                                                                 \n",
       "2021-10-11 00:00:00-04:00  437.16  440.26  434.62  434.67  54993389  \n",
       "2021-10-12 00:00:00-04:00  435.67  436.10  432.78  433.63  61078594  \n",
       "2021-10-13 00:00:00-04:00  434.71  436.05  431.54  435.13  63943229  \n",
       "2021-10-14 00:00:00-04:00  439.08  442.66  438.58  442.47  59812568  \n",
       "2021-10-15 00:00:00-04:00  444.76  446.26  444.09  445.83  55980388  "
      ]
     },
     "metadata": {},
     "output_type": "display_data"
    }
   ],
   "source": [
    "# Use the Alpaca get_barset function to make the API call to get the 3 years worth of pricing data\n",
    "# The tickers and timeframe parameters should have been set in Part 1 of this activity \n",
    "# The start and end dates should be updated with the information set above\n",
    "# Remember to add the df property to the end of the call so the response is returned as a DataFrame\n",
    "\n",
    "ticker_data_3y = alpaca.get_barset(\n",
    "    tickers,\n",
    "    timeframe,\n",
    "    start=start_date_3y,\n",
    "    end=end_date_3y,\n",
    "    limit=limit_rows\n",
    ").df\n",
    "\n",
    "\n",
    "# Display both the first and last five rows of the DataFrame\n",
    "display(ticker_data_3y.head())\n",
    "display(ticker_data_3y.tail())\n"
   ]
  },
  {
   "cell_type": "markdown",
   "metadata": {},
   "source": [
    "#### Step 2: Run a Monte Carlo simulation of 500 samples and 30 years for the 60/40 portfolio, and then plot the results."
   ]
  },
  {
   "cell_type": "code",
   "execution_count": 30,
   "metadata": {},
   "outputs": [
    {
     "data": {
      "text/html": [
       "<div>\n",
       "<style scoped>\n",
       "    .dataframe tbody tr th:only-of-type {\n",
       "        vertical-align: middle;\n",
       "    }\n",
       "\n",
       "    .dataframe tbody tr th {\n",
       "        vertical-align: top;\n",
       "    }\n",
       "\n",
       "    .dataframe thead tr th {\n",
       "        text-align: left;\n",
       "    }\n",
       "\n",
       "    .dataframe thead tr:last-of-type th {\n",
       "        text-align: right;\n",
       "    }\n",
       "</style>\n",
       "<table border=\"1\" class=\"dataframe\">\n",
       "  <thead>\n",
       "    <tr>\n",
       "      <th></th>\n",
       "      <th colspan=\"6\" halign=\"left\">AGG</th>\n",
       "      <th colspan=\"6\" halign=\"left\">SPY</th>\n",
       "    </tr>\n",
       "    <tr>\n",
       "      <th></th>\n",
       "      <th>open</th>\n",
       "      <th>high</th>\n",
       "      <th>low</th>\n",
       "      <th>close</th>\n",
       "      <th>volume</th>\n",
       "      <th>daily_return</th>\n",
       "      <th>open</th>\n",
       "      <th>high</th>\n",
       "      <th>low</th>\n",
       "      <th>close</th>\n",
       "      <th>volume</th>\n",
       "      <th>daily_return</th>\n",
       "    </tr>\n",
       "    <tr>\n",
       "      <th>time</th>\n",
       "      <th></th>\n",
       "      <th></th>\n",
       "      <th></th>\n",
       "      <th></th>\n",
       "      <th></th>\n",
       "      <th></th>\n",
       "      <th></th>\n",
       "      <th></th>\n",
       "      <th></th>\n",
       "      <th></th>\n",
       "      <th></th>\n",
       "      <th></th>\n",
       "    </tr>\n",
       "  </thead>\n",
       "  <tbody>\n",
       "    <tr>\n",
       "      <th>2018-10-15 00:00:00-04:00</th>\n",
       "      <td>104.73</td>\n",
       "      <td>104.7835</td>\n",
       "      <td>104.6233</td>\n",
       "      <td>104.670</td>\n",
       "      <td>2502508.0</td>\n",
       "      <td>NaN</td>\n",
       "      <td>275.55</td>\n",
       "      <td>277.04</td>\n",
       "      <td>274.30</td>\n",
       "      <td>274.48</td>\n",
       "      <td>75385132</td>\n",
       "      <td>NaN</td>\n",
       "    </tr>\n",
       "    <tr>\n",
       "      <th>2018-10-16 00:00:00-04:00</th>\n",
       "      <td>104.69</td>\n",
       "      <td>104.7400</td>\n",
       "      <td>104.5800</td>\n",
       "      <td>104.740</td>\n",
       "      <td>5520646.0</td>\n",
       "      <td>0.000669</td>\n",
       "      <td>276.57</td>\n",
       "      <td>280.82</td>\n",
       "      <td>276.07</td>\n",
       "      <td>280.30</td>\n",
       "      <td>75057478</td>\n",
       "      <td>0.021204</td>\n",
       "    </tr>\n",
       "    <tr>\n",
       "      <th>2018-10-17 00:00:00-04:00</th>\n",
       "      <td>104.71</td>\n",
       "      <td>104.7700</td>\n",
       "      <td>104.5200</td>\n",
       "      <td>104.535</td>\n",
       "      <td>2608875.0</td>\n",
       "      <td>-0.001957</td>\n",
       "      <td>280.44</td>\n",
       "      <td>281.15</td>\n",
       "      <td>277.56</td>\n",
       "      <td>280.40</td>\n",
       "      <td>81740972</td>\n",
       "      <td>0.000357</td>\n",
       "    </tr>\n",
       "    <tr>\n",
       "      <th>2018-10-18 00:00:00-04:00</th>\n",
       "      <td>104.39</td>\n",
       "      <td>104.6195</td>\n",
       "      <td>104.3750</td>\n",
       "      <td>104.460</td>\n",
       "      <td>2687836.0</td>\n",
       "      <td>-0.000717</td>\n",
       "      <td>279.40</td>\n",
       "      <td>280.07</td>\n",
       "      <td>274.97</td>\n",
       "      <td>276.47</td>\n",
       "      <td>106592503</td>\n",
       "      <td>-0.014016</td>\n",
       "    </tr>\n",
       "    <tr>\n",
       "      <th>2018-10-19 00:00:00-04:00</th>\n",
       "      <td>104.47</td>\n",
       "      <td>104.5500</td>\n",
       "      <td>104.3400</td>\n",
       "      <td>104.370</td>\n",
       "      <td>2912850.0</td>\n",
       "      <td>-0.000862</td>\n",
       "      <td>277.12</td>\n",
       "      <td>279.30</td>\n",
       "      <td>275.47</td>\n",
       "      <td>276.19</td>\n",
       "      <td>86816021</td>\n",
       "      <td>-0.001013</td>\n",
       "    </tr>\n",
       "  </tbody>\n",
       "</table>\n",
       "</div>"
      ],
      "text/plain": [
       "                              AGG                                          \\\n",
       "                             open      high       low    close     volume   \n",
       "time                                                                        \n",
       "2018-10-15 00:00:00-04:00  104.73  104.7835  104.6233  104.670  2502508.0   \n",
       "2018-10-16 00:00:00-04:00  104.69  104.7400  104.5800  104.740  5520646.0   \n",
       "2018-10-17 00:00:00-04:00  104.71  104.7700  104.5200  104.535  2608875.0   \n",
       "2018-10-18 00:00:00-04:00  104.39  104.6195  104.3750  104.460  2687836.0   \n",
       "2018-10-19 00:00:00-04:00  104.47  104.5500  104.3400  104.370  2912850.0   \n",
       "\n",
       "                                           SPY                          \\\n",
       "                          daily_return    open    high     low   close   \n",
       "time                                                                     \n",
       "2018-10-15 00:00:00-04:00          NaN  275.55  277.04  274.30  274.48   \n",
       "2018-10-16 00:00:00-04:00     0.000669  276.57  280.82  276.07  280.30   \n",
       "2018-10-17 00:00:00-04:00    -0.001957  280.44  281.15  277.56  280.40   \n",
       "2018-10-18 00:00:00-04:00    -0.000717  279.40  280.07  274.97  276.47   \n",
       "2018-10-19 00:00:00-04:00    -0.000862  277.12  279.30  275.47  276.19   \n",
       "\n",
       "                                                   \n",
       "                              volume daily_return  \n",
       "time                                               \n",
       "2018-10-15 00:00:00-04:00   75385132          NaN  \n",
       "2018-10-16 00:00:00-04:00   75057478     0.021204  \n",
       "2018-10-17 00:00:00-04:00   81740972     0.000357  \n",
       "2018-10-18 00:00:00-04:00  106592503    -0.014016  \n",
       "2018-10-19 00:00:00-04:00   86816021    -0.001013  "
      ]
     },
     "execution_count": 30,
     "metadata": {},
     "output_type": "execute_result"
    }
   ],
   "source": [
    "# Configure the Monte Carlo simulation to forecast 30 years cumulative returns\n",
    "# The weights should be split 40% to AGG and 60% to SPY.\n",
    "# Run 500 samples.\n",
    "thirty_year_simulation = MCSimulation(\n",
    "    portfolio_data=ticker_data_3y,\n",
    "    weights=[0.40, 0.60],\n",
    "    num_simulation=500,\n",
    "    num_trading_days=252*30,\n",
    ")\n",
    "\n",
    "\n",
    "# Review the simulation input data\n",
    "thirty_year_simulation.portfolio_data.head()\n"
   ]
  },
  {
   "cell_type": "code",
   "execution_count": 31,
   "metadata": {},
   "outputs": [
    {
     "name": "stdout",
     "output_type": "stream",
     "text": [
      "Running Monte Carlo simulation number 0.\n",
      "Running Monte Carlo simulation number 10.\n",
      "Running Monte Carlo simulation number 20.\n",
      "Running Monte Carlo simulation number 30.\n",
      "Running Monte Carlo simulation number 40.\n",
      "Running Monte Carlo simulation number 50.\n",
      "Running Monte Carlo simulation number 60.\n",
      "Running Monte Carlo simulation number 70.\n",
      "Running Monte Carlo simulation number 80.\n",
      "Running Monte Carlo simulation number 90.\n",
      "Running Monte Carlo simulation number 100.\n",
      "Running Monte Carlo simulation number 110.\n",
      "Running Monte Carlo simulation number 120.\n",
      "Running Monte Carlo simulation number 130.\n",
      "Running Monte Carlo simulation number 140.\n",
      "Running Monte Carlo simulation number 150.\n",
      "Running Monte Carlo simulation number 160.\n",
      "Running Monte Carlo simulation number 170.\n",
      "Running Monte Carlo simulation number 180.\n",
      "Running Monte Carlo simulation number 190.\n",
      "Running Monte Carlo simulation number 200.\n",
      "Running Monte Carlo simulation number 210.\n",
      "Running Monte Carlo simulation number 220.\n",
      "Running Monte Carlo simulation number 230.\n",
      "Running Monte Carlo simulation number 240.\n",
      "Running Monte Carlo simulation number 250.\n",
      "Running Monte Carlo simulation number 260.\n",
      "Running Monte Carlo simulation number 270.\n",
      "Running Monte Carlo simulation number 280.\n",
      "Running Monte Carlo simulation number 290.\n",
      "Running Monte Carlo simulation number 300.\n",
      "Running Monte Carlo simulation number 310.\n",
      "Running Monte Carlo simulation number 320.\n",
      "Running Monte Carlo simulation number 330.\n",
      "Running Monte Carlo simulation number 340.\n",
      "Running Monte Carlo simulation number 350.\n",
      "Running Monte Carlo simulation number 360.\n",
      "Running Monte Carlo simulation number 370.\n",
      "Running Monte Carlo simulation number 380.\n",
      "Running Monte Carlo simulation number 390.\n",
      "Running Monte Carlo simulation number 400.\n",
      "Running Monte Carlo simulation number 410.\n",
      "Running Monte Carlo simulation number 420.\n",
      "Running Monte Carlo simulation number 430.\n",
      "Running Monte Carlo simulation number 440.\n",
      "Running Monte Carlo simulation number 450.\n",
      "Running Monte Carlo simulation number 460.\n",
      "Running Monte Carlo simulation number 470.\n",
      "Running Monte Carlo simulation number 480.\n",
      "Running Monte Carlo simulation number 490.\n"
     ]
    },
    {
     "data": {
      "text/html": [
       "<div>\n",
       "<style scoped>\n",
       "    .dataframe tbody tr th:only-of-type {\n",
       "        vertical-align: middle;\n",
       "    }\n",
       "\n",
       "    .dataframe tbody tr th {\n",
       "        vertical-align: top;\n",
       "    }\n",
       "\n",
       "    .dataframe thead th {\n",
       "        text-align: right;\n",
       "    }\n",
       "</style>\n",
       "<table border=\"1\" class=\"dataframe\">\n",
       "  <thead>\n",
       "    <tr style=\"text-align: right;\">\n",
       "      <th></th>\n",
       "      <th>0</th>\n",
       "      <th>1</th>\n",
       "      <th>2</th>\n",
       "      <th>3</th>\n",
       "      <th>4</th>\n",
       "      <th>5</th>\n",
       "      <th>6</th>\n",
       "      <th>7</th>\n",
       "      <th>8</th>\n",
       "      <th>9</th>\n",
       "      <th>...</th>\n",
       "      <th>490</th>\n",
       "      <th>491</th>\n",
       "      <th>492</th>\n",
       "      <th>493</th>\n",
       "      <th>494</th>\n",
       "      <th>495</th>\n",
       "      <th>496</th>\n",
       "      <th>497</th>\n",
       "      <th>498</th>\n",
       "      <th>499</th>\n",
       "    </tr>\n",
       "  </thead>\n",
       "  <tbody>\n",
       "    <tr>\n",
       "      <th>0</th>\n",
       "      <td>1.000000</td>\n",
       "      <td>1.000000</td>\n",
       "      <td>1.000000</td>\n",
       "      <td>1.000000</td>\n",
       "      <td>1.000000</td>\n",
       "      <td>1.000000</td>\n",
       "      <td>1.000000</td>\n",
       "      <td>1.000000</td>\n",
       "      <td>1.000000</td>\n",
       "      <td>1.000000</td>\n",
       "      <td>...</td>\n",
       "      <td>1.000000</td>\n",
       "      <td>1.000000</td>\n",
       "      <td>1.000000</td>\n",
       "      <td>1.000000</td>\n",
       "      <td>1.000000</td>\n",
       "      <td>1.000000</td>\n",
       "      <td>1.000000</td>\n",
       "      <td>1.000000</td>\n",
       "      <td>1.000000</td>\n",
       "      <td>1.000000</td>\n",
       "    </tr>\n",
       "    <tr>\n",
       "      <th>1</th>\n",
       "      <td>0.992713</td>\n",
       "      <td>1.012913</td>\n",
       "      <td>0.988729</td>\n",
       "      <td>0.988892</td>\n",
       "      <td>0.996867</td>\n",
       "      <td>0.999401</td>\n",
       "      <td>1.019934</td>\n",
       "      <td>1.013799</td>\n",
       "      <td>0.988035</td>\n",
       "      <td>1.008070</td>\n",
       "      <td>...</td>\n",
       "      <td>1.002406</td>\n",
       "      <td>0.998554</td>\n",
       "      <td>1.004876</td>\n",
       "      <td>1.021114</td>\n",
       "      <td>0.987994</td>\n",
       "      <td>1.002115</td>\n",
       "      <td>0.995402</td>\n",
       "      <td>0.997284</td>\n",
       "      <td>1.000150</td>\n",
       "      <td>1.000891</td>\n",
       "    </tr>\n",
       "    <tr>\n",
       "      <th>2</th>\n",
       "      <td>0.987751</td>\n",
       "      <td>1.019962</td>\n",
       "      <td>0.984968</td>\n",
       "      <td>0.998326</td>\n",
       "      <td>1.007096</td>\n",
       "      <td>1.010875</td>\n",
       "      <td>1.034390</td>\n",
       "      <td>1.009982</td>\n",
       "      <td>0.992629</td>\n",
       "      <td>1.003526</td>\n",
       "      <td>...</td>\n",
       "      <td>1.000034</td>\n",
       "      <td>1.003824</td>\n",
       "      <td>1.010029</td>\n",
       "      <td>1.038659</td>\n",
       "      <td>0.983864</td>\n",
       "      <td>1.005056</td>\n",
       "      <td>1.008430</td>\n",
       "      <td>1.018198</td>\n",
       "      <td>1.002421</td>\n",
       "      <td>1.007647</td>\n",
       "    </tr>\n",
       "    <tr>\n",
       "      <th>3</th>\n",
       "      <td>0.986445</td>\n",
       "      <td>1.022591</td>\n",
       "      <td>0.982148</td>\n",
       "      <td>0.993151</td>\n",
       "      <td>1.002027</td>\n",
       "      <td>1.012669</td>\n",
       "      <td>1.030200</td>\n",
       "      <td>0.992613</td>\n",
       "      <td>0.988933</td>\n",
       "      <td>1.025511</td>\n",
       "      <td>...</td>\n",
       "      <td>0.989589</td>\n",
       "      <td>1.022486</td>\n",
       "      <td>1.018058</td>\n",
       "      <td>1.031868</td>\n",
       "      <td>0.990549</td>\n",
       "      <td>1.002067</td>\n",
       "      <td>1.020039</td>\n",
       "      <td>1.011264</td>\n",
       "      <td>1.003208</td>\n",
       "      <td>0.992099</td>\n",
       "    </tr>\n",
       "    <tr>\n",
       "      <th>4</th>\n",
       "      <td>0.994596</td>\n",
       "      <td>1.022551</td>\n",
       "      <td>0.962659</td>\n",
       "      <td>0.986779</td>\n",
       "      <td>0.999000</td>\n",
       "      <td>1.013024</td>\n",
       "      <td>1.030447</td>\n",
       "      <td>0.995505</td>\n",
       "      <td>0.991055</td>\n",
       "      <td>1.017478</td>\n",
       "      <td>...</td>\n",
       "      <td>0.990843</td>\n",
       "      <td>1.030886</td>\n",
       "      <td>1.009764</td>\n",
       "      <td>1.046159</td>\n",
       "      <td>0.983123</td>\n",
       "      <td>1.001523</td>\n",
       "      <td>1.017274</td>\n",
       "      <td>1.024934</td>\n",
       "      <td>1.025009</td>\n",
       "      <td>0.995648</td>\n",
       "    </tr>\n",
       "    <tr>\n",
       "      <th>...</th>\n",
       "      <td>...</td>\n",
       "      <td>...</td>\n",
       "      <td>...</td>\n",
       "      <td>...</td>\n",
       "      <td>...</td>\n",
       "      <td>...</td>\n",
       "      <td>...</td>\n",
       "      <td>...</td>\n",
       "      <td>...</td>\n",
       "      <td>...</td>\n",
       "      <td>...</td>\n",
       "      <td>...</td>\n",
       "      <td>...</td>\n",
       "      <td>...</td>\n",
       "      <td>...</td>\n",
       "      <td>...</td>\n",
       "      <td>...</td>\n",
       "      <td>...</td>\n",
       "      <td>...</td>\n",
       "      <td>...</td>\n",
       "      <td>...</td>\n",
       "    </tr>\n",
       "    <tr>\n",
       "      <th>7556</th>\n",
       "      <td>24.596936</td>\n",
       "      <td>9.589604</td>\n",
       "      <td>34.396619</td>\n",
       "      <td>15.394571</td>\n",
       "      <td>43.955404</td>\n",
       "      <td>118.429988</td>\n",
       "      <td>22.975894</td>\n",
       "      <td>34.310185</td>\n",
       "      <td>30.301566</td>\n",
       "      <td>16.756452</td>\n",
       "      <td>...</td>\n",
       "      <td>6.491715</td>\n",
       "      <td>70.832747</td>\n",
       "      <td>63.106452</td>\n",
       "      <td>180.779737</td>\n",
       "      <td>33.184215</td>\n",
       "      <td>39.938405</td>\n",
       "      <td>27.693134</td>\n",
       "      <td>28.764480</td>\n",
       "      <td>75.021549</td>\n",
       "      <td>88.528262</td>\n",
       "    </tr>\n",
       "    <tr>\n",
       "      <th>7557</th>\n",
       "      <td>24.521547</td>\n",
       "      <td>9.655832</td>\n",
       "      <td>34.790720</td>\n",
       "      <td>15.620719</td>\n",
       "      <td>44.316806</td>\n",
       "      <td>118.633503</td>\n",
       "      <td>23.021850</td>\n",
       "      <td>34.360754</td>\n",
       "      <td>30.219308</td>\n",
       "      <td>16.739502</td>\n",
       "      <td>...</td>\n",
       "      <td>6.555374</td>\n",
       "      <td>69.768307</td>\n",
       "      <td>63.034477</td>\n",
       "      <td>181.874953</td>\n",
       "      <td>33.214811</td>\n",
       "      <td>40.353025</td>\n",
       "      <td>27.847789</td>\n",
       "      <td>28.504351</td>\n",
       "      <td>75.454753</td>\n",
       "      <td>87.944886</td>\n",
       "    </tr>\n",
       "    <tr>\n",
       "      <th>7558</th>\n",
       "      <td>24.439728</td>\n",
       "      <td>9.708892</td>\n",
       "      <td>34.865851</td>\n",
       "      <td>15.753289</td>\n",
       "      <td>44.467637</td>\n",
       "      <td>118.868943</td>\n",
       "      <td>22.631265</td>\n",
       "      <td>34.177734</td>\n",
       "      <td>30.362025</td>\n",
       "      <td>16.863363</td>\n",
       "      <td>...</td>\n",
       "      <td>6.719415</td>\n",
       "      <td>69.316074</td>\n",
       "      <td>63.938158</td>\n",
       "      <td>180.712420</td>\n",
       "      <td>32.734912</td>\n",
       "      <td>40.681261</td>\n",
       "      <td>27.847005</td>\n",
       "      <td>28.137799</td>\n",
       "      <td>75.468459</td>\n",
       "      <td>87.885246</td>\n",
       "    </tr>\n",
       "    <tr>\n",
       "      <th>7559</th>\n",
       "      <td>24.347169</td>\n",
       "      <td>9.838319</td>\n",
       "      <td>34.829397</td>\n",
       "      <td>15.878972</td>\n",
       "      <td>44.941090</td>\n",
       "      <td>118.929038</td>\n",
       "      <td>22.774102</td>\n",
       "      <td>34.052226</td>\n",
       "      <td>30.324697</td>\n",
       "      <td>17.106274</td>\n",
       "      <td>...</td>\n",
       "      <td>6.612261</td>\n",
       "      <td>69.769981</td>\n",
       "      <td>63.416881</td>\n",
       "      <td>180.314098</td>\n",
       "      <td>33.006222</td>\n",
       "      <td>41.038731</td>\n",
       "      <td>27.982836</td>\n",
       "      <td>28.330213</td>\n",
       "      <td>74.411606</td>\n",
       "      <td>88.760826</td>\n",
       "    </tr>\n",
       "    <tr>\n",
       "      <th>7560</th>\n",
       "      <td>24.303665</td>\n",
       "      <td>9.786370</td>\n",
       "      <td>34.594599</td>\n",
       "      <td>15.864245</td>\n",
       "      <td>45.417461</td>\n",
       "      <td>118.906209</td>\n",
       "      <td>22.748353</td>\n",
       "      <td>33.960201</td>\n",
       "      <td>30.230065</td>\n",
       "      <td>17.213562</td>\n",
       "      <td>...</td>\n",
       "      <td>6.687844</td>\n",
       "      <td>70.957140</td>\n",
       "      <td>63.481413</td>\n",
       "      <td>181.221651</td>\n",
       "      <td>32.563632</td>\n",
       "      <td>41.297298</td>\n",
       "      <td>28.137059</td>\n",
       "      <td>28.450931</td>\n",
       "      <td>73.433105</td>\n",
       "      <td>88.327831</td>\n",
       "    </tr>\n",
       "  </tbody>\n",
       "</table>\n",
       "<p>7561 rows × 500 columns</p>\n",
       "</div>"
      ],
      "text/plain": [
       "            0         1          2          3          4           5    \\\n",
       "0      1.000000  1.000000   1.000000   1.000000   1.000000    1.000000   \n",
       "1      0.992713  1.012913   0.988729   0.988892   0.996867    0.999401   \n",
       "2      0.987751  1.019962   0.984968   0.998326   1.007096    1.010875   \n",
       "3      0.986445  1.022591   0.982148   0.993151   1.002027    1.012669   \n",
       "4      0.994596  1.022551   0.962659   0.986779   0.999000    1.013024   \n",
       "...         ...       ...        ...        ...        ...         ...   \n",
       "7556  24.596936  9.589604  34.396619  15.394571  43.955404  118.429988   \n",
       "7557  24.521547  9.655832  34.790720  15.620719  44.316806  118.633503   \n",
       "7558  24.439728  9.708892  34.865851  15.753289  44.467637  118.868943   \n",
       "7559  24.347169  9.838319  34.829397  15.878972  44.941090  118.929038   \n",
       "7560  24.303665  9.786370  34.594599  15.864245  45.417461  118.906209   \n",
       "\n",
       "            6          7          8          9    ...       490        491  \\\n",
       "0      1.000000   1.000000   1.000000   1.000000  ...  1.000000   1.000000   \n",
       "1      1.019934   1.013799   0.988035   1.008070  ...  1.002406   0.998554   \n",
       "2      1.034390   1.009982   0.992629   1.003526  ...  1.000034   1.003824   \n",
       "3      1.030200   0.992613   0.988933   1.025511  ...  0.989589   1.022486   \n",
       "4      1.030447   0.995505   0.991055   1.017478  ...  0.990843   1.030886   \n",
       "...         ...        ...        ...        ...  ...       ...        ...   \n",
       "7556  22.975894  34.310185  30.301566  16.756452  ...  6.491715  70.832747   \n",
       "7557  23.021850  34.360754  30.219308  16.739502  ...  6.555374  69.768307   \n",
       "7558  22.631265  34.177734  30.362025  16.863363  ...  6.719415  69.316074   \n",
       "7559  22.774102  34.052226  30.324697  17.106274  ...  6.612261  69.769981   \n",
       "7560  22.748353  33.960201  30.230065  17.213562  ...  6.687844  70.957140   \n",
       "\n",
       "            492         493        494        495        496        497  \\\n",
       "0      1.000000    1.000000   1.000000   1.000000   1.000000   1.000000   \n",
       "1      1.004876    1.021114   0.987994   1.002115   0.995402   0.997284   \n",
       "2      1.010029    1.038659   0.983864   1.005056   1.008430   1.018198   \n",
       "3      1.018058    1.031868   0.990549   1.002067   1.020039   1.011264   \n",
       "4      1.009764    1.046159   0.983123   1.001523   1.017274   1.024934   \n",
       "...         ...         ...        ...        ...        ...        ...   \n",
       "7556  63.106452  180.779737  33.184215  39.938405  27.693134  28.764480   \n",
       "7557  63.034477  181.874953  33.214811  40.353025  27.847789  28.504351   \n",
       "7558  63.938158  180.712420  32.734912  40.681261  27.847005  28.137799   \n",
       "7559  63.416881  180.314098  33.006222  41.038731  27.982836  28.330213   \n",
       "7560  63.481413  181.221651  32.563632  41.297298  28.137059  28.450931   \n",
       "\n",
       "            498        499  \n",
       "0      1.000000   1.000000  \n",
       "1      1.000150   1.000891  \n",
       "2      1.002421   1.007647  \n",
       "3      1.003208   0.992099  \n",
       "4      1.025009   0.995648  \n",
       "...         ...        ...  \n",
       "7556  75.021549  88.528262  \n",
       "7557  75.454753  87.944886  \n",
       "7558  75.468459  87.885246  \n",
       "7559  74.411606  88.760826  \n",
       "7560  73.433105  88.327831  \n",
       "\n",
       "[7561 rows x 500 columns]"
      ]
     },
     "execution_count": 31,
     "metadata": {},
     "output_type": "execute_result"
    }
   ],
   "source": [
    "# Run the Monte Carlo simulation to forecast 30 years cumulative returns\n",
    "thirty_year_simulation.calc_cumulative_return()\n"
   ]
  },
  {
   "cell_type": "code",
   "execution_count": 32,
   "metadata": {},
   "outputs": [
    {
     "data": {
      "text/plain": [
       "<AxesSubplot:title={'center':'500 Simulations of Cumulative Portfolio Return Trajectories Over the Next 7560 Trading Days.'}>"
      ]
     },
     "execution_count": 32,
     "metadata": {},
     "output_type": "execute_result"
    },
    {
     "data": {
      "image/png": "[encoded data removed]",
      "text/plain": [
       "<Figure size 432x288 with 1 Axes>"
      ]
     },
     "metadata": {
      "needs_background": "light"
     },
     "output_type": "display_data"
    }
   ],
   "source": [
    "# Visualize the 30-year Monte Carlo simulation by creating an\n",
    "# overlay line plot\n",
    "thirty_year_simulation.plot_simulation()\n"
   ]
  },
  {
   "cell_type": "markdown",
   "metadata": {},
   "source": [
    "#### Step 3: Plot the probability distribution of the Monte Carlo simulation."
   ]
  },
  {
   "cell_type": "code",
   "execution_count": 33,
   "metadata": {},
   "outputs": [
    {
     "data": {
      "text/plain": [
       "<AxesSubplot:title={'center':'Distribution of Final Cumuluative Returns Across All 500 Simulations'}, ylabel='Frequency'>"
      ]
     },
     "execution_count": 33,
     "metadata": {},
     "output_type": "execute_result"
    },
    {
     "data": {
      "image/png": "[encoded data removed]",
      "text/plain": [
       "<Figure size 432x288 with 1 Axes>"
      ]
     },
     "metadata": {
      "needs_background": "light"
     },
     "output_type": "display_data"
    }
   ],
   "source": [
    "# Visualize the probability distribution of the 30-year Monte Carlo simulation \n",
    "# by plotting a histogram\n",
    "thirty_year_simulation.plot_distribution()\n"
   ]
  },
  {
   "cell_type": "markdown",
   "metadata": {},
   "source": [
    "#### Step 4: Generate the summary statistics for the Monte Carlo simulation."
   ]
  },
  {
   "cell_type": "code",
   "execution_count": 34,
   "metadata": {},
   "outputs": [
    {
     "data": {
      "text/plain": [
       "count           500.000000\n",
       "mean             43.247270\n",
       "std              37.122682\n",
       "min               2.673221\n",
       "25%              19.152822\n",
       "50%              32.955977\n",
       "75%              55.137300\n",
       "max             270.597981\n",
       "95% CI Lower      6.587731\n",
       "95% CI Upper    143.671315\n",
       "Name: 7560, dtype: float64"
      ]
     },
     "execution_count": 34,
     "metadata": {},
     "output_type": "execute_result"
    }
   ],
   "source": [
    "# Generate summary statistics from the 30-year Monte Carlo simulation results\n",
    "# Save the results as a variable\n",
    "thirty_year_simulation_statistics = thirty_year_simulation.summarize_cumulative_return()\n",
    "\n",
    "# Review the 30-year Monte Carlo summary statistics\n",
    "thirty_year_simulation_statistics"
   ]
  },
  {
   "cell_type": "markdown",
   "metadata": {},
   "source": [
    "### Analyze the Retirement Portfolio Forecasts\n",
    "\n",
    "Using the current value of only the stock and bond portion of the member's portfolio and the summary statistics that you generated from the Monte Carlo simulation, answer the following question in your Jupyter notebook:\n",
    "\n",
    "-  What are the lower and upper bounds for the expected value of the portfolio with a 95% confidence interval?\n"
   ]
  },
  {
   "cell_type": "code",
   "execution_count": 35,
   "metadata": {},
   "outputs": [
    {
     "name": "stdout",
     "output_type": "stream",
     "text": [
      "The current balance of the stock and bond portfolio is $166,208.04\n"
     ]
    }
   ],
   "source": [
    "# Print the current balance of the stock and bond portion of the members portfolio\n",
    "print(f\"The current balance of the stock and bond portfolio is ${total_portfolio:,.2f}\")"
   ]
  },
  {
   "cell_type": "code",
   "execution_count": 36,
   "metadata": {},
   "outputs": [
    {
     "name": "stdout",
     "output_type": "stream",
     "text": [
      "There is a 95% chance that the portfolio over the next 30 years will end within in the range of $1,094,933.90 and $23,879,327.19.\n"
     ]
    }
   ],
   "source": [
    "# Use the lower and upper `95%` confidence intervals to calculate the range of the possible outcomes for the current stock/bond portfolio\n",
    "ci_lower_thirty_cumulative_return = round(thirty_year_simulation_statistics[8]*total_portfolio,2)\n",
    "ci_upper_thirty_cumulative_return = round(thirty_year_simulation_statistics[9]*total_portfolio,2)\n",
    "\n",
    "# Print the result of your calculations\n",
    "print(f\"There is a 95% chance that the portfolio\"\n",
    "      f\" over the next 30 years will end within in the range of\"\n",
    "      f\" ${ci_lower_thirty_cumulative_return:,.2f} and ${ci_upper_thirty_cumulative_return:,.2f}.\")\n"
   ]
  },
  {
   "cell_type": "markdown",
   "metadata": {},
   "source": [
    "### Forecast Cumulative Returns in 10 Years\n",
    "\n",
    "The CTO of the credit union is impressed with your work on these planning tools but wonders if 30 years is a long time to wait until retirement. So, your next task is to adjust the retirement portfolio and run a new Monte Carlo simulation to find out if the changes will allow members to retire earlier.\n",
    "\n",
    "For this new Monte Carlo simulation, do the following: \n",
    "\n",
    "- Forecast the cumulative returns for 10 years from now. Because of the shortened investment horizon (30 years to 10 years), the portfolio needs to invest more heavily in the riskier asset&mdash;that is, stock&mdash;to help accumulate wealth for retirement. \n",
    "\n",
    "- Adjust the weights of the retirement portfolio so that the composition for the Monte Carlo simulation consists of 20% bonds and 80% stocks. \n",
    "\n",
    "- Run the simulation over 500 samples, and use the same data that the API call to Alpaca generated.\n",
    "\n",
    "- Based on the new Monte Carlo simulation, answer the following questions in your Jupyter notebook:\n",
    "\n",
    "    - Using the current value of only the stock and bond portion of the member's portfolio and the summary statistics that you generated from the new Monte Carlo simulation, what are the lower and upper bounds for the expected value of the portfolio (with the new weights) with a 95% confidence interval?\n",
    "\n",
    "    - Will weighting the portfolio more heavily toward stocks allow the credit union members to retire after only 10 years?\n"
   ]
  },
  {
   "cell_type": "code",
   "execution_count": 37,
   "metadata": {},
   "outputs": [
    {
     "data": {
      "text/html": [
       "<div>\n",
       "<style scoped>\n",
       "    .dataframe tbody tr th:only-of-type {\n",
       "        vertical-align: middle;\n",
       "    }\n",
       "\n",
       "    .dataframe tbody tr th {\n",
       "        vertical-align: top;\n",
       "    }\n",
       "\n",
       "    .dataframe thead tr th {\n",
       "        text-align: left;\n",
       "    }\n",
       "\n",
       "    .dataframe thead tr:last-of-type th {\n",
       "        text-align: right;\n",
       "    }\n",
       "</style>\n",
       "<table border=\"1\" class=\"dataframe\">\n",
       "  <thead>\n",
       "    <tr>\n",
       "      <th></th>\n",
       "      <th colspan=\"6\" halign=\"left\">AGG</th>\n",
       "      <th colspan=\"6\" halign=\"left\">SPY</th>\n",
       "    </tr>\n",
       "    <tr>\n",
       "      <th></th>\n",
       "      <th>open</th>\n",
       "      <th>high</th>\n",
       "      <th>low</th>\n",
       "      <th>close</th>\n",
       "      <th>volume</th>\n",
       "      <th>daily_return</th>\n",
       "      <th>open</th>\n",
       "      <th>high</th>\n",
       "      <th>low</th>\n",
       "      <th>close</th>\n",
       "      <th>volume</th>\n",
       "      <th>daily_return</th>\n",
       "    </tr>\n",
       "    <tr>\n",
       "      <th>time</th>\n",
       "      <th></th>\n",
       "      <th></th>\n",
       "      <th></th>\n",
       "      <th></th>\n",
       "      <th></th>\n",
       "      <th></th>\n",
       "      <th></th>\n",
       "      <th></th>\n",
       "      <th></th>\n",
       "      <th></th>\n",
       "      <th></th>\n",
       "      <th></th>\n",
       "    </tr>\n",
       "  </thead>\n",
       "  <tbody>\n",
       "    <tr>\n",
       "      <th>2018-10-15 00:00:00-04:00</th>\n",
       "      <td>104.73</td>\n",
       "      <td>104.7835</td>\n",
       "      <td>104.6233</td>\n",
       "      <td>104.670</td>\n",
       "      <td>2502508.0</td>\n",
       "      <td>NaN</td>\n",
       "      <td>275.55</td>\n",
       "      <td>277.04</td>\n",
       "      <td>274.30</td>\n",
       "      <td>274.48</td>\n",
       "      <td>75385132</td>\n",
       "      <td>NaN</td>\n",
       "    </tr>\n",
       "    <tr>\n",
       "      <th>2018-10-16 00:00:00-04:00</th>\n",
       "      <td>104.69</td>\n",
       "      <td>104.7400</td>\n",
       "      <td>104.5800</td>\n",
       "      <td>104.740</td>\n",
       "      <td>5520646.0</td>\n",
       "      <td>0.000669</td>\n",
       "      <td>276.57</td>\n",
       "      <td>280.82</td>\n",
       "      <td>276.07</td>\n",
       "      <td>280.30</td>\n",
       "      <td>75057478</td>\n",
       "      <td>0.021204</td>\n",
       "    </tr>\n",
       "    <tr>\n",
       "      <th>2018-10-17 00:00:00-04:00</th>\n",
       "      <td>104.71</td>\n",
       "      <td>104.7700</td>\n",
       "      <td>104.5200</td>\n",
       "      <td>104.535</td>\n",
       "      <td>2608875.0</td>\n",
       "      <td>-0.001957</td>\n",
       "      <td>280.44</td>\n",
       "      <td>281.15</td>\n",
       "      <td>277.56</td>\n",
       "      <td>280.40</td>\n",
       "      <td>81740972</td>\n",
       "      <td>0.000357</td>\n",
       "    </tr>\n",
       "    <tr>\n",
       "      <th>2018-10-18 00:00:00-04:00</th>\n",
       "      <td>104.39</td>\n",
       "      <td>104.6195</td>\n",
       "      <td>104.3750</td>\n",
       "      <td>104.460</td>\n",
       "      <td>2687836.0</td>\n",
       "      <td>-0.000717</td>\n",
       "      <td>279.40</td>\n",
       "      <td>280.07</td>\n",
       "      <td>274.97</td>\n",
       "      <td>276.47</td>\n",
       "      <td>106592503</td>\n",
       "      <td>-0.014016</td>\n",
       "    </tr>\n",
       "    <tr>\n",
       "      <th>2018-10-19 00:00:00-04:00</th>\n",
       "      <td>104.47</td>\n",
       "      <td>104.5500</td>\n",
       "      <td>104.3400</td>\n",
       "      <td>104.370</td>\n",
       "      <td>2912850.0</td>\n",
       "      <td>-0.000862</td>\n",
       "      <td>277.12</td>\n",
       "      <td>279.30</td>\n",
       "      <td>275.47</td>\n",
       "      <td>276.19</td>\n",
       "      <td>86816021</td>\n",
       "      <td>-0.001013</td>\n",
       "    </tr>\n",
       "  </tbody>\n",
       "</table>\n",
       "</div>"
      ],
      "text/plain": [
       "                              AGG                                          \\\n",
       "                             open      high       low    close     volume   \n",
       "time                                                                        \n",
       "2018-10-15 00:00:00-04:00  104.73  104.7835  104.6233  104.670  2502508.0   \n",
       "2018-10-16 00:00:00-04:00  104.69  104.7400  104.5800  104.740  5520646.0   \n",
       "2018-10-17 00:00:00-04:00  104.71  104.7700  104.5200  104.535  2608875.0   \n",
       "2018-10-18 00:00:00-04:00  104.39  104.6195  104.3750  104.460  2687836.0   \n",
       "2018-10-19 00:00:00-04:00  104.47  104.5500  104.3400  104.370  2912850.0   \n",
       "\n",
       "                                           SPY                          \\\n",
       "                          daily_return    open    high     low   close   \n",
       "time                                                                     \n",
       "2018-10-15 00:00:00-04:00          NaN  275.55  277.04  274.30  274.48   \n",
       "2018-10-16 00:00:00-04:00     0.000669  276.57  280.82  276.07  280.30   \n",
       "2018-10-17 00:00:00-04:00    -0.001957  280.44  281.15  277.56  280.40   \n",
       "2018-10-18 00:00:00-04:00    -0.000717  279.40  280.07  274.97  276.47   \n",
       "2018-10-19 00:00:00-04:00    -0.000862  277.12  279.30  275.47  276.19   \n",
       "\n",
       "                                                   \n",
       "                              volume daily_return  \n",
       "time                                               \n",
       "2018-10-15 00:00:00-04:00   75385132          NaN  \n",
       "2018-10-16 00:00:00-04:00   75057478     0.021204  \n",
       "2018-10-17 00:00:00-04:00   81740972     0.000357  \n",
       "2018-10-18 00:00:00-04:00  106592503    -0.014016  \n",
       "2018-10-19 00:00:00-04:00   86816021    -0.001013  "
      ]
     },
     "execution_count": 37,
     "metadata": {},
     "output_type": "execute_result"
    }
   ],
   "source": [
    "# Configure a Monte Carlo simulation to forecast 10 years cumulative returns\n",
    "# The weights should be split 20% to AGG and 80% to SPY.\n",
    "# Run 500 samples.\n",
    "ten_year_simulation = MCSimulation(\n",
    "    portfolio_data=ticker_data_3y,\n",
    "    weights=[0.20, 0.80],\n",
    "    num_simulation=500,\n",
    "    num_trading_days=252*10,\n",
    ")\n",
    "\n",
    "\n",
    "# Review the simulation input data\n",
    "ten_year_simulation.portfolio_data.head()\n"
   ]
  },
  {
   "cell_type": "code",
   "execution_count": 38,
   "metadata": {},
   "outputs": [
    {
     "name": "stdout",
     "output_type": "stream",
     "text": [
      "Running Monte Carlo simulation number 0.\n",
      "Running Monte Carlo simulation number 10.\n",
      "Running Monte Carlo simulation number 20.\n",
      "Running Monte Carlo simulation number 30.\n",
      "Running Monte Carlo simulation number 40.\n",
      "Running Monte Carlo simulation number 50.\n",
      "Running Monte Carlo simulation number 60.\n",
      "Running Monte Carlo simulation number 70.\n",
      "Running Monte Carlo simulation number 80.\n",
      "Running Monte Carlo simulation number 90.\n",
      "Running Monte Carlo simulation number 100.\n",
      "Running Monte Carlo simulation number 110.\n",
      "Running Monte Carlo simulation number 120.\n",
      "Running Monte Carlo simulation number 130.\n",
      "Running Monte Carlo simulation number 140.\n",
      "Running Monte Carlo simulation number 150.\n",
      "Running Monte Carlo simulation number 160.\n",
      "Running Monte Carlo simulation number 170.\n",
      "Running Monte Carlo simulation number 180.\n",
      "Running Monte Carlo simulation number 190.\n",
      "Running Monte Carlo simulation number 200.\n",
      "Running Monte Carlo simulation number 210.\n",
      "Running Monte Carlo simulation number 220.\n",
      "Running Monte Carlo simulation number 230.\n",
      "Running Monte Carlo simulation number 240.\n",
      "Running Monte Carlo simulation number 250.\n",
      "Running Monte Carlo simulation number 260.\n",
      "Running Monte Carlo simulation number 270.\n",
      "Running Monte Carlo simulation number 280.\n",
      "Running Monte Carlo simulation number 290.\n",
      "Running Monte Carlo simulation number 300.\n",
      "Running Monte Carlo simulation number 310.\n",
      "Running Monte Carlo simulation number 320.\n",
      "Running Monte Carlo simulation number 330.\n",
      "Running Monte Carlo simulation number 340.\n",
      "Running Monte Carlo simulation number 350.\n",
      "Running Monte Carlo simulation number 360.\n",
      "Running Monte Carlo simulation number 370.\n",
      "Running Monte Carlo simulation number 380.\n",
      "Running Monte Carlo simulation number 390.\n",
      "Running Monte Carlo simulation number 400.\n",
      "Running Monte Carlo simulation number 410.\n",
      "Running Monte Carlo simulation number 420.\n",
      "Running Monte Carlo simulation number 430.\n",
      "Running Monte Carlo simulation number 440.\n",
      "Running Monte Carlo simulation number 450.\n",
      "Running Monte Carlo simulation number 460.\n",
      "Running Monte Carlo simulation number 470.\n",
      "Running Monte Carlo simulation number 480.\n",
      "Running Monte Carlo simulation number 490.\n"
     ]
    },
    {
     "data": {
      "text/html": [
       "<div>\n",
       "<style scoped>\n",
       "    .dataframe tbody tr th:only-of-type {\n",
       "        vertical-align: middle;\n",
       "    }\n",
       "\n",
       "    .dataframe tbody tr th {\n",
       "        vertical-align: top;\n",
       "    }\n",
       "\n",
       "    .dataframe thead th {\n",
       "        text-align: right;\n",
       "    }\n",
       "</style>\n",
       "<table border=\"1\" class=\"dataframe\">\n",
       "  <thead>\n",
       "    <tr style=\"text-align: right;\">\n",
       "      <th></th>\n",
       "      <th>0</th>\n",
       "      <th>1</th>\n",
       "      <th>2</th>\n",
       "      <th>3</th>\n",
       "      <th>4</th>\n",
       "      <th>5</th>\n",
       "      <th>6</th>\n",
       "      <th>7</th>\n",
       "      <th>8</th>\n",
       "      <th>9</th>\n",
       "      <th>...</th>\n",
       "      <th>490</th>\n",
       "      <th>491</th>\n",
       "      <th>492</th>\n",
       "      <th>493</th>\n",
       "      <th>494</th>\n",
       "      <th>495</th>\n",
       "      <th>496</th>\n",
       "      <th>497</th>\n",
       "      <th>498</th>\n",
       "      <th>499</th>\n",
       "    </tr>\n",
       "  </thead>\n",
       "  <tbody>\n",
       "    <tr>\n",
       "      <th>0</th>\n",
       "      <td>1.000000</td>\n",
       "      <td>1.000000</td>\n",
       "      <td>1.000000</td>\n",
       "      <td>1.000000</td>\n",
       "      <td>1.000000</td>\n",
       "      <td>1.000000</td>\n",
       "      <td>1.000000</td>\n",
       "      <td>1.000000</td>\n",
       "      <td>1.000000</td>\n",
       "      <td>1.000000</td>\n",
       "      <td>...</td>\n",
       "      <td>1.000000</td>\n",
       "      <td>1.000000</td>\n",
       "      <td>1.000000</td>\n",
       "      <td>1.000000</td>\n",
       "      <td>1.000000</td>\n",
       "      <td>1.000000</td>\n",
       "      <td>1.000000</td>\n",
       "      <td>1.000000</td>\n",
       "      <td>1.000000</td>\n",
       "      <td>1.000000</td>\n",
       "    </tr>\n",
       "    <tr>\n",
       "      <th>1</th>\n",
       "      <td>1.002718</td>\n",
       "      <td>1.000007</td>\n",
       "      <td>0.995153</td>\n",
       "      <td>1.000377</td>\n",
       "      <td>1.000906</td>\n",
       "      <td>1.006166</td>\n",
       "      <td>0.978267</td>\n",
       "      <td>1.016464</td>\n",
       "      <td>1.020921</td>\n",
       "      <td>1.004542</td>\n",
       "      <td>...</td>\n",
       "      <td>0.992231</td>\n",
       "      <td>1.007132</td>\n",
       "      <td>1.006954</td>\n",
       "      <td>1.001003</td>\n",
       "      <td>0.989075</td>\n",
       "      <td>0.989645</td>\n",
       "      <td>0.991041</td>\n",
       "      <td>1.005851</td>\n",
       "      <td>1.000069</td>\n",
       "      <td>1.003164</td>\n",
       "    </tr>\n",
       "    <tr>\n",
       "      <th>2</th>\n",
       "      <td>1.020314</td>\n",
       "      <td>1.003484</td>\n",
       "      <td>0.985404</td>\n",
       "      <td>1.029536</td>\n",
       "      <td>0.998078</td>\n",
       "      <td>1.016182</td>\n",
       "      <td>0.969908</td>\n",
       "      <td>1.018282</td>\n",
       "      <td>1.021346</td>\n",
       "      <td>1.005175</td>\n",
       "      <td>...</td>\n",
       "      <td>1.001769</td>\n",
       "      <td>0.996975</td>\n",
       "      <td>1.004782</td>\n",
       "      <td>1.000819</td>\n",
       "      <td>0.994883</td>\n",
       "      <td>0.982192</td>\n",
       "      <td>0.985323</td>\n",
       "      <td>1.001794</td>\n",
       "      <td>1.000087</td>\n",
       "      <td>0.996558</td>\n",
       "    </tr>\n",
       "    <tr>\n",
       "      <th>3</th>\n",
       "      <td>1.038524</td>\n",
       "      <td>0.995880</td>\n",
       "      <td>1.001591</td>\n",
       "      <td>1.030472</td>\n",
       "      <td>1.007943</td>\n",
       "      <td>1.036800</td>\n",
       "      <td>0.980295</td>\n",
       "      <td>1.031017</td>\n",
       "      <td>1.003868</td>\n",
       "      <td>0.981040</td>\n",
       "      <td>...</td>\n",
       "      <td>0.995662</td>\n",
       "      <td>0.981014</td>\n",
       "      <td>1.019779</td>\n",
       "      <td>1.003532</td>\n",
       "      <td>0.999733</td>\n",
       "      <td>0.983883</td>\n",
       "      <td>0.962674</td>\n",
       "      <td>1.013874</td>\n",
       "      <td>1.001145</td>\n",
       "      <td>0.988277</td>\n",
       "    </tr>\n",
       "    <tr>\n",
       "      <th>4</th>\n",
       "      <td>1.048221</td>\n",
       "      <td>0.977023</td>\n",
       "      <td>1.014635</td>\n",
       "      <td>1.047350</td>\n",
       "      <td>0.999050</td>\n",
       "      <td>1.056552</td>\n",
       "      <td>0.983101</td>\n",
       "      <td>1.029328</td>\n",
       "      <td>1.004766</td>\n",
       "      <td>0.960099</td>\n",
       "      <td>...</td>\n",
       "      <td>0.975464</td>\n",
       "      <td>0.964175</td>\n",
       "      <td>1.010878</td>\n",
       "      <td>0.988373</td>\n",
       "      <td>1.006604</td>\n",
       "      <td>0.966698</td>\n",
       "      <td>0.987434</td>\n",
       "      <td>1.011923</td>\n",
       "      <td>1.005221</td>\n",
       "      <td>0.975411</td>\n",
       "    </tr>\n",
       "    <tr>\n",
       "      <th>...</th>\n",
       "      <td>...</td>\n",
       "      <td>...</td>\n",
       "      <td>...</td>\n",
       "      <td>...</td>\n",
       "      <td>...</td>\n",
       "      <td>...</td>\n",
       "      <td>...</td>\n",
       "      <td>...</td>\n",
       "      <td>...</td>\n",
       "      <td>...</td>\n",
       "      <td>...</td>\n",
       "      <td>...</td>\n",
       "      <td>...</td>\n",
       "      <td>...</td>\n",
       "      <td>...</td>\n",
       "      <td>...</td>\n",
       "      <td>...</td>\n",
       "      <td>...</td>\n",
       "      <td>...</td>\n",
       "      <td>...</td>\n",
       "      <td>...</td>\n",
       "    </tr>\n",
       "    <tr>\n",
       "      <th>2516</th>\n",
       "      <td>6.104829</td>\n",
       "      <td>4.171783</td>\n",
       "      <td>5.114424</td>\n",
       "      <td>4.768859</td>\n",
       "      <td>2.293687</td>\n",
       "      <td>5.351330</td>\n",
       "      <td>1.399686</td>\n",
       "      <td>4.651162</td>\n",
       "      <td>3.625730</td>\n",
       "      <td>1.465036</td>\n",
       "      <td>...</td>\n",
       "      <td>4.554076</td>\n",
       "      <td>2.267156</td>\n",
       "      <td>8.418181</td>\n",
       "      <td>4.568160</td>\n",
       "      <td>2.915490</td>\n",
       "      <td>1.426751</td>\n",
       "      <td>5.246383</td>\n",
       "      <td>3.505508</td>\n",
       "      <td>1.236544</td>\n",
       "      <td>4.100998</td>\n",
       "    </tr>\n",
       "    <tr>\n",
       "      <th>2517</th>\n",
       "      <td>6.172757</td>\n",
       "      <td>4.177803</td>\n",
       "      <td>5.112893</td>\n",
       "      <td>4.817283</td>\n",
       "      <td>2.331079</td>\n",
       "      <td>5.328592</td>\n",
       "      <td>1.420150</td>\n",
       "      <td>4.625857</td>\n",
       "      <td>3.631578</td>\n",
       "      <td>1.470334</td>\n",
       "      <td>...</td>\n",
       "      <td>4.564936</td>\n",
       "      <td>2.297347</td>\n",
       "      <td>8.237383</td>\n",
       "      <td>4.569827</td>\n",
       "      <td>2.882497</td>\n",
       "      <td>1.421305</td>\n",
       "      <td>5.212031</td>\n",
       "      <td>3.542188</td>\n",
       "      <td>1.218905</td>\n",
       "      <td>4.135096</td>\n",
       "    </tr>\n",
       "    <tr>\n",
       "      <th>2518</th>\n",
       "      <td>6.186671</td>\n",
       "      <td>4.169032</td>\n",
       "      <td>5.040851</td>\n",
       "      <td>4.742957</td>\n",
       "      <td>2.298736</td>\n",
       "      <td>5.193924</td>\n",
       "      <td>1.412038</td>\n",
       "      <td>4.753706</td>\n",
       "      <td>3.589109</td>\n",
       "      <td>1.463523</td>\n",
       "      <td>...</td>\n",
       "      <td>4.557601</td>\n",
       "      <td>2.277223</td>\n",
       "      <td>8.335284</td>\n",
       "      <td>4.656141</td>\n",
       "      <td>2.858182</td>\n",
       "      <td>1.410339</td>\n",
       "      <td>5.292335</td>\n",
       "      <td>3.500899</td>\n",
       "      <td>1.223956</td>\n",
       "      <td>4.116240</td>\n",
       "    </tr>\n",
       "    <tr>\n",
       "      <th>2519</th>\n",
       "      <td>6.282615</td>\n",
       "      <td>4.095643</td>\n",
       "      <td>5.018656</td>\n",
       "      <td>4.695520</td>\n",
       "      <td>2.321550</td>\n",
       "      <td>5.283950</td>\n",
       "      <td>1.419768</td>\n",
       "      <td>4.769262</td>\n",
       "      <td>3.555828</td>\n",
       "      <td>1.463364</td>\n",
       "      <td>...</td>\n",
       "      <td>4.490290</td>\n",
       "      <td>2.250037</td>\n",
       "      <td>8.246235</td>\n",
       "      <td>4.681814</td>\n",
       "      <td>2.876572</td>\n",
       "      <td>1.415017</td>\n",
       "      <td>5.198340</td>\n",
       "      <td>3.461786</td>\n",
       "      <td>1.227598</td>\n",
       "      <td>4.085019</td>\n",
       "    </tr>\n",
       "    <tr>\n",
       "      <th>2520</th>\n",
       "      <td>6.376133</td>\n",
       "      <td>4.014843</td>\n",
       "      <td>5.033445</td>\n",
       "      <td>4.668534</td>\n",
       "      <td>2.317064</td>\n",
       "      <td>5.215962</td>\n",
       "      <td>1.417271</td>\n",
       "      <td>4.810191</td>\n",
       "      <td>3.566703</td>\n",
       "      <td>1.456936</td>\n",
       "      <td>...</td>\n",
       "      <td>4.481315</td>\n",
       "      <td>2.266838</td>\n",
       "      <td>8.215946</td>\n",
       "      <td>4.750266</td>\n",
       "      <td>2.922200</td>\n",
       "      <td>1.392892</td>\n",
       "      <td>5.134083</td>\n",
       "      <td>3.496645</td>\n",
       "      <td>1.213871</td>\n",
       "      <td>4.147809</td>\n",
       "    </tr>\n",
       "  </tbody>\n",
       "</table>\n",
       "<p>2521 rows × 500 columns</p>\n",
       "</div>"
      ],
      "text/plain": [
       "           0         1         2         3         4         5         6    \\\n",
       "0     1.000000  1.000000  1.000000  1.000000  1.000000  1.000000  1.000000   \n",
       "1     1.002718  1.000007  0.995153  1.000377  1.000906  1.006166  0.978267   \n",
       "2     1.020314  1.003484  0.985404  1.029536  0.998078  1.016182  0.969908   \n",
       "3     1.038524  0.995880  1.001591  1.030472  1.007943  1.036800  0.980295   \n",
       "4     1.048221  0.977023  1.014635  1.047350  0.999050  1.056552  0.983101   \n",
       "...        ...       ...       ...       ...       ...       ...       ...   \n",
       "2516  6.104829  4.171783  5.114424  4.768859  2.293687  5.351330  1.399686   \n",
       "2517  6.172757  4.177803  5.112893  4.817283  2.331079  5.328592  1.420150   \n",
       "2518  6.186671  4.169032  5.040851  4.742957  2.298736  5.193924  1.412038   \n",
       "2519  6.282615  4.095643  5.018656  4.695520  2.321550  5.283950  1.419768   \n",
       "2520  6.376133  4.014843  5.033445  4.668534  2.317064  5.215962  1.417271   \n",
       "\n",
       "           7         8         9    ...       490       491       492  \\\n",
       "0     1.000000  1.000000  1.000000  ...  1.000000  1.000000  1.000000   \n",
       "1     1.016464  1.020921  1.004542  ...  0.992231  1.007132  1.006954   \n",
       "2     1.018282  1.021346  1.005175  ...  1.001769  0.996975  1.004782   \n",
       "3     1.031017  1.003868  0.981040  ...  0.995662  0.981014  1.019779   \n",
       "4     1.029328  1.004766  0.960099  ...  0.975464  0.964175  1.010878   \n",
       "...        ...       ...       ...  ...       ...       ...       ...   \n",
       "2516  4.651162  3.625730  1.465036  ...  4.554076  2.267156  8.418181   \n",
       "2517  4.625857  3.631578  1.470334  ...  4.564936  2.297347  8.237383   \n",
       "2518  4.753706  3.589109  1.463523  ...  4.557601  2.277223  8.335284   \n",
       "2519  4.769262  3.555828  1.463364  ...  4.490290  2.250037  8.246235   \n",
       "2520  4.810191  3.566703  1.456936  ...  4.481315  2.266838  8.215946   \n",
       "\n",
       "           493       494       495       496       497       498       499  \n",
       "0     1.000000  1.000000  1.000000  1.000000  1.000000  1.000000  1.000000  \n",
       "1     1.001003  0.989075  0.989645  0.991041  1.005851  1.000069  1.003164  \n",
       "2     1.000819  0.994883  0.982192  0.985323  1.001794  1.000087  0.996558  \n",
       "3     1.003532  0.999733  0.983883  0.962674  1.013874  1.001145  0.988277  \n",
       "4     0.988373  1.006604  0.966698  0.987434  1.011923  1.005221  0.975411  \n",
       "...        ...       ...       ...       ...       ...       ...       ...  \n",
       "2516  4.568160  2.915490  1.426751  5.246383  3.505508  1.236544  4.100998  \n",
       "2517  4.569827  2.882497  1.421305  5.212031  3.542188  1.218905  4.135096  \n",
       "2518  4.656141  2.858182  1.410339  5.292335  3.500899  1.223956  4.116240  \n",
       "2519  4.681814  2.876572  1.415017  5.198340  3.461786  1.227598  4.085019  \n",
       "2520  4.750266  2.922200  1.392892  5.134083  3.496645  1.213871  4.147809  \n",
       "\n",
       "[2521 rows x 500 columns]"
      ]
     },
     "execution_count": 38,
     "metadata": {},
     "output_type": "execute_result"
    }
   ],
   "source": [
    "# Run the Monte Carlo simulation to forecast 10 years cumulative returns\n",
    "ten_year_simulation.calc_cumulative_return()\n"
   ]
  },
  {
   "cell_type": "code",
   "execution_count": 39,
   "metadata": {},
   "outputs": [
    {
     "data": {
      "text/plain": [
       "<AxesSubplot:title={'center':'500 Simulations of Cumulative Portfolio Return Trajectories Over the Next 2520 Trading Days.'}>"
      ]
     },
     "execution_count": 39,
     "metadata": {},
     "output_type": "execute_result"
    },
    {
     "data": {
      "image/png": "[encoded data removed]",
      "text/plain": [
       "<Figure size 432x288 with 1 Axes>"
      ]
     },
     "metadata": {
      "needs_background": "light"
     },
     "output_type": "display_data"
    }
   ],
   "source": [
    "# Visualize the 10-year Monte Carlo simulation by creating an\n",
    "# overlay line plot\n",
    "ten_year_simulation.plot_simulation()\n"
   ]
  },
  {
   "cell_type": "code",
   "execution_count": 40,
   "metadata": {},
   "outputs": [
    {
     "data": {
      "text/plain": [
       "<AxesSubplot:title={'center':'Distribution of Final Cumuluative Returns Across All 500 Simulations'}, ylabel='Frequency'>"
      ]
     },
     "execution_count": 40,
     "metadata": {},
     "output_type": "execute_result"
    },
    {
     "data": {
      "image/png": "[encoded data removed]",
      "text/plain": [
       "<Figure size 432x288 with 1 Axes>"
      ]
     },
     "metadata": {
      "needs_background": "light"
     },
     "output_type": "display_data"
    }
   ],
   "source": [
    "# Visualize the probability distribution of the 10-year Monte Carlo simulation \n",
    "# by plotting a histogram\n",
    "ten_year_simulation.plot_distribution()\n"
   ]
  },
  {
   "cell_type": "code",
   "execution_count": 41,
   "metadata": {},
   "outputs": [
    {
     "data": {
      "text/plain": [
       "count           500.000000\n",
       "mean              4.971499\n",
       "std               3.431124\n",
       "min               0.753835\n",
       "25%               2.840456\n",
       "50%               4.014669\n",
       "75%               6.196600\n",
       "max              33.351532\n",
       "95% CI Lower      1.316161\n",
       "95% CI Upper     13.876485\n",
       "Name: 2520, dtype: float64"
      ]
     },
     "execution_count": 41,
     "metadata": {},
     "output_type": "execute_result"
    }
   ],
   "source": [
    "# Generate summary statistics from the 10-year Monte Carlo simulation results\n",
    "# Save the results as a variable\n",
    "ten_year_simulation_statistics = ten_year_simulation.summarize_cumulative_return()\n",
    "\n",
    "\n",
    "# Review the 10-year Monte Carlo summary statistics\n",
    "ten_year_simulation_statistics"
   ]
  },
  {
   "cell_type": "markdown",
   "metadata": {},
   "source": [
    "### Answer the following questions:"
   ]
  },
  {
   "cell_type": "markdown",
   "metadata": {},
   "source": [
    "#### Question: Using the current value of only the stock and bond portion of the member's portfolio and the summary statistics that you generated from the new Monte Carlo simulation, what are the lower and upper bounds for the expected value of the portfolio (with the new weights) with a 95% confidence interval?"
   ]
  },
  {
   "cell_type": "code",
   "execution_count": 42,
   "metadata": {},
   "outputs": [
    {
     "name": "stdout",
     "output_type": "stream",
     "text": [
      "The current balance of the stock and bond portfolio is $166,208.04\n"
     ]
    }
   ],
   "source": [
    "# Print the current balance of the stock and bond portion of the members portfolio\n",
    "print(f\"The current balance of the stock and bond portfolio is ${total_portfolio:,.2f}\")\n"
   ]
  },
  {
   "cell_type": "code",
   "execution_count": 43,
   "metadata": {},
   "outputs": [
    {
     "name": "stdout",
     "output_type": "stream",
     "text": [
      "There is a 95% chance that the portfolio over the next 10 years will end within in the range of $218,756.49 and $2,306,383.34.\n"
     ]
    }
   ],
   "source": [
    "# Use the lower and upper `95%` confidence intervals to calculate the range of the possible outcomes for the current stock/bond portfolio\n",
    "ci_lower_ten_cumulative_return = round(ten_year_simulation_statistics[8]*total_portfolio,2)\n",
    "ci_upper_ten_cumulative_return = round(ten_year_simulation_statistics[9]*total_portfolio,2)\n",
    "\n",
    "# Print the result of your calculations\n",
    "print(f\"There is a 95% chance that the portfolio\"\n",
    "      f\" over the next 10 years will end within in the range of\"\n",
    "      f\" ${ci_lower_ten_cumulative_return:,.2f} and ${ci_upper_ten_cumulative_return:,.2f}.\")\n",
    "\n"
   ]
  },
  {
   "cell_type": "markdown",
   "metadata": {},
   "source": [
    "#### Question: Will weighting the portfolio more heavily to stocks allow the credit union members to retire after only 10 years?"
   ]
  },
  {
   "cell_type": "raw",
   "metadata": {},
   "source": [
    "**Answer** The 10 year portfolio on the lower side will not be sufficient to retire."
   ]
  },
  {
   "cell_type": "code",
   "execution_count": null,
   "metadata": {},
   "outputs": [],
   "source": []
  }
 ],
 "metadata": {
  "kernelspec": {
   "display_name": "Python 3",
   "language": "python",
   "name": "python3"
  },
  "language_info": {
   "codemirror_mode": {
    "name": "ipython",
    "version": 3
   },
   "file_extension": ".py",
   "mimetype": "text/x-python",
   "name": "python",
   "nbconvert_exporter": "python",
   "pygments_lexer": "ipython3",
   "version": "3.8.8"
  }
 },
 "nbformat": 4,
 "nbformat_minor": 4
}
