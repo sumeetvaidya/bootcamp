{
 "cells": [
  {
   "cell_type": "markdown",
   "metadata": {},
   "source": [
    "# Financial Planning with APIs and Simulations\n",
    "\n",
    "In this Challenge, you’ll create two financial analysis tools by using a single Jupyter notebook:\n",
    "\n",
    "Part 1: A financial planner for emergencies. The members will be able to use this tool to visualize their current savings. The members can then determine if they have enough reserves for an emergency fund.\n",
    "\n",
    "Part 2: A financial planner for retirement. This tool will forecast the performance of their retirement portfolio in 30 years. To do this, the tool will make an Alpaca API call via the Alpaca SDK to get historical price data for use in Monte Carlo simulations.\n",
    "\n",
    "You’ll use the information from the Monte Carlo simulation to answer questions about the portfolio in your Jupyter notebook.\n",
    "\n"
   ]
  },
  {
   "cell_type": "code",
   "execution_count": 1,
   "metadata": {},
   "outputs": [],
   "source": [
    "# Import the required libraries and dependencies\n",
    "import os\n",
    "import requests\n",
    "import json\n",
    "import pandas as pd\n",
    "from dotenv import load_dotenv\n",
    "import alpaca_trade_api as tradeapi\n",
    "from MCForecastTools import MCSimulation\n",
    "import datetime as dt\n",
    "import numpy as np\n",
    "%matplotlib inline"
   ]
  },
  {
   "cell_type": "code",
   "execution_count": 2,
   "metadata": {},
   "outputs": [
    {
     "data": {
      "text/plain": [
       "True"
      ]
     },
     "execution_count": 2,
     "metadata": {},
     "output_type": "execute_result"
    }
   ],
   "source": [
    "# Load the environment variables from the .env file\n",
    "#by calling the load_dotenv function\n",
    "load_dotenv(\"api.env\")"
   ]
  },
  {
   "cell_type": "markdown",
   "metadata": {},
   "source": [
    "## Part 1: Create a Financial Planner for Emergencies"
   ]
  },
  {
   "cell_type": "markdown",
   "metadata": {},
   "source": [
    "### Evaluate the Cryptocurrency Wallet by Using the Requests Library\n",
    "\n",
    "In this section, you’ll determine the current value of a member’s cryptocurrency wallet. You’ll collect the current prices for the Bitcoin and Ethereum cryptocurrencies by using the Python Requests library. For the prototype, you’ll assume that the member holds the 1.2 Bitcoins (BTC) and 5.3 Ethereum coins (ETH). To do all this, complete the following steps:\n",
    "\n",
    "1. Create a variable named `monthly_income`, and set its value to `12000`.\n",
    "\n",
    "2. Use the Requests library to get the current price (in US dollars) of Bitcoin (BTC) and Ethereum (ETH) by using the API endpoints that the starter code supplies.\n",
    "\n",
    "3. Navigate the JSON response object to access the current price of each coin, and store each in a variable.\n",
    "\n",
    "    > **Hint** Note the specific identifier for each cryptocurrency in the API JSON response. The Bitcoin identifier is `1`, and the Ethereum identifier is `1027`.\n",
    "\n",
    "4. Calculate the value, in US dollars, of the current amount of each cryptocurrency and of the entire cryptocurrency wallet.\n",
    "\n"
   ]
  },
  {
   "cell_type": "code",
   "execution_count": 3,
   "metadata": {},
   "outputs": [],
   "source": [
    "# The current number of coins for each cryptocurrency asset held in the portfolio.\n",
    "btc_coins = 1.2\n",
    "eth_coins = 5.3"
   ]
  },
  {
   "cell_type": "markdown",
   "metadata": {},
   "source": [
    "#### Step 1: Create a variable named `monthly_income`, and set its value to `12000`."
   ]
  },
  {
   "cell_type": "code",
   "execution_count": 4,
   "metadata": {},
   "outputs": [],
   "source": [
    "# The monthly amount for the member's household income\n",
    "monthly_income=12000"
   ]
  },
  {
   "cell_type": "markdown",
   "metadata": {},
   "source": [
    "#### Review the endpoint URLs for the API calls to Free Crypto API in order to get the current pricing information for both BTC and ETH."
   ]
  },
  {
   "cell_type": "code",
   "execution_count": 5,
   "metadata": {},
   "outputs": [],
   "source": [
    "# The Free Crypto API Call endpoint URLs for the held cryptocurrency assets\n",
    "btc_url = \"https://api.alternative.me/v2/ticker/Bitcoin/?convert=USD\"\n",
    "eth_url = \"https://api.alternative.me/v2/ticker/Ethereum/?convert=USD\""
   ]
  },
  {
   "cell_type": "markdown",
   "metadata": {},
   "source": [
    "#### Step 2. Use the Requests library to get the current price (in US dollars) of Bitcoin (BTC) and Ethereum (ETH) by using the API endpoints that the starter code supplied."
   ]
  },
  {
   "cell_type": "code",
   "execution_count": 6,
   "metadata": {},
   "outputs": [
    {
     "name": "stdout",
     "output_type": "stream",
     "text": [
      "{\n",
      "   \"data\": {\n",
      "      \"1\": {\n",
      "         \"id\": 1,\n",
      "         \"name\": \"Bitcoin\",\n",
      "         \"symbol\": \"BTC\",\n",
      "         \"website_slug\": \"bitcoin\",\n",
      "         \"rank\": 1,\n",
      "         \"circulating_supply\": 18845800,\n",
      "         \"total_supply\": 18845800,\n",
      "         \"max_supply\": 21000000,\n",
      "         \"quotes\": {\n",
      "            \"USD\": {\n",
      "               \"price\": 61602.0,\n",
      "               \"volume_24h\": 34511598098,\n",
      "               \"market_cap\": 1157008794329,\n",
      "               \"percentage_change_1h\": 0.715196080719711,\n",
      "               \"percentage_change_24h\": -0.438666899745212,\n",
      "               \"percentage_change_7d\": 11.7483114029723,\n",
      "               \"percent_change_1h\": 0.715196080719711,\n",
      "               \"percent_change_24h\": -0.438666899745212,\n",
      "               \"percent_change_7d\": 11.7483114029723\n",
      "            }\n",
      "         },\n",
      "         \"last_updated\": 1634441358\n",
      "      }\n",
      "   },\n",
      "   \"metadata\": {\n",
      "      \"timestamp\": 1634441358,\n",
      "      \"num_cryptocurrencies\": 3105,\n",
      "      \"error\": null\n",
      "   }\n",
      "}\n"
     ]
    }
   ],
   "source": [
    "# Using the Python requests library, make an API call to access the current price of BTC\n",
    "btc_response = requests.get(btc_url).json()\n",
    "\n",
    "# Use the json.dumps function to review the response data from the API call\n",
    "# Use the indent and sort_keys parameters to make the response object readable\n",
    "print(json.dumps(btc_response, indent=3))\n"
   ]
  },
  {
   "cell_type": "code",
   "execution_count": 7,
   "metadata": {},
   "outputs": [
    {
     "name": "stdout",
     "output_type": "stream",
     "text": [
      "{\n",
      "   \"data\": {\n",
      "      \"1027\": {\n",
      "         \"id\": 1027,\n",
      "         \"name\": \"Ethereum\",\n",
      "         \"symbol\": \"ETH\",\n",
      "         \"website_slug\": \"ethereum\",\n",
      "         \"rank\": 2,\n",
      "         \"circulating_supply\": 117958235,\n",
      "         \"total_supply\": 117958235,\n",
      "         \"max_supply\": 0,\n",
      "         \"quotes\": {\n",
      "            \"USD\": {\n",
      "               \"price\": 3888.18,\n",
      "               \"volume_24h\": 17931906429,\n",
      "               \"market_cap\": 456391420295,\n",
      "               \"percentage_change_1h\": 0.742484359209533,\n",
      "               \"percentage_change_24h\": 0.594643004669537,\n",
      "               \"percentage_change_7d\": 8.36367570714978,\n",
      "               \"percent_change_1h\": 0.742484359209533,\n",
      "               \"percent_change_24h\": 0.594643004669537,\n",
      "               \"percent_change_7d\": 8.36367570714978\n",
      "            }\n",
      "         },\n",
      "         \"last_updated\": 1634441349\n",
      "      }\n",
      "   },\n",
      "   \"metadata\": {\n",
      "      \"timestamp\": 1634441349,\n",
      "      \"num_cryptocurrencies\": 3105,\n",
      "      \"error\": null\n",
      "   }\n",
      "}\n"
     ]
    }
   ],
   "source": [
    "# Using the Python requests library, make an API call to access the current price ETH\n",
    "eth_response = requests.get(eth_url).json()\n",
    "\n",
    "# Use the json.dumps function to review the response data from the API call\n",
    "# Use the indent and sort_keys parameters to make the response object readable\n",
    "print(json.dumps(eth_response, indent=3))\n"
   ]
  },
  {
   "cell_type": "markdown",
   "metadata": {},
   "source": [
    "#### Step 3: Navigate the JSON response object to access the current price of each coin, and store each in a variable."
   ]
  },
  {
   "cell_type": "code",
   "execution_count": 8,
   "metadata": {},
   "outputs": [
    {
     "name": "stdout",
     "output_type": "stream",
     "text": [
      "BTC price=61,602.00\n"
     ]
    }
   ],
   "source": [
    "# Navigate the BTC response object to access the current price of BTC\n",
    "btc_price = btc_response['data'][\"1\"]['quotes']['USD']['price']\n",
    "\n",
    "# Print the current price of BTC\n",
    "print (f\"BTC price={btc_price:,.2f}\")\n"
   ]
  },
  {
   "cell_type": "code",
   "execution_count": 9,
   "metadata": {},
   "outputs": [
    {
     "name": "stdout",
     "output_type": "stream",
     "text": [
      "ETH price=3,888.18\n"
     ]
    }
   ],
   "source": [
    "# Navigate the BTC response object to access the current price of ETH\n",
    "eth_price = eth_response['data'][\"1027\"]['quotes']['USD']['price']\n",
    "\n",
    "# Print the current price of ETH\n",
    "print (f\"ETH price={eth_price:,.2f}\")\n"
   ]
  },
  {
   "cell_type": "markdown",
   "metadata": {},
   "source": [
    "### Step 4: Calculate the value, in US dollars, of the current amount of each cryptocurrency and of the entire cryptocurrency wallet."
   ]
  },
  {
   "cell_type": "code",
   "execution_count": 10,
   "metadata": {},
   "outputs": [
    {
     "name": "stdout",
     "output_type": "stream",
     "text": [
      "BTC value = 73,922.40\n"
     ]
    }
   ],
   "source": [
    "# Compute the current value of the BTC holding \n",
    "btc_value = btc_coins*btc_price\n",
    "\n",
    "# Print current value of your holding in BTC\n",
    "print(f\"BTC value = {btc_value:,.2f}\")\n"
   ]
  },
  {
   "cell_type": "code",
   "execution_count": 11,
   "metadata": {},
   "outputs": [
    {
     "name": "stdout",
     "output_type": "stream",
     "text": [
      "ETH value = 20,607.35\n"
     ]
    }
   ],
   "source": [
    "# Compute the current value of the ETH holding \n",
    "eth_value = eth_coins*eth_price\n",
    "\n",
    "# Print current value of your holding in ETH\n",
    "print(f\"ETH value = {eth_value:,.2f}\")\n"
   ]
  },
  {
   "cell_type": "code",
   "execution_count": 12,
   "metadata": {},
   "outputs": [
    {
     "name": "stdout",
     "output_type": "stream",
     "text": [
      "Crypto Wallet value = 94,529.75\n"
     ]
    }
   ],
   "source": [
    "# Compute the total value of the cryptocurrency wallet\n",
    "# Add the value of the BTC holding to the value of the ETH holding\n",
    "total_crypto_wallet = btc_value + eth_value\n",
    "\n",
    "# Print current cryptocurrency wallet balance\n",
    "print(f\"Crypto Wallet value = {total_crypto_wallet:,.2f}\")\n"
   ]
  },
  {
   "cell_type": "markdown",
   "metadata": {},
   "source": [
    "### Evaluate the Stock and Bond Holdings by Using the Alpaca SDK\n",
    "\n",
    "In this section, you’ll determine the current value of a member’s stock and bond holdings. You’ll make an API call to Alpaca via the Alpaca SDK to get the current closing prices of the SPDR S&P 500 ETF Trust (ticker: SPY) and of the iShares Core US Aggregate Bond ETF (ticker: AGG). For the prototype, assume that the member holds 110 shares of SPY, which represents the stock portion of their portfolio, and 200 shares of AGG, which represents the bond portion. To do all this, complete the following steps:\n",
    "\n",
    "1. In the `Starter_Code` folder, create an environment file (`.env`) to store the values of your Alpaca API key and Alpaca secret key.\n",
    "\n",
    "2. Set the variables for the Alpaca API and secret keys. Using the Alpaca SDK, create the Alpaca `tradeapi.REST` object. In this object, include the parameters for the Alpaca API key, the secret key, and the version number.\n",
    "\n",
    "3. Set the following parameters for the Alpaca API call:\n",
    "\n",
    "    - `tickers`: Use the tickers for the member’s stock and bond holdings.\n",
    "\n",
    "    - `timeframe`: Use a time frame of one day.\n",
    "\n",
    "    - `start_date` and `end_date`: Use the same date for these parameters, and format them with the date of the previous weekday (or `2020-08-07`). This is because you want the one closing price for the most-recent trading day.\n",
    "\n",
    "4. Get the current closing prices for `SPY` and `AGG` by using the Alpaca `get_barset` function. Format the response as a Pandas DataFrame by including the `df` property at the end of the `get_barset` function.\n",
    "\n",
    "5. Navigating the Alpaca response DataFrame, select the `SPY` and `AGG` closing prices, and store them as variables.\n",
    "\n",
    "6. Calculate the value, in US dollars, of the current amount of shares in each of the stock and bond portions of the portfolio, and print the results.\n"
   ]
  },
  {
   "cell_type": "markdown",
   "metadata": {},
   "source": [
    "#### Review the total number of shares held in both (SPY) and (AGG)."
   ]
  },
  {
   "cell_type": "code",
   "execution_count": 13,
   "metadata": {},
   "outputs": [],
   "source": [
    "# Current amount of shares held in both the stock (SPY) and bond (AGG) portion of the portfolio.\n",
    "spy_shares = 110\n",
    "agg_shares = 200\n"
   ]
  },
  {
   "cell_type": "markdown",
   "metadata": {},
   "source": [
    "#### Step 1: In the `Starter_Code` folder, create an environment file (`.env`) to store the values of your Alpaca API key and Alpaca secret key."
   ]
  },
  {
   "cell_type": "markdown",
   "metadata": {},
   "source": [
    "#### Step 2: Set the variables for the Alpaca API and secret keys. Using the Alpaca SDK, create the Alpaca `tradeapi.REST` object. In this object, include the parameters for the Alpaca API key, the secret key, and the version number."
   ]
  },
  {
   "cell_type": "code",
   "execution_count": 14,
   "metadata": {},
   "outputs": [],
   "source": [
    "# Set the variables for the Alpaca API and secret keys\n",
    "alpaca_api_key = os.getenv(\"ALPACA_API_KEY\")\n",
    "alpaca_secret_key = os.getenv(\"ALPACA_SECRET_KEY\")\n",
    "\n",
    "# Create the Alpaca tradeapi.REST object\n",
    "alpaca = tradeapi.REST(\n",
    "    alpaca_api_key,\n",
    "    alpaca_secret_key,\n",
    "    api_version=\"v2\"\n",
    ")\n"
   ]
  },
  {
   "cell_type": "markdown",
   "metadata": {},
   "source": [
    "#### Step 3: Set the following parameters for the Alpaca API call:\n",
    "\n",
    "- `tickers`: Use the tickers for the member’s stock and bond holdings.\n",
    "\n",
    "- `timeframe`: Use a time frame of one day.\n",
    "\n",
    "- `start_date` and `end_date`: Use the same date for these parameters, and format them with the date of the previous weekday (or `2020-08-07`). This is because you want the one closing price for the most-recent trading day.\n"
   ]
  },
  {
   "cell_type": "code",
   "execution_count": 15,
   "metadata": {},
   "outputs": [
    {
     "name": "stdout",
     "output_type": "stream",
     "text": [
      "Tickers = ['SPY', 'AGG'] timeframe=1D start_date=2021-10-15T00:00:00-04:00 endDate=2021-10-15T00:00:00-04:00\n"
     ]
    }
   ],
   "source": [
    "# Set the tickers for both the bond and stock portion of the portfolio\n",
    "tickers=[\"SPY\",\"AGG\"]\n",
    "\n",
    "# Set timeframe to 1D \n",
    "timeframe=\"1D\"\n",
    "\n",
    "# Format current date as ISO format\n",
    "# Set both the start and end date at the date of your prior weekday \n",
    "# This will give you the closing price of the previous trading day\n",
    "# Alternatively you can use a start and end date of 2020-08-07\n",
    "start_date = pd.Timestamp(\"2021-10-15\", tz=\"America/New_York\").isoformat()\n",
    "end_date = pd.Timestamp(\"2021-10-15\", tz=\"America/New_York\").isoformat()\n",
    "print (f\"Tickers = {tickers} timeframe={timeframe} start_date={start_date} endDate={end_date}\")"
   ]
  },
  {
   "cell_type": "markdown",
   "metadata": {},
   "source": [
    "#### Step 4: Get the current closing prices for `SPY` and `AGG` by using the Alpaca `get_barset` function. Format the response as a Pandas DataFrame by including the `df` property at the end of the `get_barset` function."
   ]
  },
  {
   "cell_type": "code",
   "execution_count": 16,
   "metadata": {},
   "outputs": [
    {
     "data": {
      "text/html": [
       "<div>\n",
       "<style scoped>\n",
       "    .dataframe tbody tr th:only-of-type {\n",
       "        vertical-align: middle;\n",
       "    }\n",
       "\n",
       "    .dataframe tbody tr th {\n",
       "        vertical-align: top;\n",
       "    }\n",
       "\n",
       "    .dataframe thead tr th {\n",
       "        text-align: left;\n",
       "    }\n",
       "\n",
       "    .dataframe thead tr:last-of-type th {\n",
       "        text-align: right;\n",
       "    }\n",
       "</style>\n",
       "<table border=\"1\" class=\"dataframe\">\n",
       "  <thead>\n",
       "    <tr>\n",
       "      <th></th>\n",
       "      <th colspan=\"5\" halign=\"left\">AGG</th>\n",
       "      <th colspan=\"5\" halign=\"left\">SPY</th>\n",
       "    </tr>\n",
       "    <tr>\n",
       "      <th></th>\n",
       "      <th>open</th>\n",
       "      <th>high</th>\n",
       "      <th>low</th>\n",
       "      <th>close</th>\n",
       "      <th>volume</th>\n",
       "      <th>open</th>\n",
       "      <th>high</th>\n",
       "      <th>low</th>\n",
       "      <th>close</th>\n",
       "      <th>volume</th>\n",
       "    </tr>\n",
       "    <tr>\n",
       "      <th>time</th>\n",
       "      <th></th>\n",
       "      <th></th>\n",
       "      <th></th>\n",
       "      <th></th>\n",
       "      <th></th>\n",
       "      <th></th>\n",
       "      <th></th>\n",
       "      <th></th>\n",
       "      <th></th>\n",
       "      <th></th>\n",
       "    </tr>\n",
       "  </thead>\n",
       "  <tbody>\n",
       "    <tr>\n",
       "      <th>2021-10-15 00:00:00-04:00</th>\n",
       "      <td>114.61</td>\n",
       "      <td>114.63</td>\n",
       "      <td>114.51</td>\n",
       "      <td>114.56</td>\n",
       "      <td>3829388</td>\n",
       "      <td>444.76</td>\n",
       "      <td>446.26</td>\n",
       "      <td>444.09</td>\n",
       "      <td>445.83</td>\n",
       "      <td>55980388</td>\n",
       "    </tr>\n",
       "  </tbody>\n",
       "</table>\n",
       "</div>"
      ],
      "text/plain": [
       "                              AGG                                      SPY  \\\n",
       "                             open    high     low   close   volume    open   \n",
       "time                                                                         \n",
       "2021-10-15 00:00:00-04:00  114.61  114.63  114.51  114.56  3829388  444.76   \n",
       "\n",
       "                                                             \n",
       "                             high     low   close    volume  \n",
       "time                                                         \n",
       "2021-10-15 00:00:00-04:00  446.26  444.09  445.83  55980388  "
      ]
     },
     "execution_count": 16,
     "metadata": {},
     "output_type": "execute_result"
    }
   ],
   "source": [
    "# Use the Alpaca get_barset function to get current closing prices the portfolio\n",
    "# Be sure to set the `df` property after the function to format the response object as a DataFrame\n",
    "limit_rows=1000\n",
    "ticker_data = alpaca.get_barset(\n",
    "    tickers,\n",
    "    timeframe,\n",
    "    start=start_date,\n",
    "    end=end_date,\n",
    "    limit=limit_rows\n",
    ").df\n",
    "\n",
    "# Review the first 5 rows of the Alpaca DataFrame\n",
    "ticker_data.head()\n"
   ]
  },
  {
   "cell_type": "markdown",
   "metadata": {},
   "source": [
    "#### Step 5: Navigating the Alpaca response DataFrame, select the `SPY` and `AGG` closing prices, and store them as variables."
   ]
  },
  {
   "cell_type": "code",
   "execution_count": 17,
   "metadata": {},
   "outputs": [
    {
     "name": "stdout",
     "output_type": "stream",
     "text": [
      "AGG close price=114.56\n"
     ]
    }
   ],
   "source": [
    "# Access the closing price for AGG from the Alpaca DataFrame\n",
    "# Converting the value to a floating point number\n",
    "agg_close_price = ticker_data['AGG']['close'][0].astype(np.float64)\n",
    "\n",
    "# Print the AGG closing price\n",
    "print(f\"AGG close price={agg_close_price:,.2f}\")\n"
   ]
  },
  {
   "cell_type": "code",
   "execution_count": 18,
   "metadata": {},
   "outputs": [
    {
     "name": "stdout",
     "output_type": "stream",
     "text": [
      "SPY close price=445.83\n"
     ]
    }
   ],
   "source": [
    "# Access the closing price for SPY from the Alpaca DataFrame\n",
    "# Converting the value to a floating point number\n",
    "spy_close_price = ticker_data['SPY']['close'][0].astype(np.float64)\n",
    "\n",
    "# Print the SPY closing price\n",
    "print (f\"SPY close price={spy_close_price:,.2f}\")\n"
   ]
  },
  {
   "cell_type": "markdown",
   "metadata": {},
   "source": [
    "#### Step 6: Calculate the value, in US dollars, of the current amount of shares in each of the stock and bond portions of the portfolio, and print the results."
   ]
  },
  {
   "cell_type": "code",
   "execution_count": 19,
   "metadata": {},
   "outputs": [
    {
     "name": "stdout",
     "output_type": "stream",
     "text": [
      "Current value of bond portfolio=$22,912.00\n"
     ]
    }
   ],
   "source": [
    "# Calculate the current value of the bond portion of the portfolio\n",
    "agg_value = agg_shares * agg_close_price\n",
    "\n",
    "# Print the current value of the bond portfolio\n",
    "print (f\"Current value of bond portfolio=${agg_value:,.2f}\")\n"
   ]
  },
  {
   "cell_type": "code",
   "execution_count": 20,
   "metadata": {},
   "outputs": [
    {
     "name": "stdout",
     "output_type": "stream",
     "text": [
      "Current value of stock portfolio=$49,041.30\n"
     ]
    }
   ],
   "source": [
    "# Calculate the current value of the stock portion of the portfolio\n",
    "spy_value = spy_shares * spy_close_price\n",
    "\n",
    "# Print the current value of the stock portfolio\n",
    "print (f\"Current value of stock portfolio=${spy_value:,.2f}\")\n"
   ]
  },
  {
   "cell_type": "code",
   "execution_count": 21,
   "metadata": {},
   "outputs": [
    {
     "name": "stdout",
     "output_type": "stream",
     "text": [
      "Current value of stock and bond portfolio=$71,953.30\n"
     ]
    }
   ],
   "source": [
    "# Calculate the total value of the stock and bond portion of the portfolio\n",
    "total_stocks_bonds = agg_value + spy_value\n",
    "\n",
    "# Print the current balance of the stock and bond portion of the portfolio\n",
    "print (f\"Current value of stock and bond portfolio=${total_stocks_bonds:,.2f}\")\n"
   ]
  },
  {
   "cell_type": "code",
   "execution_count": 22,
   "metadata": {},
   "outputs": [
    {
     "name": "stdout",
     "output_type": "stream",
     "text": [
      "Total portfolio value=$166,483.05\n"
     ]
    }
   ],
   "source": [
    "# Calculate the total value of the member's entire savings portfolio\n",
    "# Add the value of the cryptocurrency walled to the value of the total stocks and bonds\n",
    "total_portfolio = total_stocks_bonds + total_crypto_wallet\n",
    "\n",
    "# Print current cryptocurrency wallet balance\n",
    "print (f\"Total portfolio value=${total_portfolio:,.2f}\")\n"
   ]
  },
  {
   "cell_type": "markdown",
   "metadata": {},
   "source": [
    "### Evaluate the Emergency Fund\n",
    "\n",
    "In this section, you’ll use the valuations for the cryptocurrency wallet and for the stock and bond portions of the portfolio to determine if the credit union member has enough savings to build an emergency fund into their financial plan. To do this, complete the following steps:\n",
    "\n",
    "1. Create a Python list named `savings_data` that has two elements. The first element contains the total value of the cryptocurrency wallet. The second element contains the total value of the stock and bond portions of the portfolio.\n",
    "\n",
    "2. Use the `savings_data` list to create a Pandas DataFrame named `savings_df`, and then display this DataFrame. The function to create the DataFrame should take the following three parameters:\n",
    "\n",
    "    - `savings_data`: Use the list that you just created.\n",
    "\n",
    "    - `columns`: Set this parameter equal to a Python list with a single value called `amount`.\n",
    "\n",
    "    - `index`: Set this parameter equal to a Python list with the values of `crypto` and `stock/bond`.\n",
    "\n",
    "3. Use the `savings_df` DataFrame to plot a pie chart that visualizes the composition of the member’s portfolio. The y-axis of the pie chart uses `amount`. Be sure to add a title.\n",
    "\n",
    "4. Using Python, determine if the current portfolio has enough to create an emergency fund as part of the member’s financial plan. Ideally, an emergency fund should equal to three times the member’s monthly income. To do this, implement the following steps:\n",
    "\n",
    "    1. Create a variable named `emergency_fund_value`, and set it equal to three times the value of the member’s `monthly_income` of $12000. (You set this earlier in Part 1).\n",
    "\n",
    "    2. Create a series of three if statements to determine if the member’s total portfolio is large enough to fund the emergency portfolio:\n",
    "\n",
    "        1. If the total portfolio value is greater than the emergency fund value, display a message congratulating the member for having enough money in this fund.\n",
    "\n",
    "        2. Else if the total portfolio value is equal to the emergency fund value, display a message congratulating the member on reaching this important financial goal.\n",
    "\n",
    "        3. Else the total portfolio is less than the emergency fund value, so display a message showing how many dollars away the member is from reaching the goal. (Subtract the total portfolio value from the emergency fund value.)\n"
   ]
  },
  {
   "cell_type": "markdown",
   "metadata": {},
   "source": [
    "#### Step 1: Create a Python list named `savings_data` that has two elements. The first element contains the total value of the cryptocurrency wallet. The second element contains the total value of the stock and bond portions of the portfolio."
   ]
  },
  {
   "cell_type": "code",
   "execution_count": 23,
   "metadata": {},
   "outputs": [
    {
     "name": "stdout",
     "output_type": "stream",
     "text": [
      "Savings data=[94529.75399999999, 71953.29999999999]\n"
     ]
    }
   ],
   "source": [
    "# Consolidate financial assets data into a Python list\n",
    "savings_data=[total_crypto_wallet,total_stocks_bonds]\n",
    "\n",
    "# Review the Python list savings_data\n",
    "print (f\"Savings data={savings_data}\")\n",
    "    "
   ]
  },
  {
   "cell_type": "markdown",
   "metadata": {},
   "source": [
    "#### Step 2: Use the `savings_data` list to create a Pandas DataFrame named `savings_df`, and then display this DataFrame. The function to create the DataFrame should take the following three parameters:\n",
    "\n",
    "- `savings_data`: Use the list that you just created.\n",
    "\n",
    "- `columns`: Set this parameter equal to a Python list with a single value called `amount`.\n",
    "\n",
    "- `index`: Set this parameter equal to a Python list with the values of `crypto` and `stock/bond`.\n"
   ]
  },
  {
   "cell_type": "code",
   "execution_count": 24,
   "metadata": {},
   "outputs": [
    {
     "data": {
      "text/html": [
       "<div>\n",
       "<style scoped>\n",
       "    .dataframe tbody tr th:only-of-type {\n",
       "        vertical-align: middle;\n",
       "    }\n",
       "\n",
       "    .dataframe tbody tr th {\n",
       "        vertical-align: top;\n",
       "    }\n",
       "\n",
       "    .dataframe thead th {\n",
       "        text-align: right;\n",
       "    }\n",
       "</style>\n",
       "<table border=\"1\" class=\"dataframe\">\n",
       "  <thead>\n",
       "    <tr style=\"text-align: right;\">\n",
       "      <th></th>\n",
       "      <th>amount</th>\n",
       "    </tr>\n",
       "  </thead>\n",
       "  <tbody>\n",
       "    <tr>\n",
       "      <th>crypto</th>\n",
       "      <td>94529.754</td>\n",
       "    </tr>\n",
       "    <tr>\n",
       "      <th>stock/bond</th>\n",
       "      <td>71953.300</td>\n",
       "    </tr>\n",
       "  </tbody>\n",
       "</table>\n",
       "</div>"
      ],
      "text/plain": [
       "               amount\n",
       "crypto      94529.754\n",
       "stock/bond  71953.300"
      ]
     },
     "execution_count": 24,
     "metadata": {},
     "output_type": "execute_result"
    }
   ],
   "source": [
    "# Create a Pandas DataFrame called savings_df \n",
    "savings_df = pd.DataFrame(savings_data,columns=['amount'], index=['crypto','stock/bond'])\n",
    "\n",
    "# Display the savings_df DataFrame\n",
    "savings_df.head()\n"
   ]
  },
  {
   "cell_type": "markdown",
   "metadata": {},
   "source": [
    "#### Step 3: Use the `savings_df` DataFrame to plot a pie chart that visualizes the composition of the member’s portfolio. The y-axis of the pie chart uses `amount`. Be sure to add a title."
   ]
  },
  {
   "cell_type": "code",
   "execution_count": 25,
   "metadata": {},
   "outputs": [
    {
     "data": {
      "text/plain": [
       "<AxesSubplot:title={'center':'Savings Summary'}, ylabel='amount'>"
      ]
     },
     "execution_count": 25,
     "metadata": {},
     "output_type": "execute_result"
    },
    {
     "data": {
      "image/png": "[encoded data removed]",
      "text/plain": [
       "<Figure size 360x360 with 1 Axes>"
      ]
     },
     "metadata": {},
     "output_type": "display_data"
    }
   ],
   "source": [
    "# Plot the total value of the member's portfolio (crypto and stock/bond) in a pie chart\n",
    "savings_df.plot.pie(y='amount',figsize=(5,5), title='Savings Summary')\n"
   ]
  },
  {
   "cell_type": "markdown",
   "metadata": {},
   "source": [
    "#### Step 4: Using Python, determine if the current portfolio has enough to create an emergency fund as part of the member’s financial plan. Ideally, an emergency fund should equal to three times the member’s monthly income. To do this, implement the following steps:\n",
    "\n",
    "Step 1. Create a variable named `emergency_fund_value`, and set it equal to three times the value of the member’s `monthly_income` of 12000. (You set this earlier in Part 1).\n",
    "\n",
    "Step 2. Create a series of three if statements to determine if the member’s total portfolio is large enough to fund the emergency portfolio:\n",
    "\n",
    "* If the total portfolio value is greater than the emergency fund value, display a message congratulating the member for having enough money in this fund.\n",
    "\n",
    "* Else if the total portfolio value is equal to the emergency fund value, display a message congratulating the member on reaching this important financial goal.\n",
    "\n",
    "* Else the total portfolio is less than the emergency fund value, so display a message showing how many dollars away the member is from reaching the goal. (Subtract the total portfolio value from the emergency fund value.)\n"
   ]
  },
  {
   "cell_type": "markdown",
   "metadata": {},
   "source": [
    "##### Step 4-1: Create a variable named `emergency_fund_value`, and set it equal to three times the value of the member’s `monthly_income` of 12000. (You set this earlier in Part 1)."
   ]
  },
  {
   "cell_type": "code",
   "execution_count": 26,
   "metadata": {},
   "outputs": [],
   "source": [
    "# Create a variable named emergency_fund_value\n",
    "emergency_fund_value=monthly_income*3\n"
   ]
  },
  {
   "cell_type": "markdown",
   "metadata": {},
   "source": [
    "##### Step 4-2: Create a series of three if statements to determine if the member’s total portfolio is large enough to fund the emergency portfolio:\n",
    "\n",
    "* If the total portfolio value is greater than the emergency fund value, display a message congratulating the member for having enough money in this fund.\n",
    "\n",
    "* Else if the total portfolio value is equal to the emergency fund value, display a message congratulating the member on reaching this important financial goal.\n",
    "\n",
    "* Else the total portfolio is less than the emergency fund value, so display a message showing how many dollars away the member is from reaching the goal. (Subtract the total portfolio value from the emergency fund value.)"
   ]
  },
  {
   "cell_type": "code",
   "execution_count": 27,
   "metadata": {},
   "outputs": [
    {
     "name": "stdout",
     "output_type": "stream",
     "text": [
      "There is enough money in the portfolio $166,483.05 to cover any emergency $36,000.00\n"
     ]
    }
   ],
   "source": [
    "# Evaluate the possibility of creating an emergency fund with 3 conditions:\n",
    "if (total_portfolio > emergency_fund_value):\n",
    "    print(f\"There is enough money in the portfolio ${total_portfolio:,.2f} to cover any emergency ${emergency_fund_value:,.2f}\")\n",
    "elif (total_portfolio == emergency_fund_value):\n",
    "    print(f\"Congratulations! Finacial goals met, money in the portfolio ${total_portfolio:,.2f} to cover any emergency ${emergency_fund_value:,.2f}\")\n",
    "else:\n",
    "    printf(f\"Amount remaining to meet financial goals is ${emergency_fund_value - total_portfolio:,.2f }\")\n"
   ]
  },
  {
   "cell_type": "markdown",
   "metadata": {},
   "source": [
    "## Part 2: Create a Financial Planner for Retirement"
   ]
  },
  {
   "cell_type": "markdown",
   "metadata": {},
   "source": [
    "### Create the Monte Carlo Simulation\n",
    "\n",
    "In this section, you’ll use the MCForecastTools library to create a Monte Carlo simulation for the member’s savings portfolio. To do this, complete the following steps:\n",
    "\n",
    "1. Make an API call via the Alpaca SDK to get 3 years of historical closing prices for a traditional 60/40 portfolio split: 60% stocks (SPY) and 40% bonds (AGG).\n",
    "\n",
    "2. Run a Monte Carlo simulation of 500 samples and 30 years for the 60/40 portfolio, and then plot the results.The following image shows the overlay line plot resulting from a simulation with these characteristics. However, because a random number generator is used to run each live Monte Carlo simulation, your image will differ slightly from this exact image:\n",
    "\n",
    "![A screenshot depicts the resulting plot.](Images/5-4-monte-carlo-line-plot.png)\n",
    "\n",
    "3. Plot the probability distribution of the Monte Carlo simulation. Plot the probability distribution of the Monte Carlo simulation. The following image shows the histogram plot resulting from a simulation with these characteristics. However, because a random number generator is used to run each live Monte Carlo simulation, your image will differ slightly from this exact image:\n",
    "\n",
    "![A screenshot depicts the histogram plot.](Images/5-4-monte-carlo-histogram.png)\n",
    "\n",
    "4. Generate the summary statistics for the Monte Carlo simulation.\n",
    "\n"
   ]
  },
  {
   "cell_type": "markdown",
   "metadata": {},
   "source": [
    "#### Step 1: Make an API call via the Alpaca SDK to get 3 years of historical closing prices for a traditional 60/40 portfolio split: 60% stocks (SPY) and 40% bonds (AGG)."
   ]
  },
  {
   "cell_type": "code",
   "execution_count": 28,
   "metadata": {},
   "outputs": [
    {
     "name": "stdout",
     "output_type": "stream",
     "text": [
      "Tickers = ['SPY', 'AGG'] timeframe=1D start_date=2018-10-15T00:00:00-04:00 endDate=2021-10-15T00:00:00-04:00\n"
     ]
    }
   ],
   "source": [
    "# Set start and end dates of 3 years back from your current date\n",
    "# Alternatively, you can use an end date of 2020-08-07 and work 3 years back from that date \n",
    "start_date_3y = pd.Timestamp(\"2018-10-15\", tz=\"America/New_York\").isoformat()\n",
    "end_date_3y = pd.Timestamp(\"2021-10-15\", tz=\"America/New_York\").isoformat()\n",
    "print (f\"Tickers = {tickers} timeframe={timeframe} start_date={start_date_3y} endDate={end_date_3y}\")\n",
    "\n",
    "# Set number of rows to 1000 to retrieve the maximum amount of rows\n",
    "limit_rows=1000"
   ]
  },
  {
   "cell_type": "code",
   "execution_count": 29,
   "metadata": {},
   "outputs": [
    {
     "data": {
      "text/html": [
       "<div>\n",
       "<style scoped>\n",
       "    .dataframe tbody tr th:only-of-type {\n",
       "        vertical-align: middle;\n",
       "    }\n",
       "\n",
       "    .dataframe tbody tr th {\n",
       "        vertical-align: top;\n",
       "    }\n",
       "\n",
       "    .dataframe thead tr th {\n",
       "        text-align: left;\n",
       "    }\n",
       "\n",
       "    .dataframe thead tr:last-of-type th {\n",
       "        text-align: right;\n",
       "    }\n",
       "</style>\n",
       "<table border=\"1\" class=\"dataframe\">\n",
       "  <thead>\n",
       "    <tr>\n",
       "      <th></th>\n",
       "      <th colspan=\"5\" halign=\"left\">AGG</th>\n",
       "      <th colspan=\"5\" halign=\"left\">SPY</th>\n",
       "    </tr>\n",
       "    <tr>\n",
       "      <th></th>\n",
       "      <th>open</th>\n",
       "      <th>high</th>\n",
       "      <th>low</th>\n",
       "      <th>close</th>\n",
       "      <th>volume</th>\n",
       "      <th>open</th>\n",
       "      <th>high</th>\n",
       "      <th>low</th>\n",
       "      <th>close</th>\n",
       "      <th>volume</th>\n",
       "    </tr>\n",
       "    <tr>\n",
       "      <th>time</th>\n",
       "      <th></th>\n",
       "      <th></th>\n",
       "      <th></th>\n",
       "      <th></th>\n",
       "      <th></th>\n",
       "      <th></th>\n",
       "      <th></th>\n",
       "      <th></th>\n",
       "      <th></th>\n",
       "      <th></th>\n",
       "    </tr>\n",
       "  </thead>\n",
       "  <tbody>\n",
       "    <tr>\n",
       "      <th>2018-10-15 00:00:00-04:00</th>\n",
       "      <td>104.73</td>\n",
       "      <td>104.7835</td>\n",
       "      <td>104.6233</td>\n",
       "      <td>104.670</td>\n",
       "      <td>2502508.0</td>\n",
       "      <td>275.55</td>\n",
       "      <td>277.04</td>\n",
       "      <td>274.30</td>\n",
       "      <td>274.48</td>\n",
       "      <td>75385132</td>\n",
       "    </tr>\n",
       "    <tr>\n",
       "      <th>2018-10-16 00:00:00-04:00</th>\n",
       "      <td>104.69</td>\n",
       "      <td>104.7400</td>\n",
       "      <td>104.5800</td>\n",
       "      <td>104.740</td>\n",
       "      <td>5520646.0</td>\n",
       "      <td>276.57</td>\n",
       "      <td>280.82</td>\n",
       "      <td>276.07</td>\n",
       "      <td>280.30</td>\n",
       "      <td>75057478</td>\n",
       "    </tr>\n",
       "    <tr>\n",
       "      <th>2018-10-17 00:00:00-04:00</th>\n",
       "      <td>104.71</td>\n",
       "      <td>104.7700</td>\n",
       "      <td>104.5200</td>\n",
       "      <td>104.535</td>\n",
       "      <td>2608875.0</td>\n",
       "      <td>280.44</td>\n",
       "      <td>281.15</td>\n",
       "      <td>277.56</td>\n",
       "      <td>280.40</td>\n",
       "      <td>81740972</td>\n",
       "    </tr>\n",
       "    <tr>\n",
       "      <th>2018-10-18 00:00:00-04:00</th>\n",
       "      <td>104.39</td>\n",
       "      <td>104.6195</td>\n",
       "      <td>104.3750</td>\n",
       "      <td>104.460</td>\n",
       "      <td>2687836.0</td>\n",
       "      <td>279.40</td>\n",
       "      <td>280.07</td>\n",
       "      <td>274.97</td>\n",
       "      <td>276.47</td>\n",
       "      <td>106592503</td>\n",
       "    </tr>\n",
       "    <tr>\n",
       "      <th>2018-10-19 00:00:00-04:00</th>\n",
       "      <td>104.47</td>\n",
       "      <td>104.5500</td>\n",
       "      <td>104.3400</td>\n",
       "      <td>104.370</td>\n",
       "      <td>2912850.0</td>\n",
       "      <td>277.12</td>\n",
       "      <td>279.30</td>\n",
       "      <td>275.47</td>\n",
       "      <td>276.19</td>\n",
       "      <td>86816021</td>\n",
       "    </tr>\n",
       "  </tbody>\n",
       "</table>\n",
       "</div>"
      ],
      "text/plain": [
       "                              AGG                                          \\\n",
       "                             open      high       low    close     volume   \n",
       "time                                                                        \n",
       "2018-10-15 00:00:00-04:00  104.73  104.7835  104.6233  104.670  2502508.0   \n",
       "2018-10-16 00:00:00-04:00  104.69  104.7400  104.5800  104.740  5520646.0   \n",
       "2018-10-17 00:00:00-04:00  104.71  104.7700  104.5200  104.535  2608875.0   \n",
       "2018-10-18 00:00:00-04:00  104.39  104.6195  104.3750  104.460  2687836.0   \n",
       "2018-10-19 00:00:00-04:00  104.47  104.5500  104.3400  104.370  2912850.0   \n",
       "\n",
       "                              SPY                                     \n",
       "                             open    high     low   close     volume  \n",
       "time                                                                  \n",
       "2018-10-15 00:00:00-04:00  275.55  277.04  274.30  274.48   75385132  \n",
       "2018-10-16 00:00:00-04:00  276.57  280.82  276.07  280.30   75057478  \n",
       "2018-10-17 00:00:00-04:00  280.44  281.15  277.56  280.40   81740972  \n",
       "2018-10-18 00:00:00-04:00  279.40  280.07  274.97  276.47  106592503  \n",
       "2018-10-19 00:00:00-04:00  277.12  279.30  275.47  276.19   86816021  "
      ]
     },
     "metadata": {},
     "output_type": "display_data"
    },
    {
     "data": {
      "text/html": [
       "<div>\n",
       "<style scoped>\n",
       "    .dataframe tbody tr th:only-of-type {\n",
       "        vertical-align: middle;\n",
       "    }\n",
       "\n",
       "    .dataframe tbody tr th {\n",
       "        vertical-align: top;\n",
       "    }\n",
       "\n",
       "    .dataframe thead tr th {\n",
       "        text-align: left;\n",
       "    }\n",
       "\n",
       "    .dataframe thead tr:last-of-type th {\n",
       "        text-align: right;\n",
       "    }\n",
       "</style>\n",
       "<table border=\"1\" class=\"dataframe\">\n",
       "  <thead>\n",
       "    <tr>\n",
       "      <th></th>\n",
       "      <th colspan=\"5\" halign=\"left\">AGG</th>\n",
       "      <th colspan=\"5\" halign=\"left\">SPY</th>\n",
       "    </tr>\n",
       "    <tr>\n",
       "      <th></th>\n",
       "      <th>open</th>\n",
       "      <th>high</th>\n",
       "      <th>low</th>\n",
       "      <th>close</th>\n",
       "      <th>volume</th>\n",
       "      <th>open</th>\n",
       "      <th>high</th>\n",
       "      <th>low</th>\n",
       "      <th>close</th>\n",
       "      <th>volume</th>\n",
       "    </tr>\n",
       "    <tr>\n",
       "      <th>time</th>\n",
       "      <th></th>\n",
       "      <th></th>\n",
       "      <th></th>\n",
       "      <th></th>\n",
       "      <th></th>\n",
       "      <th></th>\n",
       "      <th></th>\n",
       "      <th></th>\n",
       "      <th></th>\n",
       "      <th></th>\n",
       "    </tr>\n",
       "  </thead>\n",
       "  <tbody>\n",
       "    <tr>\n",
       "      <th>2021-10-11 00:00:00-04:00</th>\n",
       "      <td>114.01</td>\n",
       "      <td>114.0650</td>\n",
       "      <td>113.940</td>\n",
       "      <td>113.940</td>\n",
       "      <td>1999518.0</td>\n",
       "      <td>437.16</td>\n",
       "      <td>440.26</td>\n",
       "      <td>434.62</td>\n",
       "      <td>434.67</td>\n",
       "      <td>54993389</td>\n",
       "    </tr>\n",
       "    <tr>\n",
       "      <th>2021-10-12 00:00:00-04:00</th>\n",
       "      <td>114.17</td>\n",
       "      <td>114.3800</td>\n",
       "      <td>114.110</td>\n",
       "      <td>114.355</td>\n",
       "      <td>3521504.0</td>\n",
       "      <td>435.67</td>\n",
       "      <td>436.10</td>\n",
       "      <td>432.78</td>\n",
       "      <td>433.63</td>\n",
       "      <td>61078594</td>\n",
       "    </tr>\n",
       "    <tr>\n",
       "      <th>2021-10-13 00:00:00-04:00</th>\n",
       "      <td>114.43</td>\n",
       "      <td>114.6400</td>\n",
       "      <td>114.415</td>\n",
       "      <td>114.610</td>\n",
       "      <td>5301180.0</td>\n",
       "      <td>434.71</td>\n",
       "      <td>436.05</td>\n",
       "      <td>431.54</td>\n",
       "      <td>435.13</td>\n",
       "      <td>63943229</td>\n",
       "    </tr>\n",
       "    <tr>\n",
       "      <th>2021-10-14 00:00:00-04:00</th>\n",
       "      <td>114.70</td>\n",
       "      <td>114.8496</td>\n",
       "      <td>114.630</td>\n",
       "      <td>114.840</td>\n",
       "      <td>3540673.0</td>\n",
       "      <td>439.08</td>\n",
       "      <td>442.66</td>\n",
       "      <td>438.58</td>\n",
       "      <td>442.47</td>\n",
       "      <td>59812568</td>\n",
       "    </tr>\n",
       "    <tr>\n",
       "      <th>2021-10-15 00:00:00-04:00</th>\n",
       "      <td>114.61</td>\n",
       "      <td>114.6300</td>\n",
       "      <td>114.510</td>\n",
       "      <td>114.560</td>\n",
       "      <td>3829388.0</td>\n",
       "      <td>444.76</td>\n",
       "      <td>446.26</td>\n",
       "      <td>444.09</td>\n",
       "      <td>445.83</td>\n",
       "      <td>55980388</td>\n",
       "    </tr>\n",
       "  </tbody>\n",
       "</table>\n",
       "</div>"
      ],
      "text/plain": [
       "                              AGG                                         \\\n",
       "                             open      high      low    close     volume   \n",
       "time                                                                       \n",
       "2021-10-11 00:00:00-04:00  114.01  114.0650  113.940  113.940  1999518.0   \n",
       "2021-10-12 00:00:00-04:00  114.17  114.3800  114.110  114.355  3521504.0   \n",
       "2021-10-13 00:00:00-04:00  114.43  114.6400  114.415  114.610  5301180.0   \n",
       "2021-10-14 00:00:00-04:00  114.70  114.8496  114.630  114.840  3540673.0   \n",
       "2021-10-15 00:00:00-04:00  114.61  114.6300  114.510  114.560  3829388.0   \n",
       "\n",
       "                              SPY                                    \n",
       "                             open    high     low   close    volume  \n",
       "time                                                                 \n",
       "2021-10-11 00:00:00-04:00  437.16  440.26  434.62  434.67  54993389  \n",
       "2021-10-12 00:00:00-04:00  435.67  436.10  432.78  433.63  61078594  \n",
       "2021-10-13 00:00:00-04:00  434.71  436.05  431.54  435.13  63943229  \n",
       "2021-10-14 00:00:00-04:00  439.08  442.66  438.58  442.47  59812568  \n",
       "2021-10-15 00:00:00-04:00  444.76  446.26  444.09  445.83  55980388  "
      ]
     },
     "metadata": {},
     "output_type": "display_data"
    }
   ],
   "source": [
    "# Use the Alpaca get_barset function to make the API call to get the 3 years worth of pricing data\n",
    "# The tickers and timeframe parameters should have been set in Part 1 of this activity \n",
    "# The start and end dates should be updated with the information set above\n",
    "# Remember to add the df property to the end of the call so the response is returned as a DataFrame\n",
    "\n",
    "ticker_data_3y = alpaca.get_barset(\n",
    "    tickers,\n",
    "    timeframe,\n",
    "    start=start_date_3y,\n",
    "    end=end_date_3y,\n",
    "    limit=limit_rows\n",
    ").df\n",
    "\n",
    "\n",
    "# Display both the first and last five rows of the DataFrame\n",
    "display(ticker_data_3y.head())\n",
    "display(ticker_data_3y.tail())\n"
   ]
  },
  {
   "cell_type": "markdown",
   "metadata": {},
   "source": [
    "#### Step 2: Run a Monte Carlo simulation of 500 samples and 30 years for the 60/40 portfolio, and then plot the results."
   ]
  },
  {
   "cell_type": "code",
   "execution_count": 30,
   "metadata": {},
   "outputs": [
    {
     "data": {
      "text/html": [
       "<div>\n",
       "<style scoped>\n",
       "    .dataframe tbody tr th:only-of-type {\n",
       "        vertical-align: middle;\n",
       "    }\n",
       "\n",
       "    .dataframe tbody tr th {\n",
       "        vertical-align: top;\n",
       "    }\n",
       "\n",
       "    .dataframe thead tr th {\n",
       "        text-align: left;\n",
       "    }\n",
       "\n",
       "    .dataframe thead tr:last-of-type th {\n",
       "        text-align: right;\n",
       "    }\n",
       "</style>\n",
       "<table border=\"1\" class=\"dataframe\">\n",
       "  <thead>\n",
       "    <tr>\n",
       "      <th></th>\n",
       "      <th colspan=\"6\" halign=\"left\">AGG</th>\n",
       "      <th colspan=\"6\" halign=\"left\">SPY</th>\n",
       "    </tr>\n",
       "    <tr>\n",
       "      <th></th>\n",
       "      <th>open</th>\n",
       "      <th>high</th>\n",
       "      <th>low</th>\n",
       "      <th>close</th>\n",
       "      <th>volume</th>\n",
       "      <th>daily_return</th>\n",
       "      <th>open</th>\n",
       "      <th>high</th>\n",
       "      <th>low</th>\n",
       "      <th>close</th>\n",
       "      <th>volume</th>\n",
       "      <th>daily_return</th>\n",
       "    </tr>\n",
       "    <tr>\n",
       "      <th>time</th>\n",
       "      <th></th>\n",
       "      <th></th>\n",
       "      <th></th>\n",
       "      <th></th>\n",
       "      <th></th>\n",
       "      <th></th>\n",
       "      <th></th>\n",
       "      <th></th>\n",
       "      <th></th>\n",
       "      <th></th>\n",
       "      <th></th>\n",
       "      <th></th>\n",
       "    </tr>\n",
       "  </thead>\n",
       "  <tbody>\n",
       "    <tr>\n",
       "      <th>2018-10-15 00:00:00-04:00</th>\n",
       "      <td>104.73</td>\n",
       "      <td>104.7835</td>\n",
       "      <td>104.6233</td>\n",
       "      <td>104.670</td>\n",
       "      <td>2502508.0</td>\n",
       "      <td>NaN</td>\n",
       "      <td>275.55</td>\n",
       "      <td>277.04</td>\n",
       "      <td>274.30</td>\n",
       "      <td>274.48</td>\n",
       "      <td>75385132</td>\n",
       "      <td>NaN</td>\n",
       "    </tr>\n",
       "    <tr>\n",
       "      <th>2018-10-16 00:00:00-04:00</th>\n",
       "      <td>104.69</td>\n",
       "      <td>104.7400</td>\n",
       "      <td>104.5800</td>\n",
       "      <td>104.740</td>\n",
       "      <td>5520646.0</td>\n",
       "      <td>0.000669</td>\n",
       "      <td>276.57</td>\n",
       "      <td>280.82</td>\n",
       "      <td>276.07</td>\n",
       "      <td>280.30</td>\n",
       "      <td>75057478</td>\n",
       "      <td>0.021204</td>\n",
       "    </tr>\n",
       "    <tr>\n",
       "      <th>2018-10-17 00:00:00-04:00</th>\n",
       "      <td>104.71</td>\n",
       "      <td>104.7700</td>\n",
       "      <td>104.5200</td>\n",
       "      <td>104.535</td>\n",
       "      <td>2608875.0</td>\n",
       "      <td>-0.001957</td>\n",
       "      <td>280.44</td>\n",
       "      <td>281.15</td>\n",
       "      <td>277.56</td>\n",
       "      <td>280.40</td>\n",
       "      <td>81740972</td>\n",
       "      <td>0.000357</td>\n",
       "    </tr>\n",
       "    <tr>\n",
       "      <th>2018-10-18 00:00:00-04:00</th>\n",
       "      <td>104.39</td>\n",
       "      <td>104.6195</td>\n",
       "      <td>104.3750</td>\n",
       "      <td>104.460</td>\n",
       "      <td>2687836.0</td>\n",
       "      <td>-0.000717</td>\n",
       "      <td>279.40</td>\n",
       "      <td>280.07</td>\n",
       "      <td>274.97</td>\n",
       "      <td>276.47</td>\n",
       "      <td>106592503</td>\n",
       "      <td>-0.014016</td>\n",
       "    </tr>\n",
       "    <tr>\n",
       "      <th>2018-10-19 00:00:00-04:00</th>\n",
       "      <td>104.47</td>\n",
       "      <td>104.5500</td>\n",
       "      <td>104.3400</td>\n",
       "      <td>104.370</td>\n",
       "      <td>2912850.0</td>\n",
       "      <td>-0.000862</td>\n",
       "      <td>277.12</td>\n",
       "      <td>279.30</td>\n",
       "      <td>275.47</td>\n",
       "      <td>276.19</td>\n",
       "      <td>86816021</td>\n",
       "      <td>-0.001013</td>\n",
       "    </tr>\n",
       "  </tbody>\n",
       "</table>\n",
       "</div>"
      ],
      "text/plain": [
       "                              AGG                                          \\\n",
       "                             open      high       low    close     volume   \n",
       "time                                                                        \n",
       "2018-10-15 00:00:00-04:00  104.73  104.7835  104.6233  104.670  2502508.0   \n",
       "2018-10-16 00:00:00-04:00  104.69  104.7400  104.5800  104.740  5520646.0   \n",
       "2018-10-17 00:00:00-04:00  104.71  104.7700  104.5200  104.535  2608875.0   \n",
       "2018-10-18 00:00:00-04:00  104.39  104.6195  104.3750  104.460  2687836.0   \n",
       "2018-10-19 00:00:00-04:00  104.47  104.5500  104.3400  104.370  2912850.0   \n",
       "\n",
       "                                           SPY                          \\\n",
       "                          daily_return    open    high     low   close   \n",
       "time                                                                     \n",
       "2018-10-15 00:00:00-04:00          NaN  275.55  277.04  274.30  274.48   \n",
       "2018-10-16 00:00:00-04:00     0.000669  276.57  280.82  276.07  280.30   \n",
       "2018-10-17 00:00:00-04:00    -0.001957  280.44  281.15  277.56  280.40   \n",
       "2018-10-18 00:00:00-04:00    -0.000717  279.40  280.07  274.97  276.47   \n",
       "2018-10-19 00:00:00-04:00    -0.000862  277.12  279.30  275.47  276.19   \n",
       "\n",
       "                                                   \n",
       "                              volume daily_return  \n",
       "time                                               \n",
       "2018-10-15 00:00:00-04:00   75385132          NaN  \n",
       "2018-10-16 00:00:00-04:00   75057478     0.021204  \n",
       "2018-10-17 00:00:00-04:00   81740972     0.000357  \n",
       "2018-10-18 00:00:00-04:00  106592503    -0.014016  \n",
       "2018-10-19 00:00:00-04:00   86816021    -0.001013  "
      ]
     },
     "execution_count": 30,
     "metadata": {},
     "output_type": "execute_result"
    }
   ],
   "source": [
    "# Configure the Monte Carlo simulation to forecast 30 years cumulative returns\n",
    "# The weights should be split 40% to AGG and 60% to SPY.\n",
    "# Run 500 samples.\n",
    "thirty_year_simulation = MCSimulation(\n",
    "    portfolio_data=ticker_data_3y,\n",
    "    weights=[0.40, 0.60],\n",
    "    num_simulation=500,\n",
    "    num_trading_days=252*30,\n",
    ")\n",
    "\n",
    "\n",
    "# Review the simulation input data\n",
    "thirty_year_simulation.portfolio_data.head()\n"
   ]
  },
  {
   "cell_type": "code",
   "execution_count": 31,
   "metadata": {},
   "outputs": [
    {
     "name": "stdout",
     "output_type": "stream",
     "text": [
      "Running Monte Carlo simulation number 0.\n",
      "Running Monte Carlo simulation number 10.\n",
      "Running Monte Carlo simulation number 20.\n",
      "Running Monte Carlo simulation number 30.\n",
      "Running Monte Carlo simulation number 40.\n",
      "Running Monte Carlo simulation number 50.\n",
      "Running Monte Carlo simulation number 60.\n",
      "Running Monte Carlo simulation number 70.\n",
      "Running Monte Carlo simulation number 80.\n",
      "Running Monte Carlo simulation number 90.\n",
      "Running Monte Carlo simulation number 100.\n",
      "Running Monte Carlo simulation number 110.\n",
      "Running Monte Carlo simulation number 120.\n",
      "Running Monte Carlo simulation number 130.\n",
      "Running Monte Carlo simulation number 140.\n",
      "Running Monte Carlo simulation number 150.\n",
      "Running Monte Carlo simulation number 160.\n",
      "Running Monte Carlo simulation number 170.\n",
      "Running Monte Carlo simulation number 180.\n",
      "Running Monte Carlo simulation number 190.\n",
      "Running Monte Carlo simulation number 200.\n",
      "Running Monte Carlo simulation number 210.\n",
      "Running Monte Carlo simulation number 220.\n",
      "Running Monte Carlo simulation number 230.\n",
      "Running Monte Carlo simulation number 240.\n",
      "Running Monte Carlo simulation number 250.\n",
      "Running Monte Carlo simulation number 260.\n",
      "Running Monte Carlo simulation number 270.\n",
      "Running Monte Carlo simulation number 280.\n",
      "Running Monte Carlo simulation number 290.\n",
      "Running Monte Carlo simulation number 300.\n",
      "Running Monte Carlo simulation number 310.\n",
      "Running Monte Carlo simulation number 320.\n",
      "Running Monte Carlo simulation number 330.\n",
      "Running Monte Carlo simulation number 340.\n",
      "Running Monte Carlo simulation number 350.\n",
      "Running Monte Carlo simulation number 360.\n",
      "Running Monte Carlo simulation number 370.\n",
      "Running Monte Carlo simulation number 380.\n",
      "Running Monte Carlo simulation number 390.\n",
      "Running Monte Carlo simulation number 400.\n",
      "Running Monte Carlo simulation number 410.\n",
      "Running Monte Carlo simulation number 420.\n",
      "Running Monte Carlo simulation number 430.\n",
      "Running Monte Carlo simulation number 440.\n",
      "Running Monte Carlo simulation number 450.\n",
      "Running Monte Carlo simulation number 460.\n",
      "Running Monte Carlo simulation number 470.\n",
      "Running Monte Carlo simulation number 480.\n",
      "Running Monte Carlo simulation number 490.\n"
     ]
    },
    {
     "data": {
      "text/html": [
       "<div>\n",
       "<style scoped>\n",
       "    .dataframe tbody tr th:only-of-type {\n",
       "        vertical-align: middle;\n",
       "    }\n",
       "\n",
       "    .dataframe tbody tr th {\n",
       "        vertical-align: top;\n",
       "    }\n",
       "\n",
       "    .dataframe thead th {\n",
       "        text-align: right;\n",
       "    }\n",
       "</style>\n",
       "<table border=\"1\" class=\"dataframe\">\n",
       "  <thead>\n",
       "    <tr style=\"text-align: right;\">\n",
       "      <th></th>\n",
       "      <th>0</th>\n",
       "      <th>1</th>\n",
       "      <th>2</th>\n",
       "      <th>3</th>\n",
       "      <th>4</th>\n",
       "      <th>5</th>\n",
       "      <th>6</th>\n",
       "      <th>7</th>\n",
       "      <th>8</th>\n",
       "      <th>9</th>\n",
       "      <th>...</th>\n",
       "      <th>490</th>\n",
       "      <th>491</th>\n",
       "      <th>492</th>\n",
       "      <th>493</th>\n",
       "      <th>494</th>\n",
       "      <th>495</th>\n",
       "      <th>496</th>\n",
       "      <th>497</th>\n",
       "      <th>498</th>\n",
       "      <th>499</th>\n",
       "    </tr>\n",
       "  </thead>\n",
       "  <tbody>\n",
       "    <tr>\n",
       "      <th>0</th>\n",
       "      <td>1.000000</td>\n",
       "      <td>1.000000</td>\n",
       "      <td>1.000000</td>\n",
       "      <td>1.000000</td>\n",
       "      <td>1.000000</td>\n",
       "      <td>1.000000</td>\n",
       "      <td>1.000000</td>\n",
       "      <td>1.000000</td>\n",
       "      <td>1.000000</td>\n",
       "      <td>1.000000</td>\n",
       "      <td>...</td>\n",
       "      <td>1.000000</td>\n",
       "      <td>1.000000</td>\n",
       "      <td>1.000000</td>\n",
       "      <td>1.000000</td>\n",
       "      <td>1.000000</td>\n",
       "      <td>1.000000</td>\n",
       "      <td>1.000000</td>\n",
       "      <td>1.000000</td>\n",
       "      <td>1.000000</td>\n",
       "      <td>1.000000</td>\n",
       "    </tr>\n",
       "    <tr>\n",
       "      <th>1</th>\n",
       "      <td>0.996333</td>\n",
       "      <td>1.006629</td>\n",
       "      <td>1.008136</td>\n",
       "      <td>0.985150</td>\n",
       "      <td>1.007972</td>\n",
       "      <td>1.012396</td>\n",
       "      <td>0.989089</td>\n",
       "      <td>0.990293</td>\n",
       "      <td>1.009466</td>\n",
       "      <td>1.005763</td>\n",
       "      <td>...</td>\n",
       "      <td>0.978258</td>\n",
       "      <td>1.002021</td>\n",
       "      <td>1.001752</td>\n",
       "      <td>1.020482</td>\n",
       "      <td>0.998335</td>\n",
       "      <td>1.011438</td>\n",
       "      <td>0.991186</td>\n",
       "      <td>1.006066</td>\n",
       "      <td>1.005429</td>\n",
       "      <td>0.991197</td>\n",
       "    </tr>\n",
       "    <tr>\n",
       "      <th>2</th>\n",
       "      <td>1.018428</td>\n",
       "      <td>1.022637</td>\n",
       "      <td>1.015510</td>\n",
       "      <td>0.960647</td>\n",
       "      <td>1.027335</td>\n",
       "      <td>1.007720</td>\n",
       "      <td>0.983340</td>\n",
       "      <td>0.971419</td>\n",
       "      <td>1.008334</td>\n",
       "      <td>0.987544</td>\n",
       "      <td>...</td>\n",
       "      <td>0.990780</td>\n",
       "      <td>0.999096</td>\n",
       "      <td>0.995817</td>\n",
       "      <td>1.015539</td>\n",
       "      <td>1.018180</td>\n",
       "      <td>0.994781</td>\n",
       "      <td>0.993421</td>\n",
       "      <td>1.002895</td>\n",
       "      <td>1.006562</td>\n",
       "      <td>0.988317</td>\n",
       "    </tr>\n",
       "    <tr>\n",
       "      <th>3</th>\n",
       "      <td>1.009455</td>\n",
       "      <td>1.002417</td>\n",
       "      <td>1.014112</td>\n",
       "      <td>0.958006</td>\n",
       "      <td>1.009239</td>\n",
       "      <td>1.016940</td>\n",
       "      <td>0.990925</td>\n",
       "      <td>0.970454</td>\n",
       "      <td>1.006547</td>\n",
       "      <td>0.985545</td>\n",
       "      <td>...</td>\n",
       "      <td>0.977391</td>\n",
       "      <td>0.987987</td>\n",
       "      <td>0.984357</td>\n",
       "      <td>1.020308</td>\n",
       "      <td>1.027253</td>\n",
       "      <td>0.999096</td>\n",
       "      <td>0.984470</td>\n",
       "      <td>0.995725</td>\n",
       "      <td>1.008889</td>\n",
       "      <td>0.988068</td>\n",
       "    </tr>\n",
       "    <tr>\n",
       "      <th>4</th>\n",
       "      <td>1.017207</td>\n",
       "      <td>0.998508</td>\n",
       "      <td>1.022182</td>\n",
       "      <td>0.953294</td>\n",
       "      <td>1.013158</td>\n",
       "      <td>0.999894</td>\n",
       "      <td>0.981727</td>\n",
       "      <td>0.984384</td>\n",
       "      <td>1.005214</td>\n",
       "      <td>0.975692</td>\n",
       "      <td>...</td>\n",
       "      <td>0.973320</td>\n",
       "      <td>0.989056</td>\n",
       "      <td>0.996160</td>\n",
       "      <td>1.024729</td>\n",
       "      <td>1.035412</td>\n",
       "      <td>1.007914</td>\n",
       "      <td>0.987863</td>\n",
       "      <td>1.009750</td>\n",
       "      <td>1.018210</td>\n",
       "      <td>0.973258</td>\n",
       "    </tr>\n",
       "    <tr>\n",
       "      <th>...</th>\n",
       "      <td>...</td>\n",
       "      <td>...</td>\n",
       "      <td>...</td>\n",
       "      <td>...</td>\n",
       "      <td>...</td>\n",
       "      <td>...</td>\n",
       "      <td>...</td>\n",
       "      <td>...</td>\n",
       "      <td>...</td>\n",
       "      <td>...</td>\n",
       "      <td>...</td>\n",
       "      <td>...</td>\n",
       "      <td>...</td>\n",
       "      <td>...</td>\n",
       "      <td>...</td>\n",
       "      <td>...</td>\n",
       "      <td>...</td>\n",
       "      <td>...</td>\n",
       "      <td>...</td>\n",
       "      <td>...</td>\n",
       "      <td>...</td>\n",
       "    </tr>\n",
       "    <tr>\n",
       "      <th>7556</th>\n",
       "      <td>88.482344</td>\n",
       "      <td>53.851479</td>\n",
       "      <td>45.737064</td>\n",
       "      <td>59.262227</td>\n",
       "      <td>39.010579</td>\n",
       "      <td>19.815153</td>\n",
       "      <td>10.760161</td>\n",
       "      <td>11.393700</td>\n",
       "      <td>11.447801</td>\n",
       "      <td>25.864331</td>\n",
       "      <td>...</td>\n",
       "      <td>24.465831</td>\n",
       "      <td>11.008551</td>\n",
       "      <td>17.815272</td>\n",
       "      <td>116.943798</td>\n",
       "      <td>18.414662</td>\n",
       "      <td>49.213245</td>\n",
       "      <td>12.438179</td>\n",
       "      <td>28.951759</td>\n",
       "      <td>31.148725</td>\n",
       "      <td>37.559539</td>\n",
       "    </tr>\n",
       "    <tr>\n",
       "      <th>7557</th>\n",
       "      <td>88.487403</td>\n",
       "      <td>53.839362</td>\n",
       "      <td>44.896537</td>\n",
       "      <td>59.626121</td>\n",
       "      <td>38.019515</td>\n",
       "      <td>19.760285</td>\n",
       "      <td>10.756951</td>\n",
       "      <td>11.242579</td>\n",
       "      <td>11.436210</td>\n",
       "      <td>25.689378</td>\n",
       "      <td>...</td>\n",
       "      <td>24.338058</td>\n",
       "      <td>10.940189</td>\n",
       "      <td>17.933162</td>\n",
       "      <td>116.886588</td>\n",
       "      <td>18.323564</td>\n",
       "      <td>48.773442</td>\n",
       "      <td>12.470573</td>\n",
       "      <td>29.025491</td>\n",
       "      <td>30.486208</td>\n",
       "      <td>37.639232</td>\n",
       "    </tr>\n",
       "    <tr>\n",
       "      <th>7558</th>\n",
       "      <td>89.331997</td>\n",
       "      <td>54.079901</td>\n",
       "      <td>45.068701</td>\n",
       "      <td>60.047875</td>\n",
       "      <td>37.320605</td>\n",
       "      <td>19.950217</td>\n",
       "      <td>10.746870</td>\n",
       "      <td>11.081547</td>\n",
       "      <td>11.622067</td>\n",
       "      <td>26.154572</td>\n",
       "      <td>...</td>\n",
       "      <td>24.108462</td>\n",
       "      <td>11.046694</td>\n",
       "      <td>17.990984</td>\n",
       "      <td>117.395613</td>\n",
       "      <td>18.298478</td>\n",
       "      <td>49.673469</td>\n",
       "      <td>12.593189</td>\n",
       "      <td>28.955394</td>\n",
       "      <td>30.347938</td>\n",
       "      <td>37.686057</td>\n",
       "    </tr>\n",
       "    <tr>\n",
       "      <th>7559</th>\n",
       "      <td>90.714449</td>\n",
       "      <td>53.861812</td>\n",
       "      <td>45.120455</td>\n",
       "      <td>59.996222</td>\n",
       "      <td>37.915257</td>\n",
       "      <td>19.942891</td>\n",
       "      <td>10.673626</td>\n",
       "      <td>11.068002</td>\n",
       "      <td>11.580220</td>\n",
       "      <td>26.355997</td>\n",
       "      <td>...</td>\n",
       "      <td>23.929388</td>\n",
       "      <td>10.977728</td>\n",
       "      <td>18.097919</td>\n",
       "      <td>116.885985</td>\n",
       "      <td>18.700577</td>\n",
       "      <td>50.207813</td>\n",
       "      <td>12.618681</td>\n",
       "      <td>29.579283</td>\n",
       "      <td>31.001069</td>\n",
       "      <td>37.868376</td>\n",
       "    </tr>\n",
       "    <tr>\n",
       "      <th>7560</th>\n",
       "      <td>91.014840</td>\n",
       "      <td>53.981106</td>\n",
       "      <td>45.115650</td>\n",
       "      <td>60.348794</td>\n",
       "      <td>37.934520</td>\n",
       "      <td>19.779932</td>\n",
       "      <td>10.821217</td>\n",
       "      <td>11.289477</td>\n",
       "      <td>11.788197</td>\n",
       "      <td>26.137319</td>\n",
       "      <td>...</td>\n",
       "      <td>24.304196</td>\n",
       "      <td>11.056550</td>\n",
       "      <td>17.858032</td>\n",
       "      <td>115.835742</td>\n",
       "      <td>18.714982</td>\n",
       "      <td>50.632402</td>\n",
       "      <td>12.677393</td>\n",
       "      <td>29.405435</td>\n",
       "      <td>31.087012</td>\n",
       "      <td>37.624995</td>\n",
       "    </tr>\n",
       "  </tbody>\n",
       "</table>\n",
       "<p>7561 rows × 500 columns</p>\n",
       "</div>"
      ],
      "text/plain": [
       "            0          1          2          3          4          5    \\\n",
       "0      1.000000   1.000000   1.000000   1.000000   1.000000   1.000000   \n",
       "1      0.996333   1.006629   1.008136   0.985150   1.007972   1.012396   \n",
       "2      1.018428   1.022637   1.015510   0.960647   1.027335   1.007720   \n",
       "3      1.009455   1.002417   1.014112   0.958006   1.009239   1.016940   \n",
       "4      1.017207   0.998508   1.022182   0.953294   1.013158   0.999894   \n",
       "...         ...        ...        ...        ...        ...        ...   \n",
       "7556  88.482344  53.851479  45.737064  59.262227  39.010579  19.815153   \n",
       "7557  88.487403  53.839362  44.896537  59.626121  38.019515  19.760285   \n",
       "7558  89.331997  54.079901  45.068701  60.047875  37.320605  19.950217   \n",
       "7559  90.714449  53.861812  45.120455  59.996222  37.915257  19.942891   \n",
       "7560  91.014840  53.981106  45.115650  60.348794  37.934520  19.779932   \n",
       "\n",
       "            6          7          8          9    ...        490        491  \\\n",
       "0      1.000000   1.000000   1.000000   1.000000  ...   1.000000   1.000000   \n",
       "1      0.989089   0.990293   1.009466   1.005763  ...   0.978258   1.002021   \n",
       "2      0.983340   0.971419   1.008334   0.987544  ...   0.990780   0.999096   \n",
       "3      0.990925   0.970454   1.006547   0.985545  ...   0.977391   0.987987   \n",
       "4      0.981727   0.984384   1.005214   0.975692  ...   0.973320   0.989056   \n",
       "...         ...        ...        ...        ...  ...        ...        ...   \n",
       "7556  10.760161  11.393700  11.447801  25.864331  ...  24.465831  11.008551   \n",
       "7557  10.756951  11.242579  11.436210  25.689378  ...  24.338058  10.940189   \n",
       "7558  10.746870  11.081547  11.622067  26.154572  ...  24.108462  11.046694   \n",
       "7559  10.673626  11.068002  11.580220  26.355997  ...  23.929388  10.977728   \n",
       "7560  10.821217  11.289477  11.788197  26.137319  ...  24.304196  11.056550   \n",
       "\n",
       "            492         493        494        495        496        497  \\\n",
       "0      1.000000    1.000000   1.000000   1.000000   1.000000   1.000000   \n",
       "1      1.001752    1.020482   0.998335   1.011438   0.991186   1.006066   \n",
       "2      0.995817    1.015539   1.018180   0.994781   0.993421   1.002895   \n",
       "3      0.984357    1.020308   1.027253   0.999096   0.984470   0.995725   \n",
       "4      0.996160    1.024729   1.035412   1.007914   0.987863   1.009750   \n",
       "...         ...         ...        ...        ...        ...        ...   \n",
       "7556  17.815272  116.943798  18.414662  49.213245  12.438179  28.951759   \n",
       "7557  17.933162  116.886588  18.323564  48.773442  12.470573  29.025491   \n",
       "7558  17.990984  117.395613  18.298478  49.673469  12.593189  28.955394   \n",
       "7559  18.097919  116.885985  18.700577  50.207813  12.618681  29.579283   \n",
       "7560  17.858032  115.835742  18.714982  50.632402  12.677393  29.405435   \n",
       "\n",
       "            498        499  \n",
       "0      1.000000   1.000000  \n",
       "1      1.005429   0.991197  \n",
       "2      1.006562   0.988317  \n",
       "3      1.008889   0.988068  \n",
       "4      1.018210   0.973258  \n",
       "...         ...        ...  \n",
       "7556  31.148725  37.559539  \n",
       "7557  30.486208  37.639232  \n",
       "7558  30.347938  37.686057  \n",
       "7559  31.001069  37.868376  \n",
       "7560  31.087012  37.624995  \n",
       "\n",
       "[7561 rows x 500 columns]"
      ]
     },
     "execution_count": 31,
     "metadata": {},
     "output_type": "execute_result"
    }
   ],
   "source": [
    "# Run the Monte Carlo simulation to forecast 30 years cumulative returns\n",
    "thirty_year_simulation.calc_cumulative_return()\n"
   ]
  },
  {
   "cell_type": "code",
   "execution_count": 32,
   "metadata": {},
   "outputs": [
    {
     "data": {
      "text/plain": [
       "<AxesSubplot:title={'center':'500 Simulations of Cumulative Portfolio Return Trajectories Over the Next 7560 Trading Days.'}>"
      ]
     },
     "execution_count": 32,
     "metadata": {},
     "output_type": "execute_result"
    },
    {
     "data": {
      "image/png": "[encoded data removed]",
      "text/plain": [
       "<Figure size 432x288 with 1 Axes>"
      ]
     },
     "metadata": {
      "needs_background": "light"
     },
     "output_type": "display_data"
    }
   ],
   "source": [
    "# Visualize the 30-year Monte Carlo simulation by creating an\n",
    "# overlay line plot\n",
    "thirty_year_simulation.plot_simulation()\n"
   ]
  },
  {
   "cell_type": "markdown",
   "metadata": {},
   "source": [
    "#### Step 3: Plot the probability distribution of the Monte Carlo simulation."
   ]
  },
  {
   "cell_type": "code",
   "execution_count": 33,
   "metadata": {},
   "outputs": [
    {
     "data": {
      "text/plain": [
       "<AxesSubplot:title={'center':'Distribution of Final Cumuluative Returns Across All 500 Simulations'}, ylabel='Frequency'>"
      ]
     },
     "execution_count": 33,
     "metadata": {},
     "output_type": "execute_result"
    },
    {
     "data": {
      "image/png": "[encoded data removed]",
      "text/plain": [
       "<Figure size 432x288 with 1 Axes>"
      ]
     },
     "metadata": {
      "needs_background": "light"
     },
     "output_type": "display_data"
    }
   ],
   "source": [
    "# Visualize the probability distribution of the 30-year Monte Carlo simulation \n",
    "# by plotting a histogram\n",
    "thirty_year_simulation.plot_distribution()\n"
   ]
  },
  {
   "cell_type": "markdown",
   "metadata": {},
   "source": [
    "#### Step 4: Generate the summary statistics for the Monte Carlo simulation."
   ]
  },
  {
   "cell_type": "code",
   "execution_count": 34,
   "metadata": {},
   "outputs": [
    {
     "data": {
      "text/plain": [
       "count           500.000000\n",
       "mean             42.215839\n",
       "std              35.717517\n",
       "min               4.266077\n",
       "25%              18.410783\n",
       "50%              31.662074\n",
       "75%              52.579880\n",
       "max             283.464001\n",
       "95% CI Lower      7.229241\n",
       "95% CI Upper    145.380120\n",
       "Name: 7560, dtype: float64"
      ]
     },
     "execution_count": 34,
     "metadata": {},
     "output_type": "execute_result"
    }
   ],
   "source": [
    "# Generate summary statistics from the 30-year Monte Carlo simulation results\n",
    "# Save the results as a variable\n",
    "thirty_year_simulation_statistics = thirty_year_simulation.summarize_cumulative_return()\n",
    "\n",
    "# Review the 30-year Monte Carlo summary statistics\n",
    "thirty_year_simulation_statistics"
   ]
  },
  {
   "cell_type": "markdown",
   "metadata": {},
   "source": [
    "### Analyze the Retirement Portfolio Forecasts\n",
    "\n",
    "Using the current value of only the stock and bond portion of the member's portfolio and the summary statistics that you generated from the Monte Carlo simulation, answer the following question in your Jupyter notebook:\n",
    "\n",
    "-  What are the lower and upper bounds for the expected value of the portfolio with a 95% confidence interval?\n"
   ]
  },
  {
   "cell_type": "code",
   "execution_count": 35,
   "metadata": {},
   "outputs": [
    {
     "name": "stdout",
     "output_type": "stream",
     "text": [
      "The current balance of the stock and bond portfolio is $166,483.05\n"
     ]
    }
   ],
   "source": [
    "# Print the current balance of the stock and bond portion of the members portfolio\n",
    "print(f\"The current balance of the stock and bond portfolio is ${total_portfolio:,.2f}\")"
   ]
  },
  {
   "cell_type": "code",
   "execution_count": 36,
   "metadata": {},
   "outputs": [
    {
     "name": "stdout",
     "output_type": "stream",
     "text": [
      "There is a 95% chance that the portfolio over the next 30 years will end within in the range of $1,203,546.18 and $24,203,326.39.\n"
     ]
    }
   ],
   "source": [
    "# Use the lower and upper `95%` confidence intervals to calculate the range of the possible outcomes for the current stock/bond portfolio\n",
    "ci_lower_thirty_cumulative_return = round(thirty_year_simulation_statistics[8]*total_portfolio,2)\n",
    "ci_upper_thirty_cumulative_return = round(thirty_year_simulation_statistics[9]*total_portfolio,2)\n",
    "\n",
    "# Print the result of your calculations\n",
    "print(f\"There is a 95% chance that the portfolio\"\n",
    "      f\" over the next 30 years will end within in the range of\"\n",
    "      f\" ${ci_lower_thirty_cumulative_return:,.2f} and ${ci_upper_thirty_cumulative_return:,.2f}.\")\n"
   ]
  },
  {
   "cell_type": "markdown",
   "metadata": {},
   "source": [
    "### Forecast Cumulative Returns in 10 Years\n",
    "\n",
    "The CTO of the credit union is impressed with your work on these planning tools but wonders if 30 years is a long time to wait until retirement. So, your next task is to adjust the retirement portfolio and run a new Monte Carlo simulation to find out if the changes will allow members to retire earlier.\n",
    "\n",
    "For this new Monte Carlo simulation, do the following: \n",
    "\n",
    "- Forecast the cumulative returns for 10 years from now. Because of the shortened investment horizon (30 years to 10 years), the portfolio needs to invest more heavily in the riskier asset&mdash;that is, stock&mdash;to help accumulate wealth for retirement. \n",
    "\n",
    "- Adjust the weights of the retirement portfolio so that the composition for the Monte Carlo simulation consists of 20% bonds and 80% stocks. \n",
    "\n",
    "- Run the simulation over 500 samples, and use the same data that the API call to Alpaca generated.\n",
    "\n",
    "- Based on the new Monte Carlo simulation, answer the following questions in your Jupyter notebook:\n",
    "\n",
    "    - Using the current value of only the stock and bond portion of the member's portfolio and the summary statistics that you generated from the new Monte Carlo simulation, what are the lower and upper bounds for the expected value of the portfolio (with the new weights) with a 95% confidence interval?\n",
    "\n",
    "    - Will weighting the portfolio more heavily toward stocks allow the credit union members to retire after only 10 years?\n"
   ]
  },
  {
   "cell_type": "code",
   "execution_count": 37,
   "metadata": {},
   "outputs": [
    {
     "data": {
      "text/html": [
       "<div>\n",
       "<style scoped>\n",
       "    .dataframe tbody tr th:only-of-type {\n",
       "        vertical-align: middle;\n",
       "    }\n",
       "\n",
       "    .dataframe tbody tr th {\n",
       "        vertical-align: top;\n",
       "    }\n",
       "\n",
       "    .dataframe thead tr th {\n",
       "        text-align: left;\n",
       "    }\n",
       "\n",
       "    .dataframe thead tr:last-of-type th {\n",
       "        text-align: right;\n",
       "    }\n",
       "</style>\n",
       "<table border=\"1\" class=\"dataframe\">\n",
       "  <thead>\n",
       "    <tr>\n",
       "      <th></th>\n",
       "      <th colspan=\"6\" halign=\"left\">AGG</th>\n",
       "      <th colspan=\"6\" halign=\"left\">SPY</th>\n",
       "    </tr>\n",
       "    <tr>\n",
       "      <th></th>\n",
       "      <th>open</th>\n",
       "      <th>high</th>\n",
       "      <th>low</th>\n",
       "      <th>close</th>\n",
       "      <th>volume</th>\n",
       "      <th>daily_return</th>\n",
       "      <th>open</th>\n",
       "      <th>high</th>\n",
       "      <th>low</th>\n",
       "      <th>close</th>\n",
       "      <th>volume</th>\n",
       "      <th>daily_return</th>\n",
       "    </tr>\n",
       "    <tr>\n",
       "      <th>time</th>\n",
       "      <th></th>\n",
       "      <th></th>\n",
       "      <th></th>\n",
       "      <th></th>\n",
       "      <th></th>\n",
       "      <th></th>\n",
       "      <th></th>\n",
       "      <th></th>\n",
       "      <th></th>\n",
       "      <th></th>\n",
       "      <th></th>\n",
       "      <th></th>\n",
       "    </tr>\n",
       "  </thead>\n",
       "  <tbody>\n",
       "    <tr>\n",
       "      <th>2018-10-15 00:00:00-04:00</th>\n",
       "      <td>104.73</td>\n",
       "      <td>104.7835</td>\n",
       "      <td>104.6233</td>\n",
       "      <td>104.670</td>\n",
       "      <td>2502508.0</td>\n",
       "      <td>NaN</td>\n",
       "      <td>275.55</td>\n",
       "      <td>277.04</td>\n",
       "      <td>274.30</td>\n",
       "      <td>274.48</td>\n",
       "      <td>75385132</td>\n",
       "      <td>NaN</td>\n",
       "    </tr>\n",
       "    <tr>\n",
       "      <th>2018-10-16 00:00:00-04:00</th>\n",
       "      <td>104.69</td>\n",
       "      <td>104.7400</td>\n",
       "      <td>104.5800</td>\n",
       "      <td>104.740</td>\n",
       "      <td>5520646.0</td>\n",
       "      <td>0.000669</td>\n",
       "      <td>276.57</td>\n",
       "      <td>280.82</td>\n",
       "      <td>276.07</td>\n",
       "      <td>280.30</td>\n",
       "      <td>75057478</td>\n",
       "      <td>0.021204</td>\n",
       "    </tr>\n",
       "    <tr>\n",
       "      <th>2018-10-17 00:00:00-04:00</th>\n",
       "      <td>104.71</td>\n",
       "      <td>104.7700</td>\n",
       "      <td>104.5200</td>\n",
       "      <td>104.535</td>\n",
       "      <td>2608875.0</td>\n",
       "      <td>-0.001957</td>\n",
       "      <td>280.44</td>\n",
       "      <td>281.15</td>\n",
       "      <td>277.56</td>\n",
       "      <td>280.40</td>\n",
       "      <td>81740972</td>\n",
       "      <td>0.000357</td>\n",
       "    </tr>\n",
       "    <tr>\n",
       "      <th>2018-10-18 00:00:00-04:00</th>\n",
       "      <td>104.39</td>\n",
       "      <td>104.6195</td>\n",
       "      <td>104.3750</td>\n",
       "      <td>104.460</td>\n",
       "      <td>2687836.0</td>\n",
       "      <td>-0.000717</td>\n",
       "      <td>279.40</td>\n",
       "      <td>280.07</td>\n",
       "      <td>274.97</td>\n",
       "      <td>276.47</td>\n",
       "      <td>106592503</td>\n",
       "      <td>-0.014016</td>\n",
       "    </tr>\n",
       "    <tr>\n",
       "      <th>2018-10-19 00:00:00-04:00</th>\n",
       "      <td>104.47</td>\n",
       "      <td>104.5500</td>\n",
       "      <td>104.3400</td>\n",
       "      <td>104.370</td>\n",
       "      <td>2912850.0</td>\n",
       "      <td>-0.000862</td>\n",
       "      <td>277.12</td>\n",
       "      <td>279.30</td>\n",
       "      <td>275.47</td>\n",
       "      <td>276.19</td>\n",
       "      <td>86816021</td>\n",
       "      <td>-0.001013</td>\n",
       "    </tr>\n",
       "  </tbody>\n",
       "</table>\n",
       "</div>"
      ],
      "text/plain": [
       "                              AGG                                          \\\n",
       "                             open      high       low    close     volume   \n",
       "time                                                                        \n",
       "2018-10-15 00:00:00-04:00  104.73  104.7835  104.6233  104.670  2502508.0   \n",
       "2018-10-16 00:00:00-04:00  104.69  104.7400  104.5800  104.740  5520646.0   \n",
       "2018-10-17 00:00:00-04:00  104.71  104.7700  104.5200  104.535  2608875.0   \n",
       "2018-10-18 00:00:00-04:00  104.39  104.6195  104.3750  104.460  2687836.0   \n",
       "2018-10-19 00:00:00-04:00  104.47  104.5500  104.3400  104.370  2912850.0   \n",
       "\n",
       "                                           SPY                          \\\n",
       "                          daily_return    open    high     low   close   \n",
       "time                                                                     \n",
       "2018-10-15 00:00:00-04:00          NaN  275.55  277.04  274.30  274.48   \n",
       "2018-10-16 00:00:00-04:00     0.000669  276.57  280.82  276.07  280.30   \n",
       "2018-10-17 00:00:00-04:00    -0.001957  280.44  281.15  277.56  280.40   \n",
       "2018-10-18 00:00:00-04:00    -0.000717  279.40  280.07  274.97  276.47   \n",
       "2018-10-19 00:00:00-04:00    -0.000862  277.12  279.30  275.47  276.19   \n",
       "\n",
       "                                                   \n",
       "                              volume daily_return  \n",
       "time                                               \n",
       "2018-10-15 00:00:00-04:00   75385132          NaN  \n",
       "2018-10-16 00:00:00-04:00   75057478     0.021204  \n",
       "2018-10-17 00:00:00-04:00   81740972     0.000357  \n",
       "2018-10-18 00:00:00-04:00  106592503    -0.014016  \n",
       "2018-10-19 00:00:00-04:00   86816021    -0.001013  "
      ]
     },
     "execution_count": 37,
     "metadata": {},
     "output_type": "execute_result"
    }
   ],
   "source": [
    "# Configure a Monte Carlo simulation to forecast 10 years cumulative returns\n",
    "# The weights should be split 20% to AGG and 80% to SPY.\n",
    "# Run 500 samples.\n",
    "ten_year_simulation = MCSimulation(\n",
    "    portfolio_data=ticker_data_3y,\n",
    "    weights=[0.20, 0.80],\n",
    "    num_simulation=500,\n",
    "    num_trading_days=252*10,\n",
    ")\n",
    "\n",
    "\n",
    "# Review the simulation input data\n",
    "ten_year_simulation.portfolio_data.head()\n"
   ]
  },
  {
   "cell_type": "code",
   "execution_count": 38,
   "metadata": {},
   "outputs": [
    {
     "name": "stdout",
     "output_type": "stream",
     "text": [
      "Running Monte Carlo simulation number 0.\n",
      "Running Monte Carlo simulation number 10.\n",
      "Running Monte Carlo simulation number 20.\n",
      "Running Monte Carlo simulation number 30.\n",
      "Running Monte Carlo simulation number 40.\n",
      "Running Monte Carlo simulation number 50.\n",
      "Running Monte Carlo simulation number 60.\n",
      "Running Monte Carlo simulation number 70.\n",
      "Running Monte Carlo simulation number 80.\n",
      "Running Monte Carlo simulation number 90.\n",
      "Running Monte Carlo simulation number 100.\n",
      "Running Monte Carlo simulation number 110.\n",
      "Running Monte Carlo simulation number 120.\n",
      "Running Monte Carlo simulation number 130.\n",
      "Running Monte Carlo simulation number 140.\n",
      "Running Monte Carlo simulation number 150.\n",
      "Running Monte Carlo simulation number 160.\n",
      "Running Monte Carlo simulation number 170.\n",
      "Running Monte Carlo simulation number 180.\n",
      "Running Monte Carlo simulation number 190.\n",
      "Running Monte Carlo simulation number 200.\n",
      "Running Monte Carlo simulation number 210.\n",
      "Running Monte Carlo simulation number 220.\n",
      "Running Monte Carlo simulation number 230.\n",
      "Running Monte Carlo simulation number 240.\n",
      "Running Monte Carlo simulation number 250.\n",
      "Running Monte Carlo simulation number 260.\n",
      "Running Monte Carlo simulation number 270.\n",
      "Running Monte Carlo simulation number 280.\n",
      "Running Monte Carlo simulation number 290.\n",
      "Running Monte Carlo simulation number 300.\n",
      "Running Monte Carlo simulation number 310.\n",
      "Running Monte Carlo simulation number 320.\n",
      "Running Monte Carlo simulation number 330.\n",
      "Running Monte Carlo simulation number 340.\n",
      "Running Monte Carlo simulation number 350.\n",
      "Running Monte Carlo simulation number 360.\n",
      "Running Monte Carlo simulation number 370.\n",
      "Running Monte Carlo simulation number 380.\n",
      "Running Monte Carlo simulation number 390.\n",
      "Running Monte Carlo simulation number 400.\n",
      "Running Monte Carlo simulation number 410.\n",
      "Running Monte Carlo simulation number 420.\n",
      "Running Monte Carlo simulation number 430.\n",
      "Running Monte Carlo simulation number 440.\n",
      "Running Monte Carlo simulation number 450.\n",
      "Running Monte Carlo simulation number 460.\n",
      "Running Monte Carlo simulation number 470.\n",
      "Running Monte Carlo simulation number 480.\n",
      "Running Monte Carlo simulation number 490.\n"
     ]
    },
    {
     "data": {
      "text/html": [
       "<div>\n",
       "<style scoped>\n",
       "    .dataframe tbody tr th:only-of-type {\n",
       "        vertical-align: middle;\n",
       "    }\n",
       "\n",
       "    .dataframe tbody tr th {\n",
       "        vertical-align: top;\n",
       "    }\n",
       "\n",
       "    .dataframe thead th {\n",
       "        text-align: right;\n",
       "    }\n",
       "</style>\n",
       "<table border=\"1\" class=\"dataframe\">\n",
       "  <thead>\n",
       "    <tr style=\"text-align: right;\">\n",
       "      <th></th>\n",
       "      <th>0</th>\n",
       "      <th>1</th>\n",
       "      <th>2</th>\n",
       "      <th>3</th>\n",
       "      <th>4</th>\n",
       "      <th>5</th>\n",
       "      <th>6</th>\n",
       "      <th>7</th>\n",
       "      <th>8</th>\n",
       "      <th>9</th>\n",
       "      <th>...</th>\n",
       "      <th>490</th>\n",
       "      <th>491</th>\n",
       "      <th>492</th>\n",
       "      <th>493</th>\n",
       "      <th>494</th>\n",
       "      <th>495</th>\n",
       "      <th>496</th>\n",
       "      <th>497</th>\n",
       "      <th>498</th>\n",
       "      <th>499</th>\n",
       "    </tr>\n",
       "  </thead>\n",
       "  <tbody>\n",
       "    <tr>\n",
       "      <th>0</th>\n",
       "      <td>1.000000</td>\n",
       "      <td>1.000000</td>\n",
       "      <td>1.000000</td>\n",
       "      <td>1.000000</td>\n",
       "      <td>1.000000</td>\n",
       "      <td>1.000000</td>\n",
       "      <td>1.000000</td>\n",
       "      <td>1.000000</td>\n",
       "      <td>1.000000</td>\n",
       "      <td>1.000000</td>\n",
       "      <td>...</td>\n",
       "      <td>1.000000</td>\n",
       "      <td>1.000000</td>\n",
       "      <td>1.000000</td>\n",
       "      <td>1.000000</td>\n",
       "      <td>1.000000</td>\n",
       "      <td>1.000000</td>\n",
       "      <td>1.000000</td>\n",
       "      <td>1.000000</td>\n",
       "      <td>1.000000</td>\n",
       "      <td>1.000000</td>\n",
       "    </tr>\n",
       "    <tr>\n",
       "      <th>1</th>\n",
       "      <td>0.991847</td>\n",
       "      <td>1.004651</td>\n",
       "      <td>1.006512</td>\n",
       "      <td>0.996808</td>\n",
       "      <td>0.979710</td>\n",
       "      <td>1.015982</td>\n",
       "      <td>1.009465</td>\n",
       "      <td>1.000814</td>\n",
       "      <td>0.992045</td>\n",
       "      <td>0.990545</td>\n",
       "      <td>...</td>\n",
       "      <td>1.006870</td>\n",
       "      <td>0.986340</td>\n",
       "      <td>1.012381</td>\n",
       "      <td>0.986094</td>\n",
       "      <td>1.009926</td>\n",
       "      <td>0.998001</td>\n",
       "      <td>1.014847</td>\n",
       "      <td>1.011251</td>\n",
       "      <td>1.008261</td>\n",
       "      <td>1.000594</td>\n",
       "    </tr>\n",
       "    <tr>\n",
       "      <th>2</th>\n",
       "      <td>1.000881</td>\n",
       "      <td>1.012775</td>\n",
       "      <td>1.005902</td>\n",
       "      <td>0.993084</td>\n",
       "      <td>0.981335</td>\n",
       "      <td>1.020820</td>\n",
       "      <td>1.013300</td>\n",
       "      <td>1.017624</td>\n",
       "      <td>1.003976</td>\n",
       "      <td>0.978212</td>\n",
       "      <td>...</td>\n",
       "      <td>1.022277</td>\n",
       "      <td>1.004001</td>\n",
       "      <td>1.007908</td>\n",
       "      <td>0.983700</td>\n",
       "      <td>0.996575</td>\n",
       "      <td>0.998403</td>\n",
       "      <td>1.031155</td>\n",
       "      <td>1.013727</td>\n",
       "      <td>1.019272</td>\n",
       "      <td>1.009555</td>\n",
       "    </tr>\n",
       "    <tr>\n",
       "      <th>3</th>\n",
       "      <td>1.007781</td>\n",
       "      <td>0.999022</td>\n",
       "      <td>1.006311</td>\n",
       "      <td>0.995853</td>\n",
       "      <td>0.988809</td>\n",
       "      <td>1.010116</td>\n",
       "      <td>1.007152</td>\n",
       "      <td>1.014528</td>\n",
       "      <td>0.985237</td>\n",
       "      <td>0.971406</td>\n",
       "      <td>...</td>\n",
       "      <td>1.017603</td>\n",
       "      <td>1.005761</td>\n",
       "      <td>0.999251</td>\n",
       "      <td>0.977552</td>\n",
       "      <td>0.990112</td>\n",
       "      <td>1.002532</td>\n",
       "      <td>1.039284</td>\n",
       "      <td>1.013522</td>\n",
       "      <td>1.028228</td>\n",
       "      <td>1.010905</td>\n",
       "    </tr>\n",
       "    <tr>\n",
       "      <th>4</th>\n",
       "      <td>1.028124</td>\n",
       "      <td>0.992109</td>\n",
       "      <td>1.019566</td>\n",
       "      <td>0.993967</td>\n",
       "      <td>1.002602</td>\n",
       "      <td>1.015333</td>\n",
       "      <td>0.998362</td>\n",
       "      <td>1.009709</td>\n",
       "      <td>0.981080</td>\n",
       "      <td>0.962484</td>\n",
       "      <td>...</td>\n",
       "      <td>0.999134</td>\n",
       "      <td>1.010979</td>\n",
       "      <td>0.991932</td>\n",
       "      <td>0.954129</td>\n",
       "      <td>0.973507</td>\n",
       "      <td>0.999248</td>\n",
       "      <td>1.045477</td>\n",
       "      <td>1.035514</td>\n",
       "      <td>1.039767</td>\n",
       "      <td>1.014472</td>\n",
       "    </tr>\n",
       "    <tr>\n",
       "      <th>...</th>\n",
       "      <td>...</td>\n",
       "      <td>...</td>\n",
       "      <td>...</td>\n",
       "      <td>...</td>\n",
       "      <td>...</td>\n",
       "      <td>...</td>\n",
       "      <td>...</td>\n",
       "      <td>...</td>\n",
       "      <td>...</td>\n",
       "      <td>...</td>\n",
       "      <td>...</td>\n",
       "      <td>...</td>\n",
       "      <td>...</td>\n",
       "      <td>...</td>\n",
       "      <td>...</td>\n",
       "      <td>...</td>\n",
       "      <td>...</td>\n",
       "      <td>...</td>\n",
       "      <td>...</td>\n",
       "      <td>...</td>\n",
       "      <td>...</td>\n",
       "    </tr>\n",
       "    <tr>\n",
       "      <th>2516</th>\n",
       "      <td>6.684686</td>\n",
       "      <td>2.879664</td>\n",
       "      <td>2.631068</td>\n",
       "      <td>4.524999</td>\n",
       "      <td>14.637441</td>\n",
       "      <td>5.324800</td>\n",
       "      <td>9.656166</td>\n",
       "      <td>4.509499</td>\n",
       "      <td>2.867106</td>\n",
       "      <td>3.500295</td>\n",
       "      <td>...</td>\n",
       "      <td>7.498927</td>\n",
       "      <td>2.364925</td>\n",
       "      <td>1.954220</td>\n",
       "      <td>3.003297</td>\n",
       "      <td>4.827756</td>\n",
       "      <td>9.322568</td>\n",
       "      <td>2.097391</td>\n",
       "      <td>2.388693</td>\n",
       "      <td>6.120298</td>\n",
       "      <td>3.904099</td>\n",
       "    </tr>\n",
       "    <tr>\n",
       "      <th>2517</th>\n",
       "      <td>6.587127</td>\n",
       "      <td>2.911019</td>\n",
       "      <td>2.649173</td>\n",
       "      <td>4.644141</td>\n",
       "      <td>14.919685</td>\n",
       "      <td>5.370028</td>\n",
       "      <td>9.846793</td>\n",
       "      <td>4.613483</td>\n",
       "      <td>2.886996</td>\n",
       "      <td>3.584629</td>\n",
       "      <td>...</td>\n",
       "      <td>7.605960</td>\n",
       "      <td>2.352235</td>\n",
       "      <td>1.933519</td>\n",
       "      <td>2.988797</td>\n",
       "      <td>4.755694</td>\n",
       "      <td>9.260204</td>\n",
       "      <td>2.084848</td>\n",
       "      <td>2.407016</td>\n",
       "      <td>6.034879</td>\n",
       "      <td>3.950253</td>\n",
       "    </tr>\n",
       "    <tr>\n",
       "      <th>2518</th>\n",
       "      <td>6.537517</td>\n",
       "      <td>2.870030</td>\n",
       "      <td>2.615794</td>\n",
       "      <td>4.675744</td>\n",
       "      <td>14.888975</td>\n",
       "      <td>5.308915</td>\n",
       "      <td>9.853741</td>\n",
       "      <td>4.623678</td>\n",
       "      <td>2.883500</td>\n",
       "      <td>3.611470</td>\n",
       "      <td>...</td>\n",
       "      <td>7.583436</td>\n",
       "      <td>2.369201</td>\n",
       "      <td>1.899426</td>\n",
       "      <td>2.922846</td>\n",
       "      <td>4.785426</td>\n",
       "      <td>9.264020</td>\n",
       "      <td>2.075193</td>\n",
       "      <td>2.424118</td>\n",
       "      <td>6.054894</td>\n",
       "      <td>4.007663</td>\n",
       "    </tr>\n",
       "    <tr>\n",
       "      <th>2519</th>\n",
       "      <td>6.487165</td>\n",
       "      <td>2.888922</td>\n",
       "      <td>2.641628</td>\n",
       "      <td>4.699682</td>\n",
       "      <td>15.155358</td>\n",
       "      <td>5.366906</td>\n",
       "      <td>9.855487</td>\n",
       "      <td>4.654006</td>\n",
       "      <td>2.871137</td>\n",
       "      <td>3.593984</td>\n",
       "      <td>...</td>\n",
       "      <td>7.605167</td>\n",
       "      <td>2.387585</td>\n",
       "      <td>1.900090</td>\n",
       "      <td>2.943914</td>\n",
       "      <td>4.733455</td>\n",
       "      <td>9.316504</td>\n",
       "      <td>2.094413</td>\n",
       "      <td>2.471986</td>\n",
       "      <td>5.984225</td>\n",
       "      <td>4.056765</td>\n",
       "    </tr>\n",
       "    <tr>\n",
       "      <th>2520</th>\n",
       "      <td>6.419204</td>\n",
       "      <td>2.888349</td>\n",
       "      <td>2.620035</td>\n",
       "      <td>4.814205</td>\n",
       "      <td>15.092871</td>\n",
       "      <td>5.436200</td>\n",
       "      <td>10.002847</td>\n",
       "      <td>4.714700</td>\n",
       "      <td>2.843308</td>\n",
       "      <td>3.659375</td>\n",
       "      <td>...</td>\n",
       "      <td>7.563758</td>\n",
       "      <td>2.425377</td>\n",
       "      <td>1.911465</td>\n",
       "      <td>2.946150</td>\n",
       "      <td>4.644545</td>\n",
       "      <td>9.267423</td>\n",
       "      <td>2.137729</td>\n",
       "      <td>2.476735</td>\n",
       "      <td>5.901678</td>\n",
       "      <td>4.069021</td>\n",
       "    </tr>\n",
       "  </tbody>\n",
       "</table>\n",
       "<p>2521 rows × 500 columns</p>\n",
       "</div>"
      ],
      "text/plain": [
       "           0         1         2         3          4         5          6    \\\n",
       "0     1.000000  1.000000  1.000000  1.000000   1.000000  1.000000   1.000000   \n",
       "1     0.991847  1.004651  1.006512  0.996808   0.979710  1.015982   1.009465   \n",
       "2     1.000881  1.012775  1.005902  0.993084   0.981335  1.020820   1.013300   \n",
       "3     1.007781  0.999022  1.006311  0.995853   0.988809  1.010116   1.007152   \n",
       "4     1.028124  0.992109  1.019566  0.993967   1.002602  1.015333   0.998362   \n",
       "...        ...       ...       ...       ...        ...       ...        ...   \n",
       "2516  6.684686  2.879664  2.631068  4.524999  14.637441  5.324800   9.656166   \n",
       "2517  6.587127  2.911019  2.649173  4.644141  14.919685  5.370028   9.846793   \n",
       "2518  6.537517  2.870030  2.615794  4.675744  14.888975  5.308915   9.853741   \n",
       "2519  6.487165  2.888922  2.641628  4.699682  15.155358  5.366906   9.855487   \n",
       "2520  6.419204  2.888349  2.620035  4.814205  15.092871  5.436200  10.002847   \n",
       "\n",
       "           7         8         9    ...       490       491       492  \\\n",
       "0     1.000000  1.000000  1.000000  ...  1.000000  1.000000  1.000000   \n",
       "1     1.000814  0.992045  0.990545  ...  1.006870  0.986340  1.012381   \n",
       "2     1.017624  1.003976  0.978212  ...  1.022277  1.004001  1.007908   \n",
       "3     1.014528  0.985237  0.971406  ...  1.017603  1.005761  0.999251   \n",
       "4     1.009709  0.981080  0.962484  ...  0.999134  1.010979  0.991932   \n",
       "...        ...       ...       ...  ...       ...       ...       ...   \n",
       "2516  4.509499  2.867106  3.500295  ...  7.498927  2.364925  1.954220   \n",
       "2517  4.613483  2.886996  3.584629  ...  7.605960  2.352235  1.933519   \n",
       "2518  4.623678  2.883500  3.611470  ...  7.583436  2.369201  1.899426   \n",
       "2519  4.654006  2.871137  3.593984  ...  7.605167  2.387585  1.900090   \n",
       "2520  4.714700  2.843308  3.659375  ...  7.563758  2.425377  1.911465   \n",
       "\n",
       "           493       494       495       496       497       498       499  \n",
       "0     1.000000  1.000000  1.000000  1.000000  1.000000  1.000000  1.000000  \n",
       "1     0.986094  1.009926  0.998001  1.014847  1.011251  1.008261  1.000594  \n",
       "2     0.983700  0.996575  0.998403  1.031155  1.013727  1.019272  1.009555  \n",
       "3     0.977552  0.990112  1.002532  1.039284  1.013522  1.028228  1.010905  \n",
       "4     0.954129  0.973507  0.999248  1.045477  1.035514  1.039767  1.014472  \n",
       "...        ...       ...       ...       ...       ...       ...       ...  \n",
       "2516  3.003297  4.827756  9.322568  2.097391  2.388693  6.120298  3.904099  \n",
       "2517  2.988797  4.755694  9.260204  2.084848  2.407016  6.034879  3.950253  \n",
       "2518  2.922846  4.785426  9.264020  2.075193  2.424118  6.054894  4.007663  \n",
       "2519  2.943914  4.733455  9.316504  2.094413  2.471986  5.984225  4.056765  \n",
       "2520  2.946150  4.644545  9.267423  2.137729  2.476735  5.901678  4.069021  \n",
       "\n",
       "[2521 rows x 500 columns]"
      ]
     },
     "execution_count": 38,
     "metadata": {},
     "output_type": "execute_result"
    }
   ],
   "source": [
    "# Run the Monte Carlo simulation to forecast 10 years cumulative returns\n",
    "ten_year_simulation.calc_cumulative_return()\n"
   ]
  },
  {
   "cell_type": "code",
   "execution_count": 39,
   "metadata": {},
   "outputs": [
    {
     "data": {
      "text/plain": [
       "<AxesSubplot:title={'center':'500 Simulations of Cumulative Portfolio Return Trajectories Over the Next 2520 Trading Days.'}>"
      ]
     },
     "execution_count": 39,
     "metadata": {},
     "output_type": "execute_result"
    },
    {
     "data": {
      "image/png": "[encoded data removed]",
      "text/plain": [
       "<Figure size 432x288 with 1 Axes>"
      ]
     },
     "metadata": {
      "needs_background": "light"
     },
     "output_type": "display_data"
    }
   ],
   "source": [
    "# Visualize the 10-year Monte Carlo simulation by creating an\n",
    "# overlay line plot\n",
    "ten_year_simulation.plot_simulation()\n"
   ]
  },
  {
   "cell_type": "code",
   "execution_count": 40,
   "metadata": {},
   "outputs": [
    {
     "data": {
      "text/plain": [
       "<AxesSubplot:title={'center':'Distribution of Final Cumuluative Returns Across All 500 Simulations'}, ylabel='Frequency'>"
      ]
     },
     "execution_count": 40,
     "metadata": {},
     "output_type": "execute_result"
    },
    {
     "data": {
      "image/png": "[encoded data removed]",
      "text/plain": [
       "<Figure size 432x288 with 1 Axes>"
      ]
     },
     "metadata": {
      "needs_background": "light"
     },
     "output_type": "display_data"
    }
   ],
   "source": [
    "# Visualize the probability distribution of the 10-year Monte Carlo simulation \n",
    "# by plotting a histogram\n",
    "ten_year_simulation.plot_distribution()\n"
   ]
  },
  {
   "cell_type": "code",
   "execution_count": 41,
   "metadata": {},
   "outputs": [
    {
     "data": {
      "text/plain": [
       "count           500.000000\n",
       "mean              4.483849\n",
       "std               2.493274\n",
       "min               0.928297\n",
       "25%               2.704485\n",
       "50%               3.837475\n",
       "75%               5.859785\n",
       "max              16.048211\n",
       "95% CI Lower      1.356268\n",
       "95% CI Upper     10.572898\n",
       "Name: 2520, dtype: float64"
      ]
     },
     "execution_count": 41,
     "metadata": {},
     "output_type": "execute_result"
    }
   ],
   "source": [
    "# Generate summary statistics from the 10-year Monte Carlo simulation results\n",
    "# Save the results as a variable\n",
    "ten_year_simulation_statistics = ten_year_simulation.summarize_cumulative_return()\n",
    "\n",
    "\n",
    "# Review the 10-year Monte Carlo summary statistics\n",
    "ten_year_simulation_statistics"
   ]
  },
  {
   "cell_type": "markdown",
   "metadata": {},
   "source": [
    "### Answer the following questions:"
   ]
  },
  {
   "cell_type": "markdown",
   "metadata": {},
   "source": [
    "#### Question: Using the current value of only the stock and bond portion of the member's portfolio and the summary statistics that you generated from the new Monte Carlo simulation, what are the lower and upper bounds for the expected value of the portfolio (with the new weights) with a 95% confidence interval?"
   ]
  },
  {
   "cell_type": "code",
   "execution_count": 42,
   "metadata": {},
   "outputs": [
    {
     "name": "stdout",
     "output_type": "stream",
     "text": [
      "The current balance of the stock and bond portfolio is $166,483.05\n"
     ]
    }
   ],
   "source": [
    "# Print the current balance of the stock and bond portion of the members portfolio\n",
    "print(f\"The current balance of the stock and bond portfolio is ${total_portfolio:,.2f}\")\n"
   ]
  },
  {
   "cell_type": "code",
   "execution_count": 43,
   "metadata": {},
   "outputs": [
    {
     "name": "stdout",
     "output_type": "stream",
     "text": [
      "There is a 95% chance that the portfolio over the next 10 years will end within in the range of $225,795.59 and $1,760,208.37.\n"
     ]
    }
   ],
   "source": [
    "# Use the lower and upper `95%` confidence intervals to calculate the range of the possible outcomes for the current stock/bond portfolio\n",
    "ci_lower_ten_cumulative_return = round(ten_year_simulation_statistics[8]*total_portfolio,2)\n",
    "ci_upper_ten_cumulative_return = round(ten_year_simulation_statistics[9]*total_portfolio,2)\n",
    "\n",
    "# Print the result of your calculations\n",
    "print(f\"There is a 95% chance that the portfolio\"\n",
    "      f\" over the next 10 years will end within in the range of\"\n",
    "      f\" ${ci_lower_ten_cumulative_return:,.2f} and ${ci_upper_ten_cumulative_return:,.2f}.\")\n",
    "\n"
   ]
  },
  {
   "cell_type": "markdown",
   "metadata": {},
   "source": [
    "#### Question: Will weighting the portfolio more heavily to stocks allow the credit union members to retire after only 10 years?"
   ]
  },
  {
   "cell_type": "raw",
   "metadata": {},
   "source": [
    "**Answer** The 10 year portfolio on the lower side will not be sufficient to retire."
   ]
  },
  {
   "cell_type": "code",
   "execution_count": null,
   "metadata": {},
   "outputs": [],
   "source": []
  }
 ],
 "metadata": {
  "kernelspec": {
   "display_name": "Python 3",
   "language": "python",
   "name": "python3"
  },
  "language_info": {
   "codemirror_mode": {
    "name": "ipython",
    "version": 3
   },
   "file_extension": ".py",
   "mimetype": "text/x-python",
   "name": "python",
   "nbconvert_exporter": "python",
   "pygments_lexer": "ipython3",
   "version": "3.8.8"
  }
 },
 "nbformat": 4,
 "nbformat_minor": 4
}
